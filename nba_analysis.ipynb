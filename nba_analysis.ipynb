{
 "cells": [
  {
   "cell_type": "markdown",
   "id": "9472b944",
   "metadata": {},
   "source": [
    "<img src=\"imgs/UNIFOR_logo1b.png\" width=\"400\">\n",
    "<br>\n",
    "<b>\n",
    "<font size=\"6\" face=\"arial\" color=\"blue\">\n",
    "    MBA em Gestão Ciência de Dados\n",
    "</font>\n",
    "</b>\n",
    "<br>\n",
    "<b>\n",
    "<font size=\"4\" face=\"arial\">\n",
    "    Disciplina: Introdução ao R\n",
    "</font>\n",
    "</b>\n",
    "\n",
    "Orientador: Prof. Me. Ricardo Carubbi <br>\n",
    "\n",
    "**TRABALHO 2** Análise Exploratória de Dados <br>\n",
    "\n",
    "**link do video:** xxxxxxxxxxxxxxxxxxxxxxxxx\n",
    "\n",
    "**Grupo**:\n",
    "1. Nome: Pedro Roberto Lemos Nogueira Rela| Mat: 2518486 <br>"
   ]
  },
  {
   "cell_type": "markdown",
   "id": "7f674cb2",
   "metadata": {},
   "source": [
    "1. Carregamento dos Dados"
   ]
  },
  {
   "cell_type": "code",
   "execution_count": null,
   "id": "8f48dd64",
   "metadata": {
    "vscode": {
     "languageId": "r"
    }
   },
   "outputs": [],
   "source": [
    "#Realiza a instalação do pacote readr para poder abrir o arquivo.\n",
    "#install.packages(\"readr\")"
   ]
  },
  {
   "cell_type": "code",
   "execution_count": null,
   "id": "a9cb5059",
   "metadata": {
    "vscode": {
     "languageId": "r"
    }
   },
   "outputs": [
    {
     "data": {
      "text/html": [
       "<table class=\"dataframe\">\n",
       "<caption>A data.frame: 5 × 55</caption>\n",
       "<thead>\n",
       "\t<tr><th></th><th scope=col>year</th><th scope=col>name</th><th scope=col>playerId</th><th scope=col>playerSlug</th><th scope=col>positionId</th><th scope=col>teamId</th><th scope=col>status</th><th scope=col>gamesPlayed</th><th scope=col>avgMinutes</th><th scope=col>avgFouls</th><th scope=col>⋯</th><th scope=col>birthdate</th><th scope=col>college</th><th scope=col>draftinfo</th><th scope=col>birthplace</th><th scope=col>team</th><th scope=col>experience</th><th scope=col>rankingSalary</th><th scope=col>salary</th><th scope=col>weight</th><th scope=col>height</th></tr>\n",
       "\t<tr><th></th><th scope=col>&lt;chr&gt;</th><th scope=col>&lt;chr&gt;</th><th scope=col>&lt;chr&gt;</th><th scope=col>&lt;chr&gt;</th><th scope=col>&lt;chr&gt;</th><th scope=col>&lt;chr&gt;</th><th scope=col>&lt;chr&gt;</th><th scope=col>&lt;chr&gt;</th><th scope=col>&lt;chr&gt;</th><th scope=col>&lt;chr&gt;</th><th scope=col>⋯</th><th scope=col>&lt;chr&gt;</th><th scope=col>&lt;chr&gt;</th><th scope=col>&lt;chr&gt;</th><th scope=col>&lt;chr&gt;</th><th scope=col>&lt;chr&gt;</th><th scope=col>&lt;chr&gt;</th><th scope=col>&lt;chr&gt;</th><th scope=col>&lt;chr&gt;</th><th scope=col>&lt;chr&gt;</th><th scope=col>&lt;chr&gt;</th></tr>\n",
       "</thead>\n",
       "<tbody>\n",
       "\t<tr><th scope=row>1</th><td>1999</td><td>Allen Iverson</td><td>366</td><td>allen-iverson</td><td>SG</td><td>PHI</td><td>inactive</td><td>48.0</td><td>41.458332</td><td>2.0416667</td><td>⋯</td><td>6/7/1975</td><td>Georgetown</td><td>1996: Rd 1, Pk 1 (PHI)</td><td>Hampton, VA</td><td></td><td></td><td>15</td><td>$9,000,000 </td><td></td><td></td></tr>\n",
       "\t<tr><th scope=row>2</th><td>2000</td><td>Allen Iverson</td><td>366</td><td>allen-iverson</td><td>SG</td><td>PHI</td><td>inactive</td><td>70.0</td><td>40.75714 </td><td>2.3142858</td><td>⋯</td><td>6/7/1975</td><td>Georgetown</td><td>1996: Rd 1, Pk 1 (PHI)</td><td>Hampton, VA</td><td></td><td></td><td>27</td><td>$10,125,000</td><td></td><td></td></tr>\n",
       "\t<tr><th scope=row>3</th><td>2001</td><td>Allen Iverson</td><td>366</td><td>allen-iverson</td><td>SG</td><td>PHI</td><td>inactive</td><td>71.0</td><td>41.957745</td><td>2.0704226</td><td>⋯</td><td>6/7/1975</td><td>Georgetown</td><td>1996: Rd 1, Pk 1 (PHI)</td><td>Hampton, VA</td><td></td><td></td><td>17</td><td>$11,250,000</td><td></td><td></td></tr>\n",
       "\t<tr><th scope=row>4</th><td>2002</td><td>Allen Iverson</td><td>366</td><td>allen-iverson</td><td>SG</td><td>PHI</td><td>inactive</td><td>60.0</td><td>43.7     </td><td>1.7      </td><td>⋯</td><td>6/7/1975</td><td>Georgetown</td><td>1996: Rd 1, Pk 1 (PHI)</td><td>Hampton, VA</td><td></td><td></td><td>14</td><td>$12,375,000</td><td></td><td></td></tr>\n",
       "\t<tr><th scope=row>5</th><td>2003</td><td>Allen Iverson</td><td>366</td><td>allen-iverson</td><td>SG</td><td>PHI</td><td>inactive</td><td>82.0</td><td>42.5     </td><td>1.8170732</td><td>⋯</td><td>6/7/1975</td><td>Georgetown</td><td>1996: Rd 1, Pk 1 (PHI)</td><td>Hampton, VA</td><td></td><td></td><td>11</td><td>$13,500,000</td><td></td><td></td></tr>\n",
       "</tbody>\n",
       "</table>\n"
      ],
      "text/latex": [
       "A data.frame: 5 × 55\n",
       "\\begin{tabular}{r|lllllllllllllllllllll}\n",
       "  & year & name & playerId & playerSlug & positionId & teamId & status & gamesPlayed & avgMinutes & avgFouls & ⋯ & birthdate & college & draftinfo & birthplace & team & experience & rankingSalary & salary & weight & height\\\\\n",
       "  & <chr> & <chr> & <chr> & <chr> & <chr> & <chr> & <chr> & <chr> & <chr> & <chr> & ⋯ & <chr> & <chr> & <chr> & <chr> & <chr> & <chr> & <chr> & <chr> & <chr> & <chr>\\\\\n",
       "\\hline\n",
       "\t1 & 1999 & Allen Iverson & 366 & allen-iverson & SG & PHI & inactive & 48.0 & 41.458332 & 2.0416667 & ⋯ & 6/7/1975 & Georgetown & 1996: Rd 1, Pk 1 (PHI) & Hampton, VA &  &  & 15 & \\$9,000,000  &  & \\\\\n",
       "\t2 & 2000 & Allen Iverson & 366 & allen-iverson & SG & PHI & inactive & 70.0 & 40.75714  & 2.3142858 & ⋯ & 6/7/1975 & Georgetown & 1996: Rd 1, Pk 1 (PHI) & Hampton, VA &  &  & 27 & \\$10,125,000 &  & \\\\\n",
       "\t3 & 2001 & Allen Iverson & 366 & allen-iverson & SG & PHI & inactive & 71.0 & 41.957745 & 2.0704226 & ⋯ & 6/7/1975 & Georgetown & 1996: Rd 1, Pk 1 (PHI) & Hampton, VA &  &  & 17 & \\$11,250,000 &  & \\\\\n",
       "\t4 & 2002 & Allen Iverson & 366 & allen-iverson & SG & PHI & inactive & 60.0 & 43.7      & 1.7       & ⋯ & 6/7/1975 & Georgetown & 1996: Rd 1, Pk 1 (PHI) & Hampton, VA &  &  & 14 & \\$12,375,000 &  & \\\\\n",
       "\t5 & 2003 & Allen Iverson & 366 & allen-iverson & SG & PHI & inactive & 82.0 & 42.5      & 1.8170732 & ⋯ & 6/7/1975 & Georgetown & 1996: Rd 1, Pk 1 (PHI) & Hampton, VA &  &  & 11 & \\$13,500,000 &  & \\\\\n",
       "\\end{tabular}\n"
      ],
      "text/markdown": [
       "\n",
       "A data.frame: 5 × 55\n",
       "\n",
       "| <!--/--> | year &lt;chr&gt; | name &lt;chr&gt; | playerId &lt;chr&gt; | playerSlug &lt;chr&gt; | positionId &lt;chr&gt; | teamId &lt;chr&gt; | status &lt;chr&gt; | gamesPlayed &lt;chr&gt; | avgMinutes &lt;chr&gt; | avgFouls &lt;chr&gt; | ⋯ ⋯ | birthdate &lt;chr&gt; | college &lt;chr&gt; | draftinfo &lt;chr&gt; | birthplace &lt;chr&gt; | team &lt;chr&gt; | experience &lt;chr&gt; | rankingSalary &lt;chr&gt; | salary &lt;chr&gt; | weight &lt;chr&gt; | height &lt;chr&gt; |\n",
       "|---|---|---|---|---|---|---|---|---|---|---|---|---|---|---|---|---|---|---|---|---|---|\n",
       "| 1 | 1999 | Allen Iverson | 366 | allen-iverson | SG | PHI | inactive | 48.0 | 41.458332 | 2.0416667 | ⋯ | 6/7/1975 | Georgetown | 1996: Rd 1, Pk 1 (PHI) | Hampton, VA | <!----> | <!----> | 15 | $9,000,000  | <!----> | <!----> |\n",
       "| 2 | 2000 | Allen Iverson | 366 | allen-iverson | SG | PHI | inactive | 70.0 | 40.75714  | 2.3142858 | ⋯ | 6/7/1975 | Georgetown | 1996: Rd 1, Pk 1 (PHI) | Hampton, VA | <!----> | <!----> | 27 | $10,125,000 | <!----> | <!----> |\n",
       "| 3 | 2001 | Allen Iverson | 366 | allen-iverson | SG | PHI | inactive | 71.0 | 41.957745 | 2.0704226 | ⋯ | 6/7/1975 | Georgetown | 1996: Rd 1, Pk 1 (PHI) | Hampton, VA | <!----> | <!----> | 17 | $11,250,000 | <!----> | <!----> |\n",
       "| 4 | 2002 | Allen Iverson | 366 | allen-iverson | SG | PHI | inactive | 60.0 | 43.7      | 1.7       | ⋯ | 6/7/1975 | Georgetown | 1996: Rd 1, Pk 1 (PHI) | Hampton, VA | <!----> | <!----> | 14 | $12,375,000 | <!----> | <!----> |\n",
       "| 5 | 2003 | Allen Iverson | 366 | allen-iverson | SG | PHI | inactive | 82.0 | 42.5      | 1.8170732 | ⋯ | 6/7/1975 | Georgetown | 1996: Rd 1, Pk 1 (PHI) | Hampton, VA | <!----> | <!----> | 11 | $13,500,000 | <!----> | <!----> |\n",
       "\n"
      ],
      "text/plain": [
       "  year name          playerId playerSlug    positionId teamId status  \n",
       "1 1999 Allen Iverson 366      allen-iverson SG         PHI    inactive\n",
       "2 2000 Allen Iverson 366      allen-iverson SG         PHI    inactive\n",
       "3 2001 Allen Iverson 366      allen-iverson SG         PHI    inactive\n",
       "4 2002 Allen Iverson 366      allen-iverson SG         PHI    inactive\n",
       "5 2003 Allen Iverson 366      allen-iverson SG         PHI    inactive\n",
       "  gamesPlayed avgMinutes avgFouls  ⋯ birthdate college   \n",
       "1 48.0        41.458332  2.0416667 ⋯ 6/7/1975  Georgetown\n",
       "2 70.0        40.75714   2.3142858 ⋯ 6/7/1975  Georgetown\n",
       "3 71.0        41.957745  2.0704226 ⋯ 6/7/1975  Georgetown\n",
       "4 60.0        43.7       1.7       ⋯ 6/7/1975  Georgetown\n",
       "5 82.0        42.5       1.8170732 ⋯ 6/7/1975  Georgetown\n",
       "  draftinfo              birthplace  team experience rankingSalary salary     \n",
       "1 1996: Rd 1, Pk 1 (PHI) Hampton, VA                 15            $9,000,000 \n",
       "2 1996: Rd 1, Pk 1 (PHI) Hampton, VA                 27            $10,125,000\n",
       "3 1996: Rd 1, Pk 1 (PHI) Hampton, VA                 17            $11,250,000\n",
       "4 1996: Rd 1, Pk 1 (PHI) Hampton, VA                 14            $12,375,000\n",
       "5 1996: Rd 1, Pk 1 (PHI) Hampton, VA                 11            $13,500,000\n",
       "  weight height\n",
       "1              \n",
       "2              \n",
       "3              \n",
       "4              \n",
       "5              "
      ]
     },
     "metadata": {},
     "output_type": "display_data"
    }
   ],
   "source": [
    "# Carrega o arquivos 'csv' separados por ';' e variáveis (colunas) do tipo \"character\"\n",
    "df <- read.csv(\n",
    "    'nba_stats.csv',\n",
    "    sep=',',\n",
    "    colClasses = 'character'\n",
    ")\n",
    "head(df, n=5)"
   ]
  },
  {
   "cell_type": "markdown",
   "id": "7ce7faf8",
   "metadata": {},
   "source": [
    "Realiza a verificação se tem algum valor faltante e substitui por \"NA\""
   ]
  },
  {
   "cell_type": "code",
   "execution_count": 260,
   "id": "7a5a04ca",
   "metadata": {
    "vscode": {
     "languageId": "r"
    }
   },
   "outputs": [
    {
     "data": {
      "text/html": [
       "<style>\n",
       ".dl-inline {width: auto; margin:0; padding: 0}\n",
       ".dl-inline>dt, .dl-inline>dd {float: none; width: auto; display: inline-block}\n",
       ".dl-inline>dt::after {content: \":\\0020\"; padding-right: .5ex}\n",
       ".dl-inline>dt:not(:first-of-type) {padding-left: .5ex}\n",
       "</style><dl class=dl-inline><dt>year</dt><dd>0</dd><dt>name</dt><dd>0</dd><dt>playerId</dt><dd>0</dd><dt>playerSlug</dt><dd>0</dd><dt>positionId</dt><dd>6</dd><dt>teamId</dt><dd>0</dd><dt>status</dt><dd>0</dd><dt>gamesPlayed</dt><dd>0</dd><dt>avgMinutes</dt><dd>0</dd><dt>avgFouls</dt><dd>0</dd><dt>flagrantFouls</dt><dd>0</dd><dt>technicalFouls</dt><dd>0</dd><dt>ejections</dt><dd>0</dd><dt>doubleDouble</dt><dd>0</dd><dt>tripleDouble</dt><dd>0</dd><dt>minutes</dt><dd>0</dd><dt>rebounds</dt><dd>0</dd><dt>fouls</dt><dd>0</dd><dt>avgRebounds</dt><dd>0</dd><dt>avgPoints</dt><dd>0</dd><dt>avgFieldGoalsMade</dt><dd>0</dd><dt>avgFieldGoalsAttempted</dt><dd>0</dd><dt>fieldGoalPct</dt><dd>0</dd><dt>avgThreePointFieldGoalsMade</dt><dd>0</dd><dt>avgThreePointFieldGoalsAttempted</dt><dd>0</dd><dt>threePointFieldGoalPct</dt><dd>0</dd><dt>avgFreeThrowsMade</dt><dd>0</dd><dt>avgFreeThrowsAttempted</dt><dd>0</dd><dt>freeThrowPct</dt><dd>0</dd><dt>avgAssists</dt><dd>0</dd><dt>avgTurnovers</dt><dd>0</dd><dt>points</dt><dd>0</dd><dt>fieldGoalsMade</dt><dd>0</dd><dt>fieldGoalsAttempted</dt><dd>0</dd><dt>threePointFieldGoalsMade</dt><dd>0</dd><dt>threePointFieldGoalsAttempted</dt><dd>0</dd><dt>freeThrowsMade</dt><dd>0</dd><dt>freeThrowsAttempted</dt><dd>0</dd><dt>assists</dt><dd>0</dd><dt>turnovers</dt><dd>0</dd><dt>avgSteals</dt><dd>0</dd><dt>avgBlocks</dt><dd>0</dd><dt>steals</dt><dd>0</dd><dt>blocks</dt><dd>0</dd><dt>position</dt><dd>0</dd><dt>birthdate</dt><dd>0</dd><dt>college</dt><dd>1412</dd><dt>draftinfo</dt><dd>1185</dd><dt>birthplace</dt><dd>215</dd><dt>team</dt><dd>5858</dd><dt>experience</dt><dd>5858</dd><dt>rankingSalary</dt><dd>0</dd><dt>salary</dt><dd>0</dd><dt>weight</dt><dd>5858</dd><dt>height</dt><dd>5858</dd></dl>\n"
      ],
      "text/latex": [
       "\\begin{description*}\n",
       "\\item[year] 0\n",
       "\\item[name] 0\n",
       "\\item[playerId] 0\n",
       "\\item[playerSlug] 0\n",
       "\\item[positionId] 6\n",
       "\\item[teamId] 0\n",
       "\\item[status] 0\n",
       "\\item[gamesPlayed] 0\n",
       "\\item[avgMinutes] 0\n",
       "\\item[avgFouls] 0\n",
       "\\item[flagrantFouls] 0\n",
       "\\item[technicalFouls] 0\n",
       "\\item[ejections] 0\n",
       "\\item[doubleDouble] 0\n",
       "\\item[tripleDouble] 0\n",
       "\\item[minutes] 0\n",
       "\\item[rebounds] 0\n",
       "\\item[fouls] 0\n",
       "\\item[avgRebounds] 0\n",
       "\\item[avgPoints] 0\n",
       "\\item[avgFieldGoalsMade] 0\n",
       "\\item[avgFieldGoalsAttempted] 0\n",
       "\\item[fieldGoalPct] 0\n",
       "\\item[avgThreePointFieldGoalsMade] 0\n",
       "\\item[avgThreePointFieldGoalsAttempted] 0\n",
       "\\item[threePointFieldGoalPct] 0\n",
       "\\item[avgFreeThrowsMade] 0\n",
       "\\item[avgFreeThrowsAttempted] 0\n",
       "\\item[freeThrowPct] 0\n",
       "\\item[avgAssists] 0\n",
       "\\item[avgTurnovers] 0\n",
       "\\item[points] 0\n",
       "\\item[fieldGoalsMade] 0\n",
       "\\item[fieldGoalsAttempted] 0\n",
       "\\item[threePointFieldGoalsMade] 0\n",
       "\\item[threePointFieldGoalsAttempted] 0\n",
       "\\item[freeThrowsMade] 0\n",
       "\\item[freeThrowsAttempted] 0\n",
       "\\item[assists] 0\n",
       "\\item[turnovers] 0\n",
       "\\item[avgSteals] 0\n",
       "\\item[avgBlocks] 0\n",
       "\\item[steals] 0\n",
       "\\item[blocks] 0\n",
       "\\item[position] 0\n",
       "\\item[birthdate] 0\n",
       "\\item[college] 1412\n",
       "\\item[draftinfo] 1185\n",
       "\\item[birthplace] 215\n",
       "\\item[team] 5858\n",
       "\\item[experience] 5858\n",
       "\\item[rankingSalary] 0\n",
       "\\item[salary] 0\n",
       "\\item[weight] 5858\n",
       "\\item[height] 5858\n",
       "\\end{description*}\n"
      ],
      "text/markdown": [
       "year\n",
       ":   0name\n",
       ":   0playerId\n",
       ":   0playerSlug\n",
       ":   0positionId\n",
       ":   6teamId\n",
       ":   0status\n",
       ":   0gamesPlayed\n",
       ":   0avgMinutes\n",
       ":   0avgFouls\n",
       ":   0flagrantFouls\n",
       ":   0technicalFouls\n",
       ":   0ejections\n",
       ":   0doubleDouble\n",
       ":   0tripleDouble\n",
       ":   0minutes\n",
       ":   0rebounds\n",
       ":   0fouls\n",
       ":   0avgRebounds\n",
       ":   0avgPoints\n",
       ":   0avgFieldGoalsMade\n",
       ":   0avgFieldGoalsAttempted\n",
       ":   0fieldGoalPct\n",
       ":   0avgThreePointFieldGoalsMade\n",
       ":   0avgThreePointFieldGoalsAttempted\n",
       ":   0threePointFieldGoalPct\n",
       ":   0avgFreeThrowsMade\n",
       ":   0avgFreeThrowsAttempted\n",
       ":   0freeThrowPct\n",
       ":   0avgAssists\n",
       ":   0avgTurnovers\n",
       ":   0points\n",
       ":   0fieldGoalsMade\n",
       ":   0fieldGoalsAttempted\n",
       ":   0threePointFieldGoalsMade\n",
       ":   0threePointFieldGoalsAttempted\n",
       ":   0freeThrowsMade\n",
       ":   0freeThrowsAttempted\n",
       ":   0assists\n",
       ":   0turnovers\n",
       ":   0avgSteals\n",
       ":   0avgBlocks\n",
       ":   0steals\n",
       ":   0blocks\n",
       ":   0position\n",
       ":   0birthdate\n",
       ":   0college\n",
       ":   1412draftinfo\n",
       ":   1185birthplace\n",
       ":   215team\n",
       ":   5858experience\n",
       ":   5858rankingSalary\n",
       ":   0salary\n",
       ":   0weight\n",
       ":   5858height\n",
       ":   5858\n",
       "\n"
      ],
      "text/plain": [
       "                            year                             name \n",
       "                               0                                0 \n",
       "                        playerId                       playerSlug \n",
       "                               0                                0 \n",
       "                      positionId                           teamId \n",
       "                               6                                0 \n",
       "                          status                      gamesPlayed \n",
       "                               0                                0 \n",
       "                      avgMinutes                         avgFouls \n",
       "                               0                                0 \n",
       "                   flagrantFouls                   technicalFouls \n",
       "                               0                                0 \n",
       "                       ejections                     doubleDouble \n",
       "                               0                                0 \n",
       "                    tripleDouble                          minutes \n",
       "                               0                                0 \n",
       "                        rebounds                            fouls \n",
       "                               0                                0 \n",
       "                     avgRebounds                        avgPoints \n",
       "                               0                                0 \n",
       "               avgFieldGoalsMade           avgFieldGoalsAttempted \n",
       "                               0                                0 \n",
       "                    fieldGoalPct      avgThreePointFieldGoalsMade \n",
       "                               0                                0 \n",
       "avgThreePointFieldGoalsAttempted           threePointFieldGoalPct \n",
       "                               0                                0 \n",
       "               avgFreeThrowsMade           avgFreeThrowsAttempted \n",
       "                               0                                0 \n",
       "                    freeThrowPct                       avgAssists \n",
       "                               0                                0 \n",
       "                    avgTurnovers                           points \n",
       "                               0                                0 \n",
       "                  fieldGoalsMade              fieldGoalsAttempted \n",
       "                               0                                0 \n",
       "        threePointFieldGoalsMade    threePointFieldGoalsAttempted \n",
       "                               0                                0 \n",
       "                  freeThrowsMade              freeThrowsAttempted \n",
       "                               0                                0 \n",
       "                         assists                        turnovers \n",
       "                               0                                0 \n",
       "                       avgSteals                        avgBlocks \n",
       "                               0                                0 \n",
       "                          steals                           blocks \n",
       "                               0                                0 \n",
       "                        position                        birthdate \n",
       "                               0                                0 \n",
       "                         college                        draftinfo \n",
       "                            1412                             1185 \n",
       "                      birthplace                             team \n",
       "                             215                             5858 \n",
       "                      experience                    rankingSalary \n",
       "                            5858                                0 \n",
       "                          salary                           weight \n",
       "                               0                             5858 \n",
       "                          height \n",
       "                            5858 "
      ]
     },
     "metadata": {},
     "output_type": "display_data"
    }
   ],
   "source": [
    "# Substituir strings vazias por NA em todo o dataframe\n",
    "df[] <- lapply(df, function(x) {\n",
    "  x[x == \"\"] <- NA\n",
    "  return(x)\n",
    "})\n",
    "\n",
    "colSums(is.na(df))"
   ]
  },
  {
   "cell_type": "markdown",
   "id": "e069d31f",
   "metadata": {},
   "source": [
    "Remove as colunas que possuem valores faltando."
   ]
  },
  {
   "cell_type": "code",
   "execution_count": 261,
   "id": "d8473d42",
   "metadata": {
    "vscode": {
     "languageId": "r"
    }
   },
   "outputs": [
    {
     "data": {
      "text/html": [
       "<style>\n",
       ".dl-inline {width: auto; margin:0; padding: 0}\n",
       ".dl-inline>dt, .dl-inline>dd {float: none; width: auto; display: inline-block}\n",
       ".dl-inline>dt::after {content: \":\\0020\"; padding-right: .5ex}\n",
       ".dl-inline>dt:not(:first-of-type) {padding-left: .5ex}\n",
       "</style><dl class=dl-inline><dt>year</dt><dd>0</dd><dt>name</dt><dd>0</dd><dt>playerId</dt><dd>0</dd><dt>playerSlug</dt><dd>0</dd><dt>positionId</dt><dd>6</dd><dt>teamId</dt><dd>0</dd><dt>status</dt><dd>0</dd><dt>gamesPlayed</dt><dd>0</dd><dt>avgMinutes</dt><dd>0</dd><dt>avgFouls</dt><dd>0</dd><dt>flagrantFouls</dt><dd>0</dd><dt>technicalFouls</dt><dd>0</dd><dt>ejections</dt><dd>0</dd><dt>doubleDouble</dt><dd>0</dd><dt>tripleDouble</dt><dd>0</dd><dt>minutes</dt><dd>0</dd><dt>rebounds</dt><dd>0</dd><dt>fouls</dt><dd>0</dd><dt>avgRebounds</dt><dd>0</dd><dt>avgPoints</dt><dd>0</dd><dt>avgFieldGoalsMade</dt><dd>0</dd><dt>avgFieldGoalsAttempted</dt><dd>0</dd><dt>fieldGoalPct</dt><dd>0</dd><dt>avgThreePointFieldGoalsMade</dt><dd>0</dd><dt>avgThreePointFieldGoalsAttempted</dt><dd>0</dd><dt>threePointFieldGoalPct</dt><dd>0</dd><dt>avgFreeThrowsMade</dt><dd>0</dd><dt>avgFreeThrowsAttempted</dt><dd>0</dd><dt>freeThrowPct</dt><dd>0</dd><dt>avgAssists</dt><dd>0</dd><dt>avgTurnovers</dt><dd>0</dd><dt>points</dt><dd>0</dd><dt>fieldGoalsMade</dt><dd>0</dd><dt>fieldGoalsAttempted</dt><dd>0</dd><dt>threePointFieldGoalsMade</dt><dd>0</dd><dt>threePointFieldGoalsAttempted</dt><dd>0</dd><dt>freeThrowsMade</dt><dd>0</dd><dt>freeThrowsAttempted</dt><dd>0</dd><dt>assists</dt><dd>0</dd><dt>turnovers</dt><dd>0</dd><dt>avgSteals</dt><dd>0</dd><dt>avgBlocks</dt><dd>0</dd><dt>steals</dt><dd>0</dd><dt>blocks</dt><dd>0</dd><dt>position</dt><dd>0</dd><dt>birthdate</dt><dd>0</dd><dt>rankingSalary</dt><dd>0</dd><dt>salary</dt><dd>0</dd></dl>\n"
      ],
      "text/latex": [
       "\\begin{description*}\n",
       "\\item[year] 0\n",
       "\\item[name] 0\n",
       "\\item[playerId] 0\n",
       "\\item[playerSlug] 0\n",
       "\\item[positionId] 6\n",
       "\\item[teamId] 0\n",
       "\\item[status] 0\n",
       "\\item[gamesPlayed] 0\n",
       "\\item[avgMinutes] 0\n",
       "\\item[avgFouls] 0\n",
       "\\item[flagrantFouls] 0\n",
       "\\item[technicalFouls] 0\n",
       "\\item[ejections] 0\n",
       "\\item[doubleDouble] 0\n",
       "\\item[tripleDouble] 0\n",
       "\\item[minutes] 0\n",
       "\\item[rebounds] 0\n",
       "\\item[fouls] 0\n",
       "\\item[avgRebounds] 0\n",
       "\\item[avgPoints] 0\n",
       "\\item[avgFieldGoalsMade] 0\n",
       "\\item[avgFieldGoalsAttempted] 0\n",
       "\\item[fieldGoalPct] 0\n",
       "\\item[avgThreePointFieldGoalsMade] 0\n",
       "\\item[avgThreePointFieldGoalsAttempted] 0\n",
       "\\item[threePointFieldGoalPct] 0\n",
       "\\item[avgFreeThrowsMade] 0\n",
       "\\item[avgFreeThrowsAttempted] 0\n",
       "\\item[freeThrowPct] 0\n",
       "\\item[avgAssists] 0\n",
       "\\item[avgTurnovers] 0\n",
       "\\item[points] 0\n",
       "\\item[fieldGoalsMade] 0\n",
       "\\item[fieldGoalsAttempted] 0\n",
       "\\item[threePointFieldGoalsMade] 0\n",
       "\\item[threePointFieldGoalsAttempted] 0\n",
       "\\item[freeThrowsMade] 0\n",
       "\\item[freeThrowsAttempted] 0\n",
       "\\item[assists] 0\n",
       "\\item[turnovers] 0\n",
       "\\item[avgSteals] 0\n",
       "\\item[avgBlocks] 0\n",
       "\\item[steals] 0\n",
       "\\item[blocks] 0\n",
       "\\item[position] 0\n",
       "\\item[birthdate] 0\n",
       "\\item[rankingSalary] 0\n",
       "\\item[salary] 0\n",
       "\\end{description*}\n"
      ],
      "text/markdown": [
       "year\n",
       ":   0name\n",
       ":   0playerId\n",
       ":   0playerSlug\n",
       ":   0positionId\n",
       ":   6teamId\n",
       ":   0status\n",
       ":   0gamesPlayed\n",
       ":   0avgMinutes\n",
       ":   0avgFouls\n",
       ":   0flagrantFouls\n",
       ":   0technicalFouls\n",
       ":   0ejections\n",
       ":   0doubleDouble\n",
       ":   0tripleDouble\n",
       ":   0minutes\n",
       ":   0rebounds\n",
       ":   0fouls\n",
       ":   0avgRebounds\n",
       ":   0avgPoints\n",
       ":   0avgFieldGoalsMade\n",
       ":   0avgFieldGoalsAttempted\n",
       ":   0fieldGoalPct\n",
       ":   0avgThreePointFieldGoalsMade\n",
       ":   0avgThreePointFieldGoalsAttempted\n",
       ":   0threePointFieldGoalPct\n",
       ":   0avgFreeThrowsMade\n",
       ":   0avgFreeThrowsAttempted\n",
       ":   0freeThrowPct\n",
       ":   0avgAssists\n",
       ":   0avgTurnovers\n",
       ":   0points\n",
       ":   0fieldGoalsMade\n",
       ":   0fieldGoalsAttempted\n",
       ":   0threePointFieldGoalsMade\n",
       ":   0threePointFieldGoalsAttempted\n",
       ":   0freeThrowsMade\n",
       ":   0freeThrowsAttempted\n",
       ":   0assists\n",
       ":   0turnovers\n",
       ":   0avgSteals\n",
       ":   0avgBlocks\n",
       ":   0steals\n",
       ":   0blocks\n",
       ":   0position\n",
       ":   0birthdate\n",
       ":   0rankingSalary\n",
       ":   0salary\n",
       ":   0\n",
       "\n"
      ],
      "text/plain": [
       "                            year                             name \n",
       "                               0                                0 \n",
       "                        playerId                       playerSlug \n",
       "                               0                                0 \n",
       "                      positionId                           teamId \n",
       "                               6                                0 \n",
       "                          status                      gamesPlayed \n",
       "                               0                                0 \n",
       "                      avgMinutes                         avgFouls \n",
       "                               0                                0 \n",
       "                   flagrantFouls                   technicalFouls \n",
       "                               0                                0 \n",
       "                       ejections                     doubleDouble \n",
       "                               0                                0 \n",
       "                    tripleDouble                          minutes \n",
       "                               0                                0 \n",
       "                        rebounds                            fouls \n",
       "                               0                                0 \n",
       "                     avgRebounds                        avgPoints \n",
       "                               0                                0 \n",
       "               avgFieldGoalsMade           avgFieldGoalsAttempted \n",
       "                               0                                0 \n",
       "                    fieldGoalPct      avgThreePointFieldGoalsMade \n",
       "                               0                                0 \n",
       "avgThreePointFieldGoalsAttempted           threePointFieldGoalPct \n",
       "                               0                                0 \n",
       "               avgFreeThrowsMade           avgFreeThrowsAttempted \n",
       "                               0                                0 \n",
       "                    freeThrowPct                       avgAssists \n",
       "                               0                                0 \n",
       "                    avgTurnovers                           points \n",
       "                               0                                0 \n",
       "                  fieldGoalsMade              fieldGoalsAttempted \n",
       "                               0                                0 \n",
       "        threePointFieldGoalsMade    threePointFieldGoalsAttempted \n",
       "                               0                                0 \n",
       "                  freeThrowsMade              freeThrowsAttempted \n",
       "                               0                                0 \n",
       "                         assists                        turnovers \n",
       "                               0                                0 \n",
       "                       avgSteals                        avgBlocks \n",
       "                               0                                0 \n",
       "                          steals                           blocks \n",
       "                               0                                0 \n",
       "                        position                        birthdate \n",
       "                               0                                0 \n",
       "                   rankingSalary                           salary \n",
       "                               0                                0 "
      ]
     },
     "metadata": {},
     "output_type": "display_data"
    }
   ],
   "source": [
    "# Remove as colunas que tem valores faltando que no caso foram:\n",
    "#college\n",
    "#draftinfo\n",
    "#birthplace\n",
    "#team\n",
    "#experience\n",
    "#height\n",
    "#weight\n",
    "\n",
    "df <- df[, !(names(df) %in% \"college\")]\n",
    "df <- df[, !(names(df) %in% \"draftinfo\")]\n",
    "df <- df[, !(names(df) %in% \"birthplace\")]\n",
    "df <- df[, !(names(df) %in% \"team\")]\n",
    "df <- df[, !(names(df) %in% \"experience\")]\n",
    "df <- df[, !(names(df) %in% \"height\")]\n",
    "df <- df[, !(names(df) %in% \"weight\")]\n",
    "\n",
    "# Exibir o dataframe atualizado\n",
    "colSums(is.na(df))"
   ]
  },
  {
   "cell_type": "markdown",
   "id": "3d441bc6",
   "metadata": {},
   "source": [
    "Realização da correção dos valores do salários onde são retirados o sifrão e a virgula."
   ]
  },
  {
   "cell_type": "code",
   "execution_count": 262,
   "id": "32353177",
   "metadata": {
    "vscode": {
     "languageId": "r"
    }
   },
   "outputs": [
    {
     "data": {
      "text/html": [
       "<table class=\"dataframe\">\n",
       "<caption>A data.frame: 5 × 48</caption>\n",
       "<thead>\n",
       "\t<tr><th></th><th scope=col>year</th><th scope=col>name</th><th scope=col>playerId</th><th scope=col>playerSlug</th><th scope=col>positionId</th><th scope=col>teamId</th><th scope=col>status</th><th scope=col>gamesPlayed</th><th scope=col>avgMinutes</th><th scope=col>avgFouls</th><th scope=col>⋯</th><th scope=col>assists</th><th scope=col>turnovers</th><th scope=col>avgSteals</th><th scope=col>avgBlocks</th><th scope=col>steals</th><th scope=col>blocks</th><th scope=col>position</th><th scope=col>birthdate</th><th scope=col>rankingSalary</th><th scope=col>salary</th></tr>\n",
       "\t<tr><th></th><th scope=col>&lt;chr&gt;</th><th scope=col>&lt;chr&gt;</th><th scope=col>&lt;chr&gt;</th><th scope=col>&lt;chr&gt;</th><th scope=col>&lt;chr&gt;</th><th scope=col>&lt;chr&gt;</th><th scope=col>&lt;chr&gt;</th><th scope=col>&lt;chr&gt;</th><th scope=col>&lt;chr&gt;</th><th scope=col>&lt;chr&gt;</th><th scope=col>⋯</th><th scope=col>&lt;chr&gt;</th><th scope=col>&lt;chr&gt;</th><th scope=col>&lt;chr&gt;</th><th scope=col>&lt;chr&gt;</th><th scope=col>&lt;chr&gt;</th><th scope=col>&lt;chr&gt;</th><th scope=col>&lt;chr&gt;</th><th scope=col>&lt;chr&gt;</th><th scope=col>&lt;chr&gt;</th><th scope=col>&lt;chr&gt;</th></tr>\n",
       "</thead>\n",
       "<tbody>\n",
       "\t<tr><th scope=row>1</th><td>1999</td><td>Allen Iverson</td><td>366</td><td>allen-iverson</td><td>SG</td><td>PHI</td><td>inactive</td><td>48.0</td><td>41.458332</td><td>2.0416667</td><td>⋯</td><td>223.0</td><td>167.0</td><td>2.2916667</td><td>0.14583333 </td><td>110.0</td><td>7.0 </td><td>Shooting Guard</td><td>6/7/1975</td><td>15</td><td>9000000 </td></tr>\n",
       "\t<tr><th scope=row>2</th><td>2000</td><td>Allen Iverson</td><td>366</td><td>allen-iverson</td><td>SG</td><td>PHI</td><td>inactive</td><td>70.0</td><td>40.75714 </td><td>2.3142858</td><td>⋯</td><td>328.0</td><td>230.0</td><td>2.057143 </td><td>0.071428575</td><td>144.0</td><td>5.0 </td><td>Shooting Guard</td><td>6/7/1975</td><td>27</td><td>10125000</td></tr>\n",
       "\t<tr><th scope=row>3</th><td>2001</td><td>Allen Iverson</td><td>366</td><td>allen-iverson</td><td>SG</td><td>PHI</td><td>inactive</td><td>71.0</td><td>41.957745</td><td>2.0704226</td><td>⋯</td><td>325.0</td><td>237.0</td><td>2.5070422</td><td>0.28169015 </td><td>178.0</td><td>20.0</td><td>Shooting Guard</td><td>6/7/1975</td><td>17</td><td>11250000</td></tr>\n",
       "\t<tr><th scope=row>4</th><td>2002</td><td>Allen Iverson</td><td>366</td><td>allen-iverson</td><td>SG</td><td>PHI</td><td>inactive</td><td>60.0</td><td>43.7     </td><td>1.7      </td><td>⋯</td><td>331.0</td><td>237.0</td><td>2.8      </td><td>0.21666667 </td><td>168.0</td><td>13.0</td><td>Shooting Guard</td><td>6/7/1975</td><td>14</td><td>12375000</td></tr>\n",
       "\t<tr><th scope=row>5</th><td>2003</td><td>Allen Iverson</td><td>366</td><td>allen-iverson</td><td>SG</td><td>PHI</td><td>inactive</td><td>82.0</td><td>42.5     </td><td>1.8170732</td><td>⋯</td><td>454.0</td><td>286.0</td><td>2.7439024</td><td>0.15853658 </td><td>225.0</td><td>13.0</td><td>Shooting Guard</td><td>6/7/1975</td><td>11</td><td>13500000</td></tr>\n",
       "</tbody>\n",
       "</table>\n"
      ],
      "text/latex": [
       "A data.frame: 5 × 48\n",
       "\\begin{tabular}{r|lllllllllllllllllllll}\n",
       "  & year & name & playerId & playerSlug & positionId & teamId & status & gamesPlayed & avgMinutes & avgFouls & ⋯ & assists & turnovers & avgSteals & avgBlocks & steals & blocks & position & birthdate & rankingSalary & salary\\\\\n",
       "  & <chr> & <chr> & <chr> & <chr> & <chr> & <chr> & <chr> & <chr> & <chr> & <chr> & ⋯ & <chr> & <chr> & <chr> & <chr> & <chr> & <chr> & <chr> & <chr> & <chr> & <chr>\\\\\n",
       "\\hline\n",
       "\t1 & 1999 & Allen Iverson & 366 & allen-iverson & SG & PHI & inactive & 48.0 & 41.458332 & 2.0416667 & ⋯ & 223.0 & 167.0 & 2.2916667 & 0.14583333  & 110.0 & 7.0  & Shooting Guard & 6/7/1975 & 15 & 9000000 \\\\\n",
       "\t2 & 2000 & Allen Iverson & 366 & allen-iverson & SG & PHI & inactive & 70.0 & 40.75714  & 2.3142858 & ⋯ & 328.0 & 230.0 & 2.057143  & 0.071428575 & 144.0 & 5.0  & Shooting Guard & 6/7/1975 & 27 & 10125000\\\\\n",
       "\t3 & 2001 & Allen Iverson & 366 & allen-iverson & SG & PHI & inactive & 71.0 & 41.957745 & 2.0704226 & ⋯ & 325.0 & 237.0 & 2.5070422 & 0.28169015  & 178.0 & 20.0 & Shooting Guard & 6/7/1975 & 17 & 11250000\\\\\n",
       "\t4 & 2002 & Allen Iverson & 366 & allen-iverson & SG & PHI & inactive & 60.0 & 43.7      & 1.7       & ⋯ & 331.0 & 237.0 & 2.8       & 0.21666667  & 168.0 & 13.0 & Shooting Guard & 6/7/1975 & 14 & 12375000\\\\\n",
       "\t5 & 2003 & Allen Iverson & 366 & allen-iverson & SG & PHI & inactive & 82.0 & 42.5      & 1.8170732 & ⋯ & 454.0 & 286.0 & 2.7439024 & 0.15853658  & 225.0 & 13.0 & Shooting Guard & 6/7/1975 & 11 & 13500000\\\\\n",
       "\\end{tabular}\n"
      ],
      "text/markdown": [
       "\n",
       "A data.frame: 5 × 48\n",
       "\n",
       "| <!--/--> | year &lt;chr&gt; | name &lt;chr&gt; | playerId &lt;chr&gt; | playerSlug &lt;chr&gt; | positionId &lt;chr&gt; | teamId &lt;chr&gt; | status &lt;chr&gt; | gamesPlayed &lt;chr&gt; | avgMinutes &lt;chr&gt; | avgFouls &lt;chr&gt; | ⋯ ⋯ | assists &lt;chr&gt; | turnovers &lt;chr&gt; | avgSteals &lt;chr&gt; | avgBlocks &lt;chr&gt; | steals &lt;chr&gt; | blocks &lt;chr&gt; | position &lt;chr&gt; | birthdate &lt;chr&gt; | rankingSalary &lt;chr&gt; | salary &lt;chr&gt; |\n",
       "|---|---|---|---|---|---|---|---|---|---|---|---|---|---|---|---|---|---|---|---|---|---|\n",
       "| 1 | 1999 | Allen Iverson | 366 | allen-iverson | SG | PHI | inactive | 48.0 | 41.458332 | 2.0416667 | ⋯ | 223.0 | 167.0 | 2.2916667 | 0.14583333  | 110.0 | 7.0  | Shooting Guard | 6/7/1975 | 15 | 9000000  |\n",
       "| 2 | 2000 | Allen Iverson | 366 | allen-iverson | SG | PHI | inactive | 70.0 | 40.75714  | 2.3142858 | ⋯ | 328.0 | 230.0 | 2.057143  | 0.071428575 | 144.0 | 5.0  | Shooting Guard | 6/7/1975 | 27 | 10125000 |\n",
       "| 3 | 2001 | Allen Iverson | 366 | allen-iverson | SG | PHI | inactive | 71.0 | 41.957745 | 2.0704226 | ⋯ | 325.0 | 237.0 | 2.5070422 | 0.28169015  | 178.0 | 20.0 | Shooting Guard | 6/7/1975 | 17 | 11250000 |\n",
       "| 4 | 2002 | Allen Iverson | 366 | allen-iverson | SG | PHI | inactive | 60.0 | 43.7      | 1.7       | ⋯ | 331.0 | 237.0 | 2.8       | 0.21666667  | 168.0 | 13.0 | Shooting Guard | 6/7/1975 | 14 | 12375000 |\n",
       "| 5 | 2003 | Allen Iverson | 366 | allen-iverson | SG | PHI | inactive | 82.0 | 42.5      | 1.8170732 | ⋯ | 454.0 | 286.0 | 2.7439024 | 0.15853658  | 225.0 | 13.0 | Shooting Guard | 6/7/1975 | 11 | 13500000 |\n",
       "\n"
      ],
      "text/plain": [
       "  year name          playerId playerSlug    positionId teamId status  \n",
       "1 1999 Allen Iverson 366      allen-iverson SG         PHI    inactive\n",
       "2 2000 Allen Iverson 366      allen-iverson SG         PHI    inactive\n",
       "3 2001 Allen Iverson 366      allen-iverson SG         PHI    inactive\n",
       "4 2002 Allen Iverson 366      allen-iverson SG         PHI    inactive\n",
       "5 2003 Allen Iverson 366      allen-iverson SG         PHI    inactive\n",
       "  gamesPlayed avgMinutes avgFouls  ⋯ assists turnovers avgSteals avgBlocks  \n",
       "1 48.0        41.458332  2.0416667 ⋯ 223.0   167.0     2.2916667 0.14583333 \n",
       "2 70.0        40.75714   2.3142858 ⋯ 328.0   230.0     2.057143  0.071428575\n",
       "3 71.0        41.957745  2.0704226 ⋯ 325.0   237.0     2.5070422 0.28169015 \n",
       "4 60.0        43.7       1.7       ⋯ 331.0   237.0     2.8       0.21666667 \n",
       "5 82.0        42.5       1.8170732 ⋯ 454.0   286.0     2.7439024 0.15853658 \n",
       "  steals blocks position       birthdate rankingSalary salary  \n",
       "1 110.0  7.0    Shooting Guard 6/7/1975  15            9000000 \n",
       "2 144.0  5.0    Shooting Guard 6/7/1975  27            10125000\n",
       "3 178.0  20.0   Shooting Guard 6/7/1975  17            11250000\n",
       "4 168.0  13.0   Shooting Guard 6/7/1975  14            12375000\n",
       "5 225.0  13.0   Shooting Guard 6/7/1975  11            13500000"
      ]
     },
     "metadata": {},
     "output_type": "display_data"
    }
   ],
   "source": [
    "\n",
    "#retira o $ do salário\n",
    "df$salary <- gsub(\"\\\\$\", \"\", df$salary)\n",
    "\n",
    "#retira a \" , \" do valor do salário\n",
    "\n",
    "df$salary <- gsub(\",\", \"\", df$salary)\n",
    "\n",
    "head(df, n=5)"
   ]
  },
  {
   "cell_type": "code",
   "execution_count": 263,
   "id": "55e32e2a",
   "metadata": {
    "vscode": {
     "languageId": "r"
    }
   },
   "outputs": [
    {
     "name": "stdout",
     "output_type": "stream",
     "text": [
      "'data.frame':\t8162 obs. of  48 variables:\n",
      " $ year                            : chr  \"1999\" \"2000\" \"2001\" \"2002\" ...\n",
      " $ name                            : chr  \"Allen Iverson\" \"Allen Iverson\" \"Allen Iverson\" \"Allen Iverson\" ...\n",
      " $ playerId                        : chr  \"366\" \"366\" \"366\" \"366\" ...\n",
      " $ playerSlug                      : chr  \"allen-iverson\" \"allen-iverson\" \"allen-iverson\" \"allen-iverson\" ...\n",
      " $ positionId                      : chr  \"SG\" \"SG\" \"SG\" \"SG\" ...\n",
      " $ teamId                          : chr  \"PHI\" \"PHI\" \"PHI\" \"PHI\" ...\n",
      " $ status                          : chr  \"inactive\" \"inactive\" \"inactive\" \"inactive\" ...\n",
      " $ gamesPlayed                     : chr  \"48.0\" \"70.0\" \"71.0\" \"60.0\" ...\n",
      " $ avgMinutes                      : chr  \"41.458332\" \"40.75714\" \"41.957745\" \"43.7\" ...\n",
      " $ avgFouls                        : chr  \"2.0416667\" \"2.3142858\" \"2.0704226\" \"1.7\" ...\n",
      " $ flagrantFouls                   : chr  \"0.0\" \"0.0\" \"0.0\" \"0.0\" ...\n",
      " $ technicalFouls                  : chr  \"5.0\" \"12.0\" \"18.0\" \"12.0\" ...\n",
      " $ ejections                       : chr  \"0.0\" \"0.0\" \"0.0\" \"1.0\" ...\n",
      " $ doubleDouble                    : chr  \"4.0\" \"1.0\" \"4.0\" \"4.0\" ...\n",
      " $ tripleDouble                    : chr  \"0.0\" \"0.0\" \"0.0\" \"1.0\" ...\n",
      " $ minutes                         : chr  \"1990.0\" \"2853.0\" \"2979.0\" \"2622.0\" ...\n",
      " $ rebounds                        : chr  \"236.0\" \"267.0\" \"273.0\" \"269.0\" ...\n",
      " $ fouls                           : chr  \"98.0\" \"162.0\" \"147.0\" \"102.0\" ...\n",
      " $ avgRebounds                     : chr  \"4.9166665\" \"3.8142858\" \"3.8450704\" \"4.483333\" ...\n",
      " $ avgPoints                       : chr  \"26.75\" \"28.414286\" \"31.084507\" \"31.383333\" ...\n",
      " $ avgFieldGoalsMade               : chr  \"9.0625\" \"10.414286\" \"10.732394\" \"11.083333\" ...\n",
      " $ avgFieldGoalsAttempted          : chr  \"22.0\" \"24.757143\" \"25.535212\" \"27.816668\" ...\n",
      " $ fieldGoalPct                    : chr  \"41.19300079345703\" \"42.06600189208984\" \"42.02999877929688\" \"39.84400177001953\" ...\n",
      " $ avgThreePointFieldGoalsMade     : chr  \"1.2083334\" \"1.2714286\" \"1.3802817\" \"1.3\" ...\n",
      " $ avgThreePointFieldGoalsAttempted: chr  \"4.1458335\" \"3.7285714\" \"4.3098593\" \"4.4666667\" ...\n",
      " $ threePointFieldGoalPct          : chr  \"29.145729541778564\" \"34.09961760044098\" \"32.02614486217499\" \"29.10447716712952\" ...\n",
      " $ avgFreeThrowsMade               : chr  \"7.4166665\" \"6.3142858\" \"8.239436\" \"7.9166665\" ...\n",
      " $ avgFreeThrowsAttempted          : chr  \"9.875\" \"8.857142\" \"10.1267605\" \"9.75\" ...\n",
      " $ freeThrowPct                    : chr  \"75.1050033569336\" \"71.29000091552734\" \"81.36299896240234\" \"81.1969985961914\" ...\n",
      " $ avgAssists                      : chr  \"4.6458335\" \"4.6857142\" \"4.5774646\" \"5.516667\" ...\n",
      " $ avgTurnovers                    : chr  \"3.4791667\" \"3.2857144\" \"3.3380282\" \"3.95\" ...\n",
      " $ points                          : chr  \"1284.0\" \"1989.0\" \"2207.0\" \"1883.0\" ...\n",
      " $ fieldGoalsMade                  : chr  \"435.0\" \"729.0\" \"762.0\" \"665.0\" ...\n",
      " $ fieldGoalsAttempted             : chr  \"1056.0\" \"1733.0\" \"1813.0\" \"1669.0\" ...\n",
      " $ threePointFieldGoalsMade        : chr  \"58.0\" \"89.0\" \"98.0\" \"78.0\" ...\n",
      " $ threePointFieldGoalsAttempted   : chr  \"199.0\" \"261.0\" \"306.0\" \"268.0\" ...\n",
      " $ freeThrowsMade                  : chr  \"356.0\" \"442.0\" \"585.0\" \"475.0\" ...\n",
      " $ freeThrowsAttempted             : chr  \"474.0\" \"620.0\" \"719.0\" \"585.0\" ...\n",
      " $ assists                         : chr  \"223.0\" \"328.0\" \"325.0\" \"331.0\" ...\n",
      " $ turnovers                       : chr  \"167.0\" \"230.0\" \"237.0\" \"237.0\" ...\n",
      " $ avgSteals                       : chr  \"2.2916667\" \"2.057143\" \"2.5070422\" \"2.8\" ...\n",
      " $ avgBlocks                       : chr  \"0.14583333\" \"0.071428575\" \"0.28169015\" \"0.21666667\" ...\n",
      " $ steals                          : chr  \"110.0\" \"144.0\" \"178.0\" \"168.0\" ...\n",
      " $ blocks                          : chr  \"7.0\" \"5.0\" \"20.0\" \"13.0\" ...\n",
      " $ position                        : chr  \"Shooting Guard\" \"Shooting Guard\" \"Shooting Guard\" \"Shooting Guard\" ...\n",
      " $ birthdate                       : chr  \"6/7/1975\" \"6/7/1975\" \"6/7/1975\" \"6/7/1975\" ...\n",
      " $ rankingSalary                   : chr  \"15\" \"27\" \"17\" \"14\" ...\n",
      " $ salary                          : chr  \"9000000\" \"10125000\" \"11250000\" \"12375000\" ...\n"
     ]
    }
   ],
   "source": [
    "# Retorna os primeiros elementos de um vetor, matriz, tabela ou dataframe.\n",
    "str(df)"
   ]
  },
  {
   "cell_type": "markdown",
   "id": "e384087d",
   "metadata": {},
   "source": [
    "Transformas as colunas que são numericas de chr para int"
   ]
  },
  {
   "cell_type": "code",
   "execution_count": 264,
   "id": "64728a2e",
   "metadata": {
    "vscode": {
     "languageId": "r"
    }
   },
   "outputs": [
    {
     "data": {
      "text/html": [
       "<table class=\"dataframe\">\n",
       "<caption>A data.frame: 6 × 48</caption>\n",
       "<thead>\n",
       "\t<tr><th></th><th scope=col>year</th><th scope=col>name</th><th scope=col>playerId</th><th scope=col>playerSlug</th><th scope=col>positionId</th><th scope=col>teamId</th><th scope=col>status</th><th scope=col>gamesPlayed</th><th scope=col>avgMinutes</th><th scope=col>avgFouls</th><th scope=col>⋯</th><th scope=col>assists</th><th scope=col>turnovers</th><th scope=col>avgSteals</th><th scope=col>avgBlocks</th><th scope=col>steals</th><th scope=col>blocks</th><th scope=col>position</th><th scope=col>birthdate</th><th scope=col>rankingSalary</th><th scope=col>salary</th></tr>\n",
       "\t<tr><th></th><th scope=col>&lt;int&gt;</th><th scope=col>&lt;chr&gt;</th><th scope=col>&lt;int&gt;</th><th scope=col>&lt;chr&gt;</th><th scope=col>&lt;chr&gt;</th><th scope=col>&lt;chr&gt;</th><th scope=col>&lt;chr&gt;</th><th scope=col>&lt;int&gt;</th><th scope=col>&lt;int&gt;</th><th scope=col>&lt;int&gt;</th><th scope=col>⋯</th><th scope=col>&lt;int&gt;</th><th scope=col>&lt;int&gt;</th><th scope=col>&lt;int&gt;</th><th scope=col>&lt;int&gt;</th><th scope=col>&lt;int&gt;</th><th scope=col>&lt;int&gt;</th><th scope=col>&lt;chr&gt;</th><th scope=col>&lt;chr&gt;</th><th scope=col>&lt;int&gt;</th><th scope=col>&lt;int&gt;</th></tr>\n",
       "</thead>\n",
       "<tbody>\n",
       "\t<tr><th scope=row>1</th><td>1999</td><td>Allen Iverson</td><td>366</td><td>allen-iverson</td><td>SG</td><td>PHI</td><td>inactive</td><td>48</td><td>41</td><td>2</td><td>⋯</td><td>223</td><td>167</td><td>2</td><td>0</td><td>110</td><td> 7</td><td>Shooting Guard</td><td>6/7/1975</td><td>15</td><td> 9000000</td></tr>\n",
       "\t<tr><th scope=row>2</th><td>2000</td><td>Allen Iverson</td><td>366</td><td>allen-iverson</td><td>SG</td><td>PHI</td><td>inactive</td><td>70</td><td>40</td><td>2</td><td>⋯</td><td>328</td><td>230</td><td>2</td><td>0</td><td>144</td><td> 5</td><td>Shooting Guard</td><td>6/7/1975</td><td>27</td><td>10125000</td></tr>\n",
       "\t<tr><th scope=row>3</th><td>2001</td><td>Allen Iverson</td><td>366</td><td>allen-iverson</td><td>SG</td><td>PHI</td><td>inactive</td><td>71</td><td>41</td><td>2</td><td>⋯</td><td>325</td><td>237</td><td>2</td><td>0</td><td>178</td><td>20</td><td>Shooting Guard</td><td>6/7/1975</td><td>17</td><td>11250000</td></tr>\n",
       "\t<tr><th scope=row>4</th><td>2002</td><td>Allen Iverson</td><td>366</td><td>allen-iverson</td><td>SG</td><td>PHI</td><td>inactive</td><td>60</td><td>43</td><td>1</td><td>⋯</td><td>331</td><td>237</td><td>2</td><td>0</td><td>168</td><td>13</td><td>Shooting Guard</td><td>6/7/1975</td><td>14</td><td>12375000</td></tr>\n",
       "\t<tr><th scope=row>5</th><td>2003</td><td>Allen Iverson</td><td>366</td><td>allen-iverson</td><td>SG</td><td>PHI</td><td>inactive</td><td>82</td><td>42</td><td>1</td><td>⋯</td><td>454</td><td>286</td><td>2</td><td>0</td><td>225</td><td>13</td><td>Shooting Guard</td><td>6/7/1975</td><td>11</td><td>13500000</td></tr>\n",
       "\t<tr><th scope=row>6</th><td>2004</td><td>Allen Iverson</td><td>366</td><td>allen-iverson</td><td>SG</td><td>PHI</td><td>inactive</td><td>48</td><td>42</td><td>1</td><td>⋯</td><td>324</td><td>209</td><td>2</td><td>0</td><td>115</td><td> 5</td><td>Shooting Guard</td><td>6/7/1975</td><td> 8</td><td>14625000</td></tr>\n",
       "</tbody>\n",
       "</table>\n"
      ],
      "text/latex": [
       "A data.frame: 6 × 48\n",
       "\\begin{tabular}{r|lllllllllllllllllllll}\n",
       "  & year & name & playerId & playerSlug & positionId & teamId & status & gamesPlayed & avgMinutes & avgFouls & ⋯ & assists & turnovers & avgSteals & avgBlocks & steals & blocks & position & birthdate & rankingSalary & salary\\\\\n",
       "  & <int> & <chr> & <int> & <chr> & <chr> & <chr> & <chr> & <int> & <int> & <int> & ⋯ & <int> & <int> & <int> & <int> & <int> & <int> & <chr> & <chr> & <int> & <int>\\\\\n",
       "\\hline\n",
       "\t1 & 1999 & Allen Iverson & 366 & allen-iverson & SG & PHI & inactive & 48 & 41 & 2 & ⋯ & 223 & 167 & 2 & 0 & 110 &  7 & Shooting Guard & 6/7/1975 & 15 &  9000000\\\\\n",
       "\t2 & 2000 & Allen Iverson & 366 & allen-iverson & SG & PHI & inactive & 70 & 40 & 2 & ⋯ & 328 & 230 & 2 & 0 & 144 &  5 & Shooting Guard & 6/7/1975 & 27 & 10125000\\\\\n",
       "\t3 & 2001 & Allen Iverson & 366 & allen-iverson & SG & PHI & inactive & 71 & 41 & 2 & ⋯ & 325 & 237 & 2 & 0 & 178 & 20 & Shooting Guard & 6/7/1975 & 17 & 11250000\\\\\n",
       "\t4 & 2002 & Allen Iverson & 366 & allen-iverson & SG & PHI & inactive & 60 & 43 & 1 & ⋯ & 331 & 237 & 2 & 0 & 168 & 13 & Shooting Guard & 6/7/1975 & 14 & 12375000\\\\\n",
       "\t5 & 2003 & Allen Iverson & 366 & allen-iverson & SG & PHI & inactive & 82 & 42 & 1 & ⋯ & 454 & 286 & 2 & 0 & 225 & 13 & Shooting Guard & 6/7/1975 & 11 & 13500000\\\\\n",
       "\t6 & 2004 & Allen Iverson & 366 & allen-iverson & SG & PHI & inactive & 48 & 42 & 1 & ⋯ & 324 & 209 & 2 & 0 & 115 &  5 & Shooting Guard & 6/7/1975 &  8 & 14625000\\\\\n",
       "\\end{tabular}\n"
      ],
      "text/markdown": [
       "\n",
       "A data.frame: 6 × 48\n",
       "\n",
       "| <!--/--> | year &lt;int&gt; | name &lt;chr&gt; | playerId &lt;int&gt; | playerSlug &lt;chr&gt; | positionId &lt;chr&gt; | teamId &lt;chr&gt; | status &lt;chr&gt; | gamesPlayed &lt;int&gt; | avgMinutes &lt;int&gt; | avgFouls &lt;int&gt; | ⋯ ⋯ | assists &lt;int&gt; | turnovers &lt;int&gt; | avgSteals &lt;int&gt; | avgBlocks &lt;int&gt; | steals &lt;int&gt; | blocks &lt;int&gt; | position &lt;chr&gt; | birthdate &lt;chr&gt; | rankingSalary &lt;int&gt; | salary &lt;int&gt; |\n",
       "|---|---|---|---|---|---|---|---|---|---|---|---|---|---|---|---|---|---|---|---|---|---|\n",
       "| 1 | 1999 | Allen Iverson | 366 | allen-iverson | SG | PHI | inactive | 48 | 41 | 2 | ⋯ | 223 | 167 | 2 | 0 | 110 |  7 | Shooting Guard | 6/7/1975 | 15 |  9000000 |\n",
       "| 2 | 2000 | Allen Iverson | 366 | allen-iverson | SG | PHI | inactive | 70 | 40 | 2 | ⋯ | 328 | 230 | 2 | 0 | 144 |  5 | Shooting Guard | 6/7/1975 | 27 | 10125000 |\n",
       "| 3 | 2001 | Allen Iverson | 366 | allen-iverson | SG | PHI | inactive | 71 | 41 | 2 | ⋯ | 325 | 237 | 2 | 0 | 178 | 20 | Shooting Guard | 6/7/1975 | 17 | 11250000 |\n",
       "| 4 | 2002 | Allen Iverson | 366 | allen-iverson | SG | PHI | inactive | 60 | 43 | 1 | ⋯ | 331 | 237 | 2 | 0 | 168 | 13 | Shooting Guard | 6/7/1975 | 14 | 12375000 |\n",
       "| 5 | 2003 | Allen Iverson | 366 | allen-iverson | SG | PHI | inactive | 82 | 42 | 1 | ⋯ | 454 | 286 | 2 | 0 | 225 | 13 | Shooting Guard | 6/7/1975 | 11 | 13500000 |\n",
       "| 6 | 2004 | Allen Iverson | 366 | allen-iverson | SG | PHI | inactive | 48 | 42 | 1 | ⋯ | 324 | 209 | 2 | 0 | 115 |  5 | Shooting Guard | 6/7/1975 |  8 | 14625000 |\n",
       "\n"
      ],
      "text/plain": [
       "  year name          playerId playerSlug    positionId teamId status  \n",
       "1 1999 Allen Iverson 366      allen-iverson SG         PHI    inactive\n",
       "2 2000 Allen Iverson 366      allen-iverson SG         PHI    inactive\n",
       "3 2001 Allen Iverson 366      allen-iverson SG         PHI    inactive\n",
       "4 2002 Allen Iverson 366      allen-iverson SG         PHI    inactive\n",
       "5 2003 Allen Iverson 366      allen-iverson SG         PHI    inactive\n",
       "6 2004 Allen Iverson 366      allen-iverson SG         PHI    inactive\n",
       "  gamesPlayed avgMinutes avgFouls ⋯ assists turnovers avgSteals avgBlocks\n",
       "1 48          41         2        ⋯ 223     167       2         0        \n",
       "2 70          40         2        ⋯ 328     230       2         0        \n",
       "3 71          41         2        ⋯ 325     237       2         0        \n",
       "4 60          43         1        ⋯ 331     237       2         0        \n",
       "5 82          42         1        ⋯ 454     286       2         0        \n",
       "6 48          42         1        ⋯ 324     209       2         0        \n",
       "  steals blocks position       birthdate rankingSalary salary  \n",
       "1 110     7     Shooting Guard 6/7/1975  15             9000000\n",
       "2 144     5     Shooting Guard 6/7/1975  27            10125000\n",
       "3 178    20     Shooting Guard 6/7/1975  17            11250000\n",
       "4 168    13     Shooting Guard 6/7/1975  14            12375000\n",
       "5 225    13     Shooting Guard 6/7/1975  11            13500000\n",
       "6 115     5     Shooting Guard 6/7/1975   8            14625000"
      ]
     },
     "metadata": {},
     "output_type": "display_data"
    }
   ],
   "source": [
    "# Converte as colunas numéricas em inteiros\n",
    "cols <- colnames(df)\n",
    "cols_num <- c(\"year\",\"playerId\",\"gamesPlayed\",\"avgMinutes\",\"avgFouls\",\"flagrantFouls\",\"technicalFouls\",\n",
    "\"ejections\",\"doubleDouble\",\"tripleDouble\",\"minutes\",\"rebounds\",\"fouls\",\"avgRebounds\",\"avgPoints\",\"avgFieldGoalsMade\",\"avgFieldGoalsAttempted\",\"fieldGoalPct\",\"avgThreePointFieldGoalsMade\",\n",
    "\"avgThreePointFieldGoalsAttempted\",\"threePointFieldGoalPct\",\"avgFreeThrowsMade\",\"avgFreeThrowsAttempted\",\"freeThrowPct\",\"avgAssists\",\"avgTurnovers\",\"points\",\"fieldGoalsMade\",\"fieldGoalsAttempted\"\n",
    ",\"threePointFieldGoalsMade\",\"threePointFieldGoalsAttempted\",\"freeThrowsMade\",\"freeThrowsAttempted\",\"assists\",\"turnovers\",\"avgSteals\",\"avgBlocks\",\"steals\",\"blocks\",\"rankingSalary\", \"salary\", \"weight\")\n",
    "\n",
    "\n",
    "#reliza a conversao das colunas numéricas em inteiros\n",
    "\n",
    "for (col in cols) {\n",
    "    if (col %in% cols_num) {\n",
    "        df[,col] <- as.integer(df[,col])\n",
    "    }\n",
    "}\n",
    "\n",
    "head(df)"
   ]
  },
  {
   "cell_type": "markdown",
   "id": "afb66624",
   "metadata": {},
   "source": [
    "Imprime as 10 primeiras linhas"
   ]
  },
  {
   "cell_type": "code",
   "execution_count": 265,
   "id": "dbb065a6",
   "metadata": {
    "vscode": {
     "languageId": "r"
    }
   },
   "outputs": [
    {
     "name": "stdout",
     "output_type": "stream",
     "text": [
      "'data.frame':\t8162 obs. of  48 variables:\n",
      " $ year                            : int  1999 2000 2001 2002 2003 2004 2005 2006 2007 2008 ...\n",
      " $ name                            : chr  \"Allen Iverson\" \"Allen Iverson\" \"Allen Iverson\" \"Allen Iverson\" ...\n",
      " $ playerId                        : int  366 366 366 366 366 366 366 366 366 366 ...\n",
      " $ playerSlug                      : chr  \"allen-iverson\" \"allen-iverson\" \"allen-iverson\" \"allen-iverson\" ...\n",
      " $ positionId                      : chr  \"SG\" \"SG\" \"SG\" \"SG\" ...\n",
      " $ teamId                          : chr  \"PHI\" \"PHI\" \"PHI\" \"PHI\" ...\n",
      " $ status                          : chr  \"inactive\" \"inactive\" \"inactive\" \"inactive\" ...\n",
      " $ gamesPlayed                     : int  48 70 71 60 82 48 75 72 65 82 ...\n",
      " $ avgMinutes                      : int  41 40 41 43 42 42 42 43 42 41 ...\n",
      " $ avgFouls                        : int  2 2 2 1 1 1 1 1 1 1 ...\n",
      " $ flagrantFouls                   : int  0 0 0 0 0 0 0 0 0 0 ...\n",
      " $ technicalFouls                  : int  5 12 18 12 8 7 10 13 12 5 ...\n",
      " $ ejections                       : int  0 0 0 1 0 0 0 0 1 1 ...\n",
      " $ doubleDouble                    : int  4 1 4 4 6 8 24 18 17 15 ...\n",
      " $ tripleDouble                    : int  0 0 0 1 0 0 0 0 0 0 ...\n",
      " $ minutes                         : int  1990 2853 2979 2622 3485 2040 3174 3103 2761 3424 ...\n",
      " $ rebounds                        : int  236 267 273 269 344 178 299 232 193 243 ...\n",
      " $ fouls                           : int  98 162 147 102 149 87 140 121 95 109 ...\n",
      " $ avgRebounds                     : int  4 3 3 4 4 3 3 3 2 2 ...\n",
      " $ avgPoints                       : int  26 28 31 31 27 26 30 33 26 26 ...\n",
      " $ avgFieldGoalsMade               : int  9 10 10 11 9 9 10 11 8 8 ...\n",
      " $ avgFieldGoalsAttempted          : int  22 24 25 27 23 23 24 25 20 18 ...\n",
      " $ fieldGoalPct                    : int  41 42 42 39 41 38 42 44 44 45 ...\n",
      " $ avgThreePointFieldGoalsMade     : int  1 1 1 1 1 1 1 1 0 1 ...\n",
      " $ avgThreePointFieldGoalsAttempted: int  4 3 4 4 3 4 4 3 3 3 ...\n",
      " $ threePointFieldGoalPct          : int  29 34 32 29 27 28 30 32 31 34 ...\n",
      " $ avgFreeThrowsMade               : int  7 6 8 7 6 7 8 9 7 7 ...\n",
      " $ avgFreeThrowsAttempted          : int  9 8 10 9 8 9 10 11 9 9 ...\n",
      " $ freeThrowPct                    : int  75 71 81 81 77 74 83 81 79 80 ...\n",
      " $ avgAssists                      : int  4 4 4 5 5 6 7 7 7 7 ...\n",
      " $ avgTurnovers                    : int  3 3 3 3 3 4 4 3 4 2 ...\n",
      " $ points                          : int  1284 1989 2207 1883 2262 1266 2302 2377 1709 2164 ...\n",
      " $ fieldGoalsMade                  : int  435 729 762 665 804 435 771 815 581 712 ...\n",
      " $ fieldGoalsAttempted             : int  1056 1733 1813 1669 1940 1125 1818 1822 1313 1556 ...\n",
      " $ threePointFieldGoalsMade        : int  58 89 98 78 84 57 104 72 62 95 ...\n",
      " $ threePointFieldGoalsAttempted   : int  199 261 306 268 303 199 338 223 197 275 ...\n",
      " $ freeThrowsMade                  : int  356 442 585 475 570 339 656 675 485 645 ...\n",
      " $ freeThrowsAttempted             : int  474 620 719 585 736 455 786 829 610 797 ...\n",
      " $ assists                         : int  223 328 325 331 454 324 596 532 468 586 ...\n",
      " $ turnovers                       : int  167 230 237 237 286 209 344 248 268 245 ...\n",
      " $ avgSteals                       : int  2 2 2 2 2 2 2 1 1 1 ...\n",
      " $ avgBlocks                       : int  0 0 0 0 0 0 0 0 0 0 ...\n",
      " $ steals                          : int  110 144 178 168 225 115 180 140 123 160 ...\n",
      " $ blocks                          : int  7 5 20 13 13 5 9 10 13 12 ...\n",
      " $ position                        : chr  \"Shooting Guard\" \"Shooting Guard\" \"Shooting Guard\" \"Shooting Guard\" ...\n",
      " $ birthdate                       : chr  \"6/7/1975\" \"6/7/1975\" \"6/7/1975\" \"6/7/1975\" ...\n",
      " $ rankingSalary                   : int  15 27 17 14 11 8 4 7 7 6 ...\n",
      " $ salary                          : int  9000000 10125000 11250000 12375000 13500000 14625000 16453125 17184375 19012500 20840625 ...\n"
     ]
    }
   ],
   "source": [
    "# Retorna os primeiros elementos de um vetor, matriz, tabela ou dataframe.\n",
    "str(df)"
   ]
  },
  {
   "cell_type": "code",
   "execution_count": 266,
   "id": "93a37b53",
   "metadata": {
    "vscode": {
     "languageId": "r"
    }
   },
   "outputs": [
    {
     "name": "stdout",
     "output_type": "stream",
     "text": [
      "Numero de linhas: 8162 \n",
      "Numero de linhas: 8162"
     ]
    }
   ],
   "source": [
    "# Conta o Número de observações (linhas)\n",
    "cat(\"Numero de linhas:\", nrow(df), \"\\n\")\n",
    "msg <- paste(\"Numero de linhas\", dim(df)[1], sep=\": \")\n",
    "cat(msg)"
   ]
  },
  {
   "cell_type": "markdown",
   "id": "262b6128",
   "metadata": {},
   "source": [
    "Fazendo verificação se a posição tem lguma influência na média salarial"
   ]
  },
  {
   "cell_type": "code",
   "execution_count": 267,
   "id": "e6ae9b61",
   "metadata": {
    "vscode": {
     "languageId": "r"
    }
   },
   "outputs": [
    {
     "data": {
      "text/html": [
       "<table class=\"dataframe\">\n",
       "<caption>A tibble: 9 × 3</caption>\n",
       "<thead>\n",
       "\t<tr><th scope=col>position</th><th scope=col>Salary_MED</th><th scope=col>N</th></tr>\n",
       "\t<tr><th scope=col>&lt;chr&gt;</th><th scope=col>&lt;dbl&gt;</th><th scope=col>&lt;int&gt;</th></tr>\n",
       "</thead>\n",
       "<tbody>\n",
       "\t<tr><td>Center        </td><td>6456620</td><td>1530</td></tr>\n",
       "\t<tr><td>Forward       </td><td>4985835</td><td> 751</td></tr>\n",
       "\t<tr><td>Guard         </td><td>4478696</td><td> 786</td></tr>\n",
       "\t<tr><td>Guard-Forward </td><td>2177114</td><td>   1</td></tr>\n",
       "\t<tr><td>Not Available </td><td>9378051</td><td>   6</td></tr>\n",
       "\t<tr><td>Point Guard   </td><td>6893137</td><td>1214</td></tr>\n",
       "\t<tr><td>Power Forward </td><td>6665764</td><td>1422</td></tr>\n",
       "\t<tr><td>Shooting Guard</td><td>6179160</td><td>1261</td></tr>\n",
       "\t<tr><td>Small Forward </td><td>6219563</td><td>1191</td></tr>\n",
       "</tbody>\n",
       "</table>\n"
      ],
      "text/latex": [
       "A tibble: 9 × 3\n",
       "\\begin{tabular}{lll}\n",
       " position & Salary\\_MED & N\\\\\n",
       " <chr> & <dbl> & <int>\\\\\n",
       "\\hline\n",
       "\t Center         & 6456620 & 1530\\\\\n",
       "\t Forward        & 4985835 &  751\\\\\n",
       "\t Guard          & 4478696 &  786\\\\\n",
       "\t Guard-Forward  & 2177114 &    1\\\\\n",
       "\t Not Available  & 9378051 &    6\\\\\n",
       "\t Point Guard    & 6893137 & 1214\\\\\n",
       "\t Power Forward  & 6665764 & 1422\\\\\n",
       "\t Shooting Guard & 6179160 & 1261\\\\\n",
       "\t Small Forward  & 6219563 & 1191\\\\\n",
       "\\end{tabular}\n"
      ],
      "text/markdown": [
       "\n",
       "A tibble: 9 × 3\n",
       "\n",
       "| position &lt;chr&gt; | Salary_MED &lt;dbl&gt; | N &lt;int&gt; |\n",
       "|---|---|---|\n",
       "| Center         | 6456620 | 1530 |\n",
       "| Forward        | 4985835 |  751 |\n",
       "| Guard          | 4478696 |  786 |\n",
       "| Guard-Forward  | 2177114 |    1 |\n",
       "| Not Available  | 9378051 |    6 |\n",
       "| Point Guard    | 6893137 | 1214 |\n",
       "| Power Forward  | 6665764 | 1422 |\n",
       "| Shooting Guard | 6179160 | 1261 |\n",
       "| Small Forward  | 6219563 | 1191 |\n",
       "\n"
      ],
      "text/plain": [
       "  position       Salary_MED N   \n",
       "1 Center         6456620    1530\n",
       "2 Forward        4985835     751\n",
       "3 Guard          4478696     786\n",
       "4 Guard-Forward  2177114       1\n",
       "5 Not Available  9378051       6\n",
       "6 Point Guard    6893137    1214\n",
       "7 Power Forward  6665764    1422\n",
       "8 Shooting Guard 6179160    1261\n",
       "9 Small Forward  6219563    1191"
      ]
     },
     "metadata": {},
     "output_type": "display_data"
    }
   ],
   "source": [
    "library(dplyr)\n",
    "\n",
    "df %>%\n",
    "    group_by(position) %>%\n",
    "    summarise(Salary_MED = mean(salary, na.rm = T), N = n())"
   ]
  },
  {
   "cell_type": "code",
   "execution_count": 268,
   "id": "70f0f873",
   "metadata": {
    "vscode": {
     "languageId": "r"
    }
   },
   "outputs": [
    {
     "data": {
      "image/png": "[encoded data removed]",
      "text/plain": [
       "plot without title"
      ]
     },
     "metadata": {
      "image/png": {
       "height": 420,
       "width": 420
      }
     },
     "output_type": "display_data"
    }
   ],
   "source": [
    "library(ggplot2)\n",
    "\n",
    "# Cria um boxplot com a posição que o jogador joga.\n",
    "ggplot(df, aes(x = as.factor(position), y = salary)) +\n",
    "  geom_boxplot(fill = \"lightblue\", color = \"darkblue\") +\n",
    "  labs(\n",
    "    title = \"Distribuição de Salários por posição do jogador\",\n",
    "    x = \"Posição\",\n",
    "    y = \"Salário\"\n",
    "  ) +\n",
    "  theme_minimal()\n",
    "    "
   ]
  },
  {
   "cell_type": "markdown",
   "id": "a351913a",
   "metadata": {},
   "source": [
    "Verificando se tem alguma tendência por time"
   ]
  },
  {
   "cell_type": "code",
   "execution_count": 269,
   "id": "e543df70",
   "metadata": {
    "vscode": {
     "languageId": "r"
    }
   },
   "outputs": [
    {
     "data": {
      "text/html": [
       "<table class=\"dataframe\">\n",
       "<caption>A tibble: 33 × 3</caption>\n",
       "<thead>\n",
       "\t<tr><th scope=col>teamId</th><th scope=col>Salary_MED</th><th scope=col>N</th></tr>\n",
       "\t<tr><th scope=col>&lt;chr&gt;</th><th scope=col>&lt;dbl&gt;</th><th scope=col>&lt;int&gt;</th></tr>\n",
       "</thead>\n",
       "<tbody>\n",
       "\t<tr><td>ATL </td><td>6152077</td><td>257</td></tr>\n",
       "\t<tr><td>BKN </td><td>7663113</td><td>140</td></tr>\n",
       "\t<tr><td>BOS </td><td>6673468</td><td>287</td></tr>\n",
       "\t<tr><td>CHA </td><td>5461732</td><td>248</td></tr>\n",
       "\t<tr><td>CHI </td><td>5753152</td><td>263</td></tr>\n",
       "\t<tr><td>CLE </td><td>6055743</td><td>292</td></tr>\n",
       "\t<tr><td>DAL </td><td>6107932</td><td>279</td></tr>\n",
       "\t<tr><td>DEN </td><td>6157179</td><td>274</td></tr>\n",
       "\t<tr><td>DET </td><td>5299207</td><td>271</td></tr>\n",
       "\t<tr><td>GS  </td><td>7159023</td><td>267</td></tr>\n",
       "\t<tr><td>HOU </td><td>5879119</td><td>264</td></tr>\n",
       "\t<tr><td>IND </td><td>5914232</td><td>265</td></tr>\n",
       "\t<tr><td>LAC </td><td>6490861</td><td>284</td></tr>\n",
       "\t<tr><td>LAL </td><td>6552266</td><td>266</td></tr>\n",
       "\t<tr><td>MEM </td><td>5605927</td><td>268</td></tr>\n",
       "\t<tr><td>MIA </td><td>7122033</td><td>269</td></tr>\n",
       "\t<tr><td>MIL </td><td>6758997</td><td>265</td></tr>\n",
       "\t<tr><td>MIN </td><td>6163713</td><td>249</td></tr>\n",
       "\t<tr><td>NJ  </td><td>4522595</td><td>141</td></tr>\n",
       "\t<tr><td>NO  </td><td>6224939</td><td>248</td></tr>\n",
       "\t<tr><td>NY  </td><td>6091332</td><td>279</td></tr>\n",
       "\t<tr><td>OKC </td><td>6608650</td><td>204</td></tr>\n",
       "\t<tr><td>ORL </td><td>5835337</td><td>252</td></tr>\n",
       "\t<tr><td>PHI </td><td>6164151</td><td>276</td></tr>\n",
       "\t<tr><td>PHX </td><td>6136006</td><td>254</td></tr>\n",
       "\t<tr><td>POR </td><td>6971763</td><td>283</td></tr>\n",
       "\t<tr><td>SA  </td><td>5918869</td><td>286</td></tr>\n",
       "\t<tr><td>SAC </td><td>5137027</td><td>285</td></tr>\n",
       "\t<tr><td>SEA </td><td>4727014</td><td> 90</td></tr>\n",
       "\t<tr><td>TOR </td><td>6518968</td><td>277</td></tr>\n",
       "\t<tr><td>UTAH</td><td>6410091</td><td>283</td></tr>\n",
       "\t<tr><td>VAN </td><td>4017625</td><td> 16</td></tr>\n",
       "\t<tr><td>WSH </td><td>5913102</td><td>280</td></tr>\n",
       "</tbody>\n",
       "</table>\n"
      ],
      "text/latex": [
       "A tibble: 33 × 3\n",
       "\\begin{tabular}{lll}\n",
       " teamId & Salary\\_MED & N\\\\\n",
       " <chr> & <dbl> & <int>\\\\\n",
       "\\hline\n",
       "\t ATL  & 6152077 & 257\\\\\n",
       "\t BKN  & 7663113 & 140\\\\\n",
       "\t BOS  & 6673468 & 287\\\\\n",
       "\t CHA  & 5461732 & 248\\\\\n",
       "\t CHI  & 5753152 & 263\\\\\n",
       "\t CLE  & 6055743 & 292\\\\\n",
       "\t DAL  & 6107932 & 279\\\\\n",
       "\t DEN  & 6157179 & 274\\\\\n",
       "\t DET  & 5299207 & 271\\\\\n",
       "\t GS   & 7159023 & 267\\\\\n",
       "\t HOU  & 5879119 & 264\\\\\n",
       "\t IND  & 5914232 & 265\\\\\n",
       "\t LAC  & 6490861 & 284\\\\\n",
       "\t LAL  & 6552266 & 266\\\\\n",
       "\t MEM  & 5605927 & 268\\\\\n",
       "\t MIA  & 7122033 & 269\\\\\n",
       "\t MIL  & 6758997 & 265\\\\\n",
       "\t MIN  & 6163713 & 249\\\\\n",
       "\t NJ   & 4522595 & 141\\\\\n",
       "\t NO   & 6224939 & 248\\\\\n",
       "\t NY   & 6091332 & 279\\\\\n",
       "\t OKC  & 6608650 & 204\\\\\n",
       "\t ORL  & 5835337 & 252\\\\\n",
       "\t PHI  & 6164151 & 276\\\\\n",
       "\t PHX  & 6136006 & 254\\\\\n",
       "\t POR  & 6971763 & 283\\\\\n",
       "\t SA   & 5918869 & 286\\\\\n",
       "\t SAC  & 5137027 & 285\\\\\n",
       "\t SEA  & 4727014 &  90\\\\\n",
       "\t TOR  & 6518968 & 277\\\\\n",
       "\t UTAH & 6410091 & 283\\\\\n",
       "\t VAN  & 4017625 &  16\\\\\n",
       "\t WSH  & 5913102 & 280\\\\\n",
       "\\end{tabular}\n"
      ],
      "text/markdown": [
       "\n",
       "A tibble: 33 × 3\n",
       "\n",
       "| teamId &lt;chr&gt; | Salary_MED &lt;dbl&gt; | N &lt;int&gt; |\n",
       "|---|---|---|\n",
       "| ATL  | 6152077 | 257 |\n",
       "| BKN  | 7663113 | 140 |\n",
       "| BOS  | 6673468 | 287 |\n",
       "| CHA  | 5461732 | 248 |\n",
       "| CHI  | 5753152 | 263 |\n",
       "| CLE  | 6055743 | 292 |\n",
       "| DAL  | 6107932 | 279 |\n",
       "| DEN  | 6157179 | 274 |\n",
       "| DET  | 5299207 | 271 |\n",
       "| GS   | 7159023 | 267 |\n",
       "| HOU  | 5879119 | 264 |\n",
       "| IND  | 5914232 | 265 |\n",
       "| LAC  | 6490861 | 284 |\n",
       "| LAL  | 6552266 | 266 |\n",
       "| MEM  | 5605927 | 268 |\n",
       "| MIA  | 7122033 | 269 |\n",
       "| MIL  | 6758997 | 265 |\n",
       "| MIN  | 6163713 | 249 |\n",
       "| NJ   | 4522595 | 141 |\n",
       "| NO   | 6224939 | 248 |\n",
       "| NY   | 6091332 | 279 |\n",
       "| OKC  | 6608650 | 204 |\n",
       "| ORL  | 5835337 | 252 |\n",
       "| PHI  | 6164151 | 276 |\n",
       "| PHX  | 6136006 | 254 |\n",
       "| POR  | 6971763 | 283 |\n",
       "| SA   | 5918869 | 286 |\n",
       "| SAC  | 5137027 | 285 |\n",
       "| SEA  | 4727014 |  90 |\n",
       "| TOR  | 6518968 | 277 |\n",
       "| UTAH | 6410091 | 283 |\n",
       "| VAN  | 4017625 |  16 |\n",
       "| WSH  | 5913102 | 280 |\n",
       "\n"
      ],
      "text/plain": [
       "   teamId Salary_MED N  \n",
       "1  ATL    6152077    257\n",
       "2  BKN    7663113    140\n",
       "3  BOS    6673468    287\n",
       "4  CHA    5461732    248\n",
       "5  CHI    5753152    263\n",
       "6  CLE    6055743    292\n",
       "7  DAL    6107932    279\n",
       "8  DEN    6157179    274\n",
       "9  DET    5299207    271\n",
       "10 GS     7159023    267\n",
       "11 HOU    5879119    264\n",
       "12 IND    5914232    265\n",
       "13 LAC    6490861    284\n",
       "14 LAL    6552266    266\n",
       "15 MEM    5605927    268\n",
       "16 MIA    7122033    269\n",
       "17 MIL    6758997    265\n",
       "18 MIN    6163713    249\n",
       "19 NJ     4522595    141\n",
       "20 NO     6224939    248\n",
       "21 NY     6091332    279\n",
       "22 OKC    6608650    204\n",
       "23 ORL    5835337    252\n",
       "24 PHI    6164151    276\n",
       "25 PHX    6136006    254\n",
       "26 POR    6971763    283\n",
       "27 SA     5918869    286\n",
       "28 SAC    5137027    285\n",
       "29 SEA    4727014     90\n",
       "30 TOR    6518968    277\n",
       "31 UTAH   6410091    283\n",
       "32 VAN    4017625     16\n",
       "33 WSH    5913102    280"
      ]
     },
     "metadata": {},
     "output_type": "display_data"
    }
   ],
   "source": [
    "# Filtro de dados\n",
    "df %>%\n",
    "    group_by(teamId) %>%\n",
    "    summarise(Salary_MED = mean(salary, na.rm = T), N = n())"
   ]
  },
  {
   "cell_type": "code",
   "execution_count": 270,
   "id": "3f746611",
   "metadata": {
    "vscode": {
     "languageId": "r"
    }
   },
   "outputs": [
    {
     "data": {
      "image/png": "[encoded data removed]",
      "text/plain": [
       "plot without title"
      ]
     },
     "metadata": {
      "image/png": {
       "height": 420,
       "width": 420
      }
     },
     "output_type": "display_data"
    }
   ],
   "source": [
    "library(ggplot2)\n",
    "\n",
    "# Criar um boxplot para verificar se tem alguma tendência diferente por time\n",
    "ggplot(df, aes(x = as.factor(teamId), y = salary)) +\n",
    "  geom_boxplot(fill = \"lightblue\", color = \"darkblue\") +\n",
    "  labs(\n",
    "    title = \"Distribuição de Salários por Time\",\n",
    "    x = \"Time\",\n",
    "    y = \"Salário\"\n",
    "  ) +\n",
    "  theme_minimal()\n",
    "    "
   ]
  },
  {
   "cell_type": "markdown",
   "id": "9ab32472",
   "metadata": {},
   "source": [
    "Verificando se existe alguma tendência com o ano e podemos ver que existe um aumento progressivo do salário médio ao longo dos anos."
   ]
  },
  {
   "cell_type": "code",
   "execution_count": 271,
   "id": "d60a28d7",
   "metadata": {
    "vscode": {
     "languageId": "r"
    }
   },
   "outputs": [
    {
     "data": {
      "text/html": [
       "<table class=\"dataframe\">\n",
       "<caption>A tibble: 25 × 3</caption>\n",
       "<thead>\n",
       "\t<tr><th scope=col>year</th><th scope=col>Salary_MED</th><th scope=col>N</th></tr>\n",
       "\t<tr><th scope=col>&lt;int&gt;</th><th scope=col>&lt;dbl&gt;</th><th scope=col>&lt;int&gt;</th></tr>\n",
       "</thead>\n",
       "<tbody>\n",
       "\t<tr><td>1999</td><td> 5218849</td><td> 86</td></tr>\n",
       "\t<tr><td>2000</td><td> 4921090</td><td>178</td></tr>\n",
       "\t<tr><td>2001</td><td> 3843058</td><td>342</td></tr>\n",
       "\t<tr><td>2002</td><td> 4714542</td><td>273</td></tr>\n",
       "\t<tr><td>2003</td><td> 5776376</td><td>173</td></tr>\n",
       "\t<tr><td>2004</td><td> 6719690</td><td>116</td></tr>\n",
       "\t<tr><td>2005</td><td> 4512121</td><td>352</td></tr>\n",
       "\t<tr><td>2006</td><td> 4377182</td><td>371</td></tr>\n",
       "\t<tr><td>2007</td><td> 4532247</td><td>383</td></tr>\n",
       "\t<tr><td>2008</td><td> 4960378</td><td>382</td></tr>\n",
       "\t<tr><td>2009</td><td> 4850925</td><td>382</td></tr>\n",
       "\t<tr><td>2010</td><td> 4539874</td><td>397</td></tr>\n",
       "\t<tr><td>2011</td><td> 4328523</td><td>428</td></tr>\n",
       "\t<tr><td>2012</td><td> 6552045</td><td>182</td></tr>\n",
       "\t<tr><td>2013</td><td> 5145463</td><td>324</td></tr>\n",
       "\t<tr><td>2014</td><td> 4658964</td><td>398</td></tr>\n",
       "\t<tr><td>2015</td><td> 5169163</td><td>398</td></tr>\n",
       "\t<tr><td>2016</td><td> 6648092</td><td>402</td></tr>\n",
       "\t<tr><td>2017</td><td> 7783564</td><td>372</td></tr>\n",
       "\t<tr><td>2018</td><td> 7840461</td><td>392</td></tr>\n",
       "\t<tr><td>2019</td><td> 8542018</td><td>386</td></tr>\n",
       "\t<tr><td>2020</td><td> 8549622</td><td>347</td></tr>\n",
       "\t<tr><td>2021</td><td> 8622994</td><td>395</td></tr>\n",
       "\t<tr><td>2022</td><td> 8559113</td><td>415</td></tr>\n",
       "\t<tr><td>2023</td><td>12352411</td><td>288</td></tr>\n",
       "</tbody>\n",
       "</table>\n"
      ],
      "text/latex": [
       "A tibble: 25 × 3\n",
       "\\begin{tabular}{lll}\n",
       " year & Salary\\_MED & N\\\\\n",
       " <int> & <dbl> & <int>\\\\\n",
       "\\hline\n",
       "\t 1999 &  5218849 &  86\\\\\n",
       "\t 2000 &  4921090 & 178\\\\\n",
       "\t 2001 &  3843058 & 342\\\\\n",
       "\t 2002 &  4714542 & 273\\\\\n",
       "\t 2003 &  5776376 & 173\\\\\n",
       "\t 2004 &  6719690 & 116\\\\\n",
       "\t 2005 &  4512121 & 352\\\\\n",
       "\t 2006 &  4377182 & 371\\\\\n",
       "\t 2007 &  4532247 & 383\\\\\n",
       "\t 2008 &  4960378 & 382\\\\\n",
       "\t 2009 &  4850925 & 382\\\\\n",
       "\t 2010 &  4539874 & 397\\\\\n",
       "\t 2011 &  4328523 & 428\\\\\n",
       "\t 2012 &  6552045 & 182\\\\\n",
       "\t 2013 &  5145463 & 324\\\\\n",
       "\t 2014 &  4658964 & 398\\\\\n",
       "\t 2015 &  5169163 & 398\\\\\n",
       "\t 2016 &  6648092 & 402\\\\\n",
       "\t 2017 &  7783564 & 372\\\\\n",
       "\t 2018 &  7840461 & 392\\\\\n",
       "\t 2019 &  8542018 & 386\\\\\n",
       "\t 2020 &  8549622 & 347\\\\\n",
       "\t 2021 &  8622994 & 395\\\\\n",
       "\t 2022 &  8559113 & 415\\\\\n",
       "\t 2023 & 12352411 & 288\\\\\n",
       "\\end{tabular}\n"
      ],
      "text/markdown": [
       "\n",
       "A tibble: 25 × 3\n",
       "\n",
       "| year &lt;int&gt; | Salary_MED &lt;dbl&gt; | N &lt;int&gt; |\n",
       "|---|---|---|\n",
       "| 1999 |  5218849 |  86 |\n",
       "| 2000 |  4921090 | 178 |\n",
       "| 2001 |  3843058 | 342 |\n",
       "| 2002 |  4714542 | 273 |\n",
       "| 2003 |  5776376 | 173 |\n",
       "| 2004 |  6719690 | 116 |\n",
       "| 2005 |  4512121 | 352 |\n",
       "| 2006 |  4377182 | 371 |\n",
       "| 2007 |  4532247 | 383 |\n",
       "| 2008 |  4960378 | 382 |\n",
       "| 2009 |  4850925 | 382 |\n",
       "| 2010 |  4539874 | 397 |\n",
       "| 2011 |  4328523 | 428 |\n",
       "| 2012 |  6552045 | 182 |\n",
       "| 2013 |  5145463 | 324 |\n",
       "| 2014 |  4658964 | 398 |\n",
       "| 2015 |  5169163 | 398 |\n",
       "| 2016 |  6648092 | 402 |\n",
       "| 2017 |  7783564 | 372 |\n",
       "| 2018 |  7840461 | 392 |\n",
       "| 2019 |  8542018 | 386 |\n",
       "| 2020 |  8549622 | 347 |\n",
       "| 2021 |  8622994 | 395 |\n",
       "| 2022 |  8559113 | 415 |\n",
       "| 2023 | 12352411 | 288 |\n",
       "\n"
      ],
      "text/plain": [
       "   year Salary_MED N  \n",
       "1  1999  5218849    86\n",
       "2  2000  4921090   178\n",
       "3  2001  3843058   342\n",
       "4  2002  4714542   273\n",
       "5  2003  5776376   173\n",
       "6  2004  6719690   116\n",
       "7  2005  4512121   352\n",
       "8  2006  4377182   371\n",
       "9  2007  4532247   383\n",
       "10 2008  4960378   382\n",
       "11 2009  4850925   382\n",
       "12 2010  4539874   397\n",
       "13 2011  4328523   428\n",
       "14 2012  6552045   182\n",
       "15 2013  5145463   324\n",
       "16 2014  4658964   398\n",
       "17 2015  5169163   398\n",
       "18 2016  6648092   402\n",
       "19 2017  7783564   372\n",
       "20 2018  7840461   392\n",
       "21 2019  8542018   386\n",
       "22 2020  8549622   347\n",
       "23 2021  8622994   395\n",
       "24 2022  8559113   415\n",
       "25 2023 12352411   288"
      ]
     },
     "metadata": {},
     "output_type": "display_data"
    }
   ],
   "source": [
    "# Filtro de dados\n",
    "df %>%\n",
    "    group_by(year) %>%\n",
    "    summarise(Salary_MED = mean(salary, na.rm = T), N = n())"
   ]
  },
  {
   "cell_type": "markdown",
   "id": "60bb2999",
   "metadata": {},
   "source": [
    "Realizando a mesma análise através do blocksplot"
   ]
  },
  {
   "cell_type": "code",
   "execution_count": 272,
   "id": "e60e3a0d",
   "metadata": {
    "vscode": {
     "languageId": "r"
    }
   },
   "outputs": [
    {
     "data": {
      "image/png": "[encoded data removed]",
      "text/plain": [
       "plot without title"
      ]
     },
     "metadata": {
      "image/png": {
       "height": 420,
       "width": 420
      }
     },
     "output_type": "display_data"
    }
   ],
   "source": [
    "library(ggplot2)\n",
    "\n",
    "# Criar um boxplot de salário por ano\n",
    "ggplot(df, aes(x = as.factor(year), y = salary)) +\n",
    "  geom_boxplot(fill = \"lightblue\", color = \"darkblue\") +\n",
    "  labs(\n",
    "    title = \"Distribuição de Salários por Ano\",\n",
    "    x = \"Ano\",\n",
    "    y = \"Salário\"\n",
    "  ) +\n",
    "  theme_minimal()\n",
    "    "
   ]
  },
  {
   "cell_type": "markdown",
   "id": "e2b3bd25",
   "metadata": {},
   "source": [
    "Como não vimos nenhuma influência nas colunas não numéricas, vamos selecionar somente as colunas numéricas para continuar a análise"
   ]
  },
  {
   "cell_type": "code",
   "execution_count": 273,
   "id": "7efbac7b",
   "metadata": {
    "vscode": {
     "languageId": "r"
    }
   },
   "outputs": [
    {
     "name": "stdout",
     "output_type": "stream",
     "text": [
      "'data.frame':\t8162 obs. of  41 variables:\n",
      " $ year                            : int  1999 2000 2001 2002 2003 2004 2005 2006 2007 2008 ...\n",
      " $ playerId                        : int  366 366 366 366 366 366 366 366 366 366 ...\n",
      " $ gamesPlayed                     : int  48 70 71 60 82 48 75 72 65 82 ...\n",
      " $ avgMinutes                      : int  41 40 41 43 42 42 42 43 42 41 ...\n",
      " $ avgFouls                        : int  2 2 2 1 1 1 1 1 1 1 ...\n",
      " $ flagrantFouls                   : int  0 0 0 0 0 0 0 0 0 0 ...\n",
      " $ technicalFouls                  : int  5 12 18 12 8 7 10 13 12 5 ...\n",
      " $ ejections                       : int  0 0 0 1 0 0 0 0 1 1 ...\n",
      " $ doubleDouble                    : int  4 1 4 4 6 8 24 18 17 15 ...\n",
      " $ tripleDouble                    : int  0 0 0 1 0 0 0 0 0 0 ...\n",
      " $ minutes                         : int  1990 2853 2979 2622 3485 2040 3174 3103 2761 3424 ...\n",
      " $ rebounds                        : int  236 267 273 269 344 178 299 232 193 243 ...\n",
      " $ fouls                           : int  98 162 147 102 149 87 140 121 95 109 ...\n",
      " $ avgRebounds                     : int  4 3 3 4 4 3 3 3 2 2 ...\n",
      " $ avgPoints                       : int  26 28 31 31 27 26 30 33 26 26 ...\n",
      " $ avgFieldGoalsMade               : int  9 10 10 11 9 9 10 11 8 8 ...\n",
      " $ avgFieldGoalsAttempted          : int  22 24 25 27 23 23 24 25 20 18 ...\n",
      " $ fieldGoalPct                    : int  41 42 42 39 41 38 42 44 44 45 ...\n",
      " $ avgThreePointFieldGoalsMade     : int  1 1 1 1 1 1 1 1 0 1 ...\n",
      " $ avgThreePointFieldGoalsAttempted: int  4 3 4 4 3 4 4 3 3 3 ...\n",
      " $ threePointFieldGoalPct          : int  29 34 32 29 27 28 30 32 31 34 ...\n",
      " $ avgFreeThrowsMade               : int  7 6 8 7 6 7 8 9 7 7 ...\n",
      " $ avgFreeThrowsAttempted          : int  9 8 10 9 8 9 10 11 9 9 ...\n",
      " $ freeThrowPct                    : int  75 71 81 81 77 74 83 81 79 80 ...\n",
      " $ avgAssists                      : int  4 4 4 5 5 6 7 7 7 7 ...\n",
      " $ avgTurnovers                    : int  3 3 3 3 3 4 4 3 4 2 ...\n",
      " $ points                          : int  1284 1989 2207 1883 2262 1266 2302 2377 1709 2164 ...\n",
      " $ fieldGoalsMade                  : int  435 729 762 665 804 435 771 815 581 712 ...\n",
      " $ fieldGoalsAttempted             : int  1056 1733 1813 1669 1940 1125 1818 1822 1313 1556 ...\n",
      " $ threePointFieldGoalsMade        : int  58 89 98 78 84 57 104 72 62 95 ...\n",
      " $ threePointFieldGoalsAttempted   : int  199 261 306 268 303 199 338 223 197 275 ...\n",
      " $ freeThrowsMade                  : int  356 442 585 475 570 339 656 675 485 645 ...\n",
      " $ freeThrowsAttempted             : int  474 620 719 585 736 455 786 829 610 797 ...\n",
      " $ assists                         : int  223 328 325 331 454 324 596 532 468 586 ...\n",
      " $ turnovers                       : int  167 230 237 237 286 209 344 248 268 245 ...\n",
      " $ avgSteals                       : int  2 2 2 2 2 2 2 1 1 1 ...\n",
      " $ avgBlocks                       : int  0 0 0 0 0 0 0 0 0 0 ...\n",
      " $ steals                          : int  110 144 178 168 225 115 180 140 123 160 ...\n",
      " $ blocks                          : int  7 5 20 13 13 5 9 10 13 12 ...\n",
      " $ rankingSalary                   : int  15 27 17 14 11 8 4 7 7 6 ...\n",
      " $ salary                          : int  9000000 10125000 11250000 12375000 13500000 14625000 16453125 17184375 19012500 20840625 ...\n"
     ]
    }
   ],
   "source": [
    "#atribui os nomes das colunas para depois ser criardo um novo dataframe\n",
    "Colunas_selecionadas <- c(\"year\", \"playerId\", \"gamesPlayed\", \"avgMinutes\", \n",
    "                      \"avgFouls\", \"flagrantFouls\", \"technicalFouls\", \"ejections\", \n",
    "                      \"doubleDouble\", \"tripleDouble\", \"minutes\", \"rebounds\", \n",
    "                      \"fouls\", \"avgRebounds\", \"avgPoints\", \"avgFieldGoalsMade\", \n",
    "                      \"avgFieldGoalsAttempted\", \"fieldGoalPct\", \n",
    "                      \"avgThreePointFieldGoalsMade\", \"avgThreePointFieldGoalsAttempted\", \n",
    "                      \"threePointFieldGoalPct\", \"avgFreeThrowsMade\", \n",
    "                      \"avgFreeThrowsAttempted\", \"freeThrowPct\", \"avgAssists\", \n",
    "                      \"avgTurnovers\", \"points\", \"fieldGoalsMade\", \"fieldGoalsAttempted\", \n",
    "                      \"threePointFieldGoalsMade\", \"threePointFieldGoalsAttempted\", \n",
    "                      \"freeThrowsMade\", \"freeThrowsAttempted\", \"assists\", \n",
    "                      \"turnovers\", \"avgSteals\", \"avgBlocks\", \"steals\", \"blocks\", \n",
    "                      \"rankingSalary\", \"salary\")\n",
    "\n",
    "#monta o novo dataframe somente com variáveis inteiras\n",
    "new_df <- df[, Colunas_selecionadas]\n",
    "\n",
    "\n",
    "str(new_df)"
   ]
  },
  {
   "cell_type": "code",
   "execution_count": 274,
   "id": "b706ef0e",
   "metadata": {
    "vscode": {
     "languageId": "r"
    }
   },
   "outputs": [
    {
     "data": {
      "text/html": [
       "<table class=\"dataframe\">\n",
       "<caption>A data.frame: 6 × 41</caption>\n",
       "<thead>\n",
       "\t<tr><th></th><th scope=col>year</th><th scope=col>playerId</th><th scope=col>gamesPlayed</th><th scope=col>avgMinutes</th><th scope=col>avgFouls</th><th scope=col>flagrantFouls</th><th scope=col>technicalFouls</th><th scope=col>ejections</th><th scope=col>doubleDouble</th><th scope=col>tripleDouble</th><th scope=col>⋯</th><th scope=col>freeThrowsMade</th><th scope=col>freeThrowsAttempted</th><th scope=col>assists</th><th scope=col>turnovers</th><th scope=col>avgSteals</th><th scope=col>avgBlocks</th><th scope=col>steals</th><th scope=col>blocks</th><th scope=col>rankingSalary</th><th scope=col>salary</th></tr>\n",
       "\t<tr><th></th><th scope=col>&lt;int&gt;</th><th scope=col>&lt;int&gt;</th><th scope=col>&lt;int&gt;</th><th scope=col>&lt;int&gt;</th><th scope=col>&lt;int&gt;</th><th scope=col>&lt;int&gt;</th><th scope=col>&lt;int&gt;</th><th scope=col>&lt;int&gt;</th><th scope=col>&lt;int&gt;</th><th scope=col>&lt;int&gt;</th><th scope=col>⋯</th><th scope=col>&lt;int&gt;</th><th scope=col>&lt;int&gt;</th><th scope=col>&lt;int&gt;</th><th scope=col>&lt;int&gt;</th><th scope=col>&lt;int&gt;</th><th scope=col>&lt;int&gt;</th><th scope=col>&lt;int&gt;</th><th scope=col>&lt;int&gt;</th><th scope=col>&lt;int&gt;</th><th scope=col>&lt;int&gt;</th></tr>\n",
       "</thead>\n",
       "<tbody>\n",
       "\t<tr><th scope=row>1</th><td>1999</td><td>366</td><td>48</td><td>41</td><td>2</td><td>0</td><td> 5</td><td>0</td><td>4</td><td>0</td><td>⋯</td><td>356</td><td>474</td><td>223</td><td>167</td><td>2</td><td>0</td><td>110</td><td> 7</td><td>15</td><td> 9000000</td></tr>\n",
       "\t<tr><th scope=row>2</th><td>2000</td><td>366</td><td>70</td><td>40</td><td>2</td><td>0</td><td>12</td><td>0</td><td>1</td><td>0</td><td>⋯</td><td>442</td><td>620</td><td>328</td><td>230</td><td>2</td><td>0</td><td>144</td><td> 5</td><td>27</td><td>10125000</td></tr>\n",
       "\t<tr><th scope=row>3</th><td>2001</td><td>366</td><td>71</td><td>41</td><td>2</td><td>0</td><td>18</td><td>0</td><td>4</td><td>0</td><td>⋯</td><td>585</td><td>719</td><td>325</td><td>237</td><td>2</td><td>0</td><td>178</td><td>20</td><td>17</td><td>11250000</td></tr>\n",
       "\t<tr><th scope=row>4</th><td>2002</td><td>366</td><td>60</td><td>43</td><td>1</td><td>0</td><td>12</td><td>1</td><td>4</td><td>1</td><td>⋯</td><td>475</td><td>585</td><td>331</td><td>237</td><td>2</td><td>0</td><td>168</td><td>13</td><td>14</td><td>12375000</td></tr>\n",
       "\t<tr><th scope=row>5</th><td>2003</td><td>366</td><td>82</td><td>42</td><td>1</td><td>0</td><td> 8</td><td>0</td><td>6</td><td>0</td><td>⋯</td><td>570</td><td>736</td><td>454</td><td>286</td><td>2</td><td>0</td><td>225</td><td>13</td><td>11</td><td>13500000</td></tr>\n",
       "\t<tr><th scope=row>6</th><td>2004</td><td>366</td><td>48</td><td>42</td><td>1</td><td>0</td><td> 7</td><td>0</td><td>8</td><td>0</td><td>⋯</td><td>339</td><td>455</td><td>324</td><td>209</td><td>2</td><td>0</td><td>115</td><td> 5</td><td> 8</td><td>14625000</td></tr>\n",
       "</tbody>\n",
       "</table>\n"
      ],
      "text/latex": [
       "A data.frame: 6 × 41\n",
       "\\begin{tabular}{r|lllllllllllllllllllll}\n",
       "  & year & playerId & gamesPlayed & avgMinutes & avgFouls & flagrantFouls & technicalFouls & ejections & doubleDouble & tripleDouble & ⋯ & freeThrowsMade & freeThrowsAttempted & assists & turnovers & avgSteals & avgBlocks & steals & blocks & rankingSalary & salary\\\\\n",
       "  & <int> & <int> & <int> & <int> & <int> & <int> & <int> & <int> & <int> & <int> & ⋯ & <int> & <int> & <int> & <int> & <int> & <int> & <int> & <int> & <int> & <int>\\\\\n",
       "\\hline\n",
       "\t1 & 1999 & 366 & 48 & 41 & 2 & 0 &  5 & 0 & 4 & 0 & ⋯ & 356 & 474 & 223 & 167 & 2 & 0 & 110 &  7 & 15 &  9000000\\\\\n",
       "\t2 & 2000 & 366 & 70 & 40 & 2 & 0 & 12 & 0 & 1 & 0 & ⋯ & 442 & 620 & 328 & 230 & 2 & 0 & 144 &  5 & 27 & 10125000\\\\\n",
       "\t3 & 2001 & 366 & 71 & 41 & 2 & 0 & 18 & 0 & 4 & 0 & ⋯ & 585 & 719 & 325 & 237 & 2 & 0 & 178 & 20 & 17 & 11250000\\\\\n",
       "\t4 & 2002 & 366 & 60 & 43 & 1 & 0 & 12 & 1 & 4 & 1 & ⋯ & 475 & 585 & 331 & 237 & 2 & 0 & 168 & 13 & 14 & 12375000\\\\\n",
       "\t5 & 2003 & 366 & 82 & 42 & 1 & 0 &  8 & 0 & 6 & 0 & ⋯ & 570 & 736 & 454 & 286 & 2 & 0 & 225 & 13 & 11 & 13500000\\\\\n",
       "\t6 & 2004 & 366 & 48 & 42 & 1 & 0 &  7 & 0 & 8 & 0 & ⋯ & 339 & 455 & 324 & 209 & 2 & 0 & 115 &  5 &  8 & 14625000\\\\\n",
       "\\end{tabular}\n"
      ],
      "text/markdown": [
       "\n",
       "A data.frame: 6 × 41\n",
       "\n",
       "| <!--/--> | year &lt;int&gt; | playerId &lt;int&gt; | gamesPlayed &lt;int&gt; | avgMinutes &lt;int&gt; | avgFouls &lt;int&gt; | flagrantFouls &lt;int&gt; | technicalFouls &lt;int&gt; | ejections &lt;int&gt; | doubleDouble &lt;int&gt; | tripleDouble &lt;int&gt; | ⋯ ⋯ | freeThrowsMade &lt;int&gt; | freeThrowsAttempted &lt;int&gt; | assists &lt;int&gt; | turnovers &lt;int&gt; | avgSteals &lt;int&gt; | avgBlocks &lt;int&gt; | steals &lt;int&gt; | blocks &lt;int&gt; | rankingSalary &lt;int&gt; | salary &lt;int&gt; |\n",
       "|---|---|---|---|---|---|---|---|---|---|---|---|---|---|---|---|---|---|---|---|---|---|\n",
       "| 1 | 1999 | 366 | 48 | 41 | 2 | 0 |  5 | 0 | 4 | 0 | ⋯ | 356 | 474 | 223 | 167 | 2 | 0 | 110 |  7 | 15 |  9000000 |\n",
       "| 2 | 2000 | 366 | 70 | 40 | 2 | 0 | 12 | 0 | 1 | 0 | ⋯ | 442 | 620 | 328 | 230 | 2 | 0 | 144 |  5 | 27 | 10125000 |\n",
       "| 3 | 2001 | 366 | 71 | 41 | 2 | 0 | 18 | 0 | 4 | 0 | ⋯ | 585 | 719 | 325 | 237 | 2 | 0 | 178 | 20 | 17 | 11250000 |\n",
       "| 4 | 2002 | 366 | 60 | 43 | 1 | 0 | 12 | 1 | 4 | 1 | ⋯ | 475 | 585 | 331 | 237 | 2 | 0 | 168 | 13 | 14 | 12375000 |\n",
       "| 5 | 2003 | 366 | 82 | 42 | 1 | 0 |  8 | 0 | 6 | 0 | ⋯ | 570 | 736 | 454 | 286 | 2 | 0 | 225 | 13 | 11 | 13500000 |\n",
       "| 6 | 2004 | 366 | 48 | 42 | 1 | 0 |  7 | 0 | 8 | 0 | ⋯ | 339 | 455 | 324 | 209 | 2 | 0 | 115 |  5 |  8 | 14625000 |\n",
       "\n"
      ],
      "text/plain": [
       "  year playerId gamesPlayed avgMinutes avgFouls flagrantFouls technicalFouls\n",
       "1 1999 366      48          41         2        0              5            \n",
       "2 2000 366      70          40         2        0             12            \n",
       "3 2001 366      71          41         2        0             18            \n",
       "4 2002 366      60          43         1        0             12            \n",
       "5 2003 366      82          42         1        0              8            \n",
       "6 2004 366      48          42         1        0              7            \n",
       "  ejections doubleDouble tripleDouble ⋯ freeThrowsMade freeThrowsAttempted\n",
       "1 0         4            0            ⋯ 356            474                \n",
       "2 0         1            0            ⋯ 442            620                \n",
       "3 0         4            0            ⋯ 585            719                \n",
       "4 1         4            1            ⋯ 475            585                \n",
       "5 0         6            0            ⋯ 570            736                \n",
       "6 0         8            0            ⋯ 339            455                \n",
       "  assists turnovers avgSteals avgBlocks steals blocks rankingSalary salary  \n",
       "1 223     167       2         0         110     7     15             9000000\n",
       "2 328     230       2         0         144     5     27            10125000\n",
       "3 325     237       2         0         178    20     17            11250000\n",
       "4 331     237       2         0         168    13     14            12375000\n",
       "5 454     286       2         0         225    13     11            13500000\n",
       "6 324     209       2         0         115     5      8            14625000"
      ]
     },
     "metadata": {},
     "output_type": "display_data"
    }
   ],
   "source": [
    "head(new_df)"
   ]
  },
  {
   "cell_type": "markdown",
   "id": "f4a5b7dc",
   "metadata": {},
   "source": [
    "Verificando o resumo estatistico do salário"
   ]
  },
  {
   "cell_type": "code",
   "execution_count": 275,
   "id": "fc12512f",
   "metadata": {
    "vscode": {
     "languageId": "r"
    }
   },
   "outputs": [
    {
     "data": {
      "text/plain": [
       "   Min. 1st Qu.  Median    Mean 3rd Qu.    Max. \n",
       "    1.0    90.0   192.0   210.6   321.0   676.0 "
      ]
     },
     "metadata": {},
     "output_type": "display_data"
    },
    {
     "data": {
      "text/plain": [
       "    Min.  1st Qu.   Median     Mean  3rd Qu.     Max. \n",
       "    4533  1551659  3500000  6156346  8193030 51915615 "
      ]
     },
     "metadata": {},
     "output_type": "display_data"
    }
   ],
   "source": [
    "# Resumo estatístico básico das variáveis categóricas e lógicos\n",
    "\n",
    "summary(new_df[,\"rankingSalary\"])\n",
    "\n",
    "summary(new_df[,\"salary\"])"
   ]
  },
  {
   "cell_type": "markdown",
   "id": "f18d57fa",
   "metadata": {},
   "source": [
    "Vamos selecionar somente somente os salarios mais altos (menor ou igual ao primeiro quartil) do \"RankingSalary\", ou terceiro ou maior quartil do \"Salary\""
   ]
  },
  {
   "cell_type": "code",
   "execution_count": 276,
   "id": "98fa5790",
   "metadata": {
    "vscode": {
     "languageId": "r"
    }
   },
   "outputs": [
    {
     "name": "stdout",
     "output_type": "stream",
     "text": [
      "Numero de linhas: 2047 \n",
      "Numero de linhas: 2047"
     ]
    },
    {
     "data": {
      "text/html": [
       "<table class=\"dataframe\">\n",
       "<caption>A data.frame: 6 × 41</caption>\n",
       "<thead>\n",
       "\t<tr><th></th><th scope=col>year</th><th scope=col>playerId</th><th scope=col>gamesPlayed</th><th scope=col>avgMinutes</th><th scope=col>avgFouls</th><th scope=col>flagrantFouls</th><th scope=col>technicalFouls</th><th scope=col>ejections</th><th scope=col>doubleDouble</th><th scope=col>tripleDouble</th><th scope=col>⋯</th><th scope=col>freeThrowsMade</th><th scope=col>freeThrowsAttempted</th><th scope=col>assists</th><th scope=col>turnovers</th><th scope=col>avgSteals</th><th scope=col>avgBlocks</th><th scope=col>steals</th><th scope=col>blocks</th><th scope=col>rankingSalary</th><th scope=col>salary</th></tr>\n",
       "\t<tr><th></th><th scope=col>&lt;int&gt;</th><th scope=col>&lt;int&gt;</th><th scope=col>&lt;int&gt;</th><th scope=col>&lt;int&gt;</th><th scope=col>&lt;int&gt;</th><th scope=col>&lt;int&gt;</th><th scope=col>&lt;int&gt;</th><th scope=col>&lt;int&gt;</th><th scope=col>&lt;int&gt;</th><th scope=col>&lt;int&gt;</th><th scope=col>⋯</th><th scope=col>&lt;int&gt;</th><th scope=col>&lt;int&gt;</th><th scope=col>&lt;int&gt;</th><th scope=col>&lt;int&gt;</th><th scope=col>&lt;int&gt;</th><th scope=col>&lt;int&gt;</th><th scope=col>&lt;int&gt;</th><th scope=col>&lt;int&gt;</th><th scope=col>&lt;int&gt;</th><th scope=col>&lt;int&gt;</th></tr>\n",
       "</thead>\n",
       "<tbody>\n",
       "\t<tr><th scope=row>1</th><td>1999</td><td>366</td><td>48</td><td>41</td><td>2</td><td>0</td><td> 5</td><td>0</td><td>4</td><td>0</td><td>⋯</td><td>356</td><td>474</td><td>223</td><td>167</td><td>2</td><td>0</td><td>110</td><td> 7</td><td>15</td><td> 9000000</td></tr>\n",
       "\t<tr><th scope=row>2</th><td>2000</td><td>366</td><td>70</td><td>40</td><td>2</td><td>0</td><td>12</td><td>0</td><td>1</td><td>0</td><td>⋯</td><td>442</td><td>620</td><td>328</td><td>230</td><td>2</td><td>0</td><td>144</td><td> 5</td><td>27</td><td>10125000</td></tr>\n",
       "\t<tr><th scope=row>3</th><td>2001</td><td>366</td><td>71</td><td>41</td><td>2</td><td>0</td><td>18</td><td>0</td><td>4</td><td>0</td><td>⋯</td><td>585</td><td>719</td><td>325</td><td>237</td><td>2</td><td>0</td><td>178</td><td>20</td><td>17</td><td>11250000</td></tr>\n",
       "\t<tr><th scope=row>4</th><td>2002</td><td>366</td><td>60</td><td>43</td><td>1</td><td>0</td><td>12</td><td>1</td><td>4</td><td>1</td><td>⋯</td><td>475</td><td>585</td><td>331</td><td>237</td><td>2</td><td>0</td><td>168</td><td>13</td><td>14</td><td>12375000</td></tr>\n",
       "\t<tr><th scope=row>5</th><td>2003</td><td>366</td><td>82</td><td>42</td><td>1</td><td>0</td><td> 8</td><td>0</td><td>6</td><td>0</td><td>⋯</td><td>570</td><td>736</td><td>454</td><td>286</td><td>2</td><td>0</td><td>225</td><td>13</td><td>11</td><td>13500000</td></tr>\n",
       "\t<tr><th scope=row>6</th><td>2004</td><td>366</td><td>48</td><td>42</td><td>1</td><td>0</td><td> 7</td><td>0</td><td>8</td><td>0</td><td>⋯</td><td>339</td><td>455</td><td>324</td><td>209</td><td>2</td><td>0</td><td>115</td><td> 5</td><td> 8</td><td>14625000</td></tr>\n",
       "</tbody>\n",
       "</table>\n"
      ],
      "text/latex": [
       "A data.frame: 6 × 41\n",
       "\\begin{tabular}{r|lllllllllllllllllllll}\n",
       "  & year & playerId & gamesPlayed & avgMinutes & avgFouls & flagrantFouls & technicalFouls & ejections & doubleDouble & tripleDouble & ⋯ & freeThrowsMade & freeThrowsAttempted & assists & turnovers & avgSteals & avgBlocks & steals & blocks & rankingSalary & salary\\\\\n",
       "  & <int> & <int> & <int> & <int> & <int> & <int> & <int> & <int> & <int> & <int> & ⋯ & <int> & <int> & <int> & <int> & <int> & <int> & <int> & <int> & <int> & <int>\\\\\n",
       "\\hline\n",
       "\t1 & 1999 & 366 & 48 & 41 & 2 & 0 &  5 & 0 & 4 & 0 & ⋯ & 356 & 474 & 223 & 167 & 2 & 0 & 110 &  7 & 15 &  9000000\\\\\n",
       "\t2 & 2000 & 366 & 70 & 40 & 2 & 0 & 12 & 0 & 1 & 0 & ⋯ & 442 & 620 & 328 & 230 & 2 & 0 & 144 &  5 & 27 & 10125000\\\\\n",
       "\t3 & 2001 & 366 & 71 & 41 & 2 & 0 & 18 & 0 & 4 & 0 & ⋯ & 585 & 719 & 325 & 237 & 2 & 0 & 178 & 20 & 17 & 11250000\\\\\n",
       "\t4 & 2002 & 366 & 60 & 43 & 1 & 0 & 12 & 1 & 4 & 1 & ⋯ & 475 & 585 & 331 & 237 & 2 & 0 & 168 & 13 & 14 & 12375000\\\\\n",
       "\t5 & 2003 & 366 & 82 & 42 & 1 & 0 &  8 & 0 & 6 & 0 & ⋯ & 570 & 736 & 454 & 286 & 2 & 0 & 225 & 13 & 11 & 13500000\\\\\n",
       "\t6 & 2004 & 366 & 48 & 42 & 1 & 0 &  7 & 0 & 8 & 0 & ⋯ & 339 & 455 & 324 & 209 & 2 & 0 & 115 &  5 &  8 & 14625000\\\\\n",
       "\\end{tabular}\n"
      ],
      "text/markdown": [
       "\n",
       "A data.frame: 6 × 41\n",
       "\n",
       "| <!--/--> | year &lt;int&gt; | playerId &lt;int&gt; | gamesPlayed &lt;int&gt; | avgMinutes &lt;int&gt; | avgFouls &lt;int&gt; | flagrantFouls &lt;int&gt; | technicalFouls &lt;int&gt; | ejections &lt;int&gt; | doubleDouble &lt;int&gt; | tripleDouble &lt;int&gt; | ⋯ ⋯ | freeThrowsMade &lt;int&gt; | freeThrowsAttempted &lt;int&gt; | assists &lt;int&gt; | turnovers &lt;int&gt; | avgSteals &lt;int&gt; | avgBlocks &lt;int&gt; | steals &lt;int&gt; | blocks &lt;int&gt; | rankingSalary &lt;int&gt; | salary &lt;int&gt; |\n",
       "|---|---|---|---|---|---|---|---|---|---|---|---|---|---|---|---|---|---|---|---|---|---|\n",
       "| 1 | 1999 | 366 | 48 | 41 | 2 | 0 |  5 | 0 | 4 | 0 | ⋯ | 356 | 474 | 223 | 167 | 2 | 0 | 110 |  7 | 15 |  9000000 |\n",
       "| 2 | 2000 | 366 | 70 | 40 | 2 | 0 | 12 | 0 | 1 | 0 | ⋯ | 442 | 620 | 328 | 230 | 2 | 0 | 144 |  5 | 27 | 10125000 |\n",
       "| 3 | 2001 | 366 | 71 | 41 | 2 | 0 | 18 | 0 | 4 | 0 | ⋯ | 585 | 719 | 325 | 237 | 2 | 0 | 178 | 20 | 17 | 11250000 |\n",
       "| 4 | 2002 | 366 | 60 | 43 | 1 | 0 | 12 | 1 | 4 | 1 | ⋯ | 475 | 585 | 331 | 237 | 2 | 0 | 168 | 13 | 14 | 12375000 |\n",
       "| 5 | 2003 | 366 | 82 | 42 | 1 | 0 |  8 | 0 | 6 | 0 | ⋯ | 570 | 736 | 454 | 286 | 2 | 0 | 225 | 13 | 11 | 13500000 |\n",
       "| 6 | 2004 | 366 | 48 | 42 | 1 | 0 |  7 | 0 | 8 | 0 | ⋯ | 339 | 455 | 324 | 209 | 2 | 0 | 115 |  5 |  8 | 14625000 |\n",
       "\n"
      ],
      "text/plain": [
       "  year playerId gamesPlayed avgMinutes avgFouls flagrantFouls technicalFouls\n",
       "1 1999 366      48          41         2        0              5            \n",
       "2 2000 366      70          40         2        0             12            \n",
       "3 2001 366      71          41         2        0             18            \n",
       "4 2002 366      60          43         1        0             12            \n",
       "5 2003 366      82          42         1        0              8            \n",
       "6 2004 366      48          42         1        0              7            \n",
       "  ejections doubleDouble tripleDouble ⋯ freeThrowsMade freeThrowsAttempted\n",
       "1 0         4            0            ⋯ 356            474                \n",
       "2 0         1            0            ⋯ 442            620                \n",
       "3 0         4            0            ⋯ 585            719                \n",
       "4 1         4            1            ⋯ 475            585                \n",
       "5 0         6            0            ⋯ 570            736                \n",
       "6 0         8            0            ⋯ 339            455                \n",
       "  assists turnovers avgSteals avgBlocks steals blocks rankingSalary salary  \n",
       "1 223     167       2         0         110     7     15             9000000\n",
       "2 328     230       2         0         144     5     27            10125000\n",
       "3 325     237       2         0         178    20     17            11250000\n",
       "4 331     237       2         0         168    13     14            12375000\n",
       "5 454     286       2         0         225    13     11            13500000\n",
       "6 324     209       2         0         115     5      8            14625000"
      ]
     },
     "metadata": {},
     "output_type": "display_data"
    }
   ],
   "source": [
    "#Baseado na analise acima iremos criar um filtro para valores acima do terceiro quartil\n",
    "df_above_3rd <- new_df %>%\n",
    "\n",
    "  # / / / / / / FILTRO POR RANKING DO SALÁRIO / / / / / / / / / /\n",
    "  filter(rankingSalary <= 90) # Filtro para os MAIORES salários, dentro do primeiro quartil de raking de salário\n",
    "  #filter(rankingSalary > 321) # Filtro para os MENORES salários, acima do terceiro quartil de raking de salário\n",
    "\n",
    "  # / / / / / / FILTRO PELO VALOR DO SALÁRIO / / / / / / / / / /\n",
    "  #filter(salary <= 1551659) # Filtro para os MENORES salários, dentro do primeiro quartil de raking de salário\n",
    "  #filter(salary > 8193030) # Filtro para os MAIORES salários, acima do terceiro quartil de raking de salário\n",
    "\n",
    "# Número de observações (linhas)\n",
    "cat(\"Numero de linhas:\", nrow(df_above_3rd), \"\\n\")\n",
    "msg <- paste(\"Numero de linhas\", dim(df_above_3rd)[1], sep=\": \")\n",
    "cat(msg)\n",
    "\n",
    "head(df_above_3rd)"
   ]
  },
  {
   "cell_type": "markdown",
   "id": "76f116a6",
   "metadata": {},
   "source": [
    "Como temos a influencia da inflação e na quantidade de dados, vamos verificar a quantidade de dados por ano."
   ]
  },
  {
   "cell_type": "code",
   "execution_count": 277,
   "id": "952d3b56",
   "metadata": {
    "vscode": {
     "languageId": "r"
    }
   },
   "outputs": [
    {
     "data": {
      "text/html": [
       "<table class=\"dataframe\">\n",
       "<caption>A tibble: 25 × 3</caption>\n",
       "<thead>\n",
       "\t<tr><th scope=col>year</th><th scope=col>Salary_MED</th><th scope=col>N</th></tr>\n",
       "\t<tr><th scope=col>&lt;int&gt;</th><th scope=col>&lt;dbl&gt;</th><th scope=col>&lt;int&gt;</th></tr>\n",
       "</thead>\n",
       "<tbody>\n",
       "\t<tr><td>1999</td><td> 6811931</td><td>58</td></tr>\n",
       "\t<tr><td>2000</td><td> 9210062</td><td>65</td></tr>\n",
       "\t<tr><td>2001</td><td> 9069744</td><td>86</td></tr>\n",
       "\t<tr><td>2002</td><td> 9673802</td><td>86</td></tr>\n",
       "\t<tr><td>2003</td><td> 8905045</td><td>88</td></tr>\n",
       "\t<tr><td>2004</td><td> 8152080</td><td>88</td></tr>\n",
       "\t<tr><td>2005</td><td>10532391</td><td>86</td></tr>\n",
       "\t<tr><td>2006</td><td>10668496</td><td>85</td></tr>\n",
       "\t<tr><td>2007</td><td>11720894</td><td>83</td></tr>\n",
       "\t<tr><td>2008</td><td>12499829</td><td>86</td></tr>\n",
       "\t<tr><td>2009</td><td>12268370</td><td>85</td></tr>\n",
       "\t<tr><td>2010</td><td>12262856</td><td>84</td></tr>\n",
       "\t<tr><td>2011</td><td>12124342</td><td>86</td></tr>\n",
       "\t<tr><td>2012</td><td>12979421</td><td>59</td></tr>\n",
       "\t<tr><td>2013</td><td>12307782</td><td>85</td></tr>\n",
       "\t<tr><td>2014</td><td>12440346</td><td>87</td></tr>\n",
       "\t<tr><td>2015</td><td>13926992</td><td>89</td></tr>\n",
       "\t<tr><td>2016</td><td>17491181</td><td>90</td></tr>\n",
       "\t<tr><td>2017</td><td>19927736</td><td>88</td></tr>\n",
       "\t<tr><td>2018</td><td>21006223</td><td>87</td></tr>\n",
       "\t<tr><td>2019</td><td>24302159</td><td>82</td></tr>\n",
       "\t<tr><td>2020</td><td>24236119</td><td>74</td></tr>\n",
       "\t<tr><td>2021</td><td>25712067</td><td>82</td></tr>\n",
       "\t<tr><td>2022</td><td>27642943</td><td>78</td></tr>\n",
       "\t<tr><td>2023</td><td>29876274</td><td>80</td></tr>\n",
       "</tbody>\n",
       "</table>\n"
      ],
      "text/latex": [
       "A tibble: 25 × 3\n",
       "\\begin{tabular}{lll}\n",
       " year & Salary\\_MED & N\\\\\n",
       " <int> & <dbl> & <int>\\\\\n",
       "\\hline\n",
       "\t 1999 &  6811931 & 58\\\\\n",
       "\t 2000 &  9210062 & 65\\\\\n",
       "\t 2001 &  9069744 & 86\\\\\n",
       "\t 2002 &  9673802 & 86\\\\\n",
       "\t 2003 &  8905045 & 88\\\\\n",
       "\t 2004 &  8152080 & 88\\\\\n",
       "\t 2005 & 10532391 & 86\\\\\n",
       "\t 2006 & 10668496 & 85\\\\\n",
       "\t 2007 & 11720894 & 83\\\\\n",
       "\t 2008 & 12499829 & 86\\\\\n",
       "\t 2009 & 12268370 & 85\\\\\n",
       "\t 2010 & 12262856 & 84\\\\\n",
       "\t 2011 & 12124342 & 86\\\\\n",
       "\t 2012 & 12979421 & 59\\\\\n",
       "\t 2013 & 12307782 & 85\\\\\n",
       "\t 2014 & 12440346 & 87\\\\\n",
       "\t 2015 & 13926992 & 89\\\\\n",
       "\t 2016 & 17491181 & 90\\\\\n",
       "\t 2017 & 19927736 & 88\\\\\n",
       "\t 2018 & 21006223 & 87\\\\\n",
       "\t 2019 & 24302159 & 82\\\\\n",
       "\t 2020 & 24236119 & 74\\\\\n",
       "\t 2021 & 25712067 & 82\\\\\n",
       "\t 2022 & 27642943 & 78\\\\\n",
       "\t 2023 & 29876274 & 80\\\\\n",
       "\\end{tabular}\n"
      ],
      "text/markdown": [
       "\n",
       "A tibble: 25 × 3\n",
       "\n",
       "| year &lt;int&gt; | Salary_MED &lt;dbl&gt; | N &lt;int&gt; |\n",
       "|---|---|---|\n",
       "| 1999 |  6811931 | 58 |\n",
       "| 2000 |  9210062 | 65 |\n",
       "| 2001 |  9069744 | 86 |\n",
       "| 2002 |  9673802 | 86 |\n",
       "| 2003 |  8905045 | 88 |\n",
       "| 2004 |  8152080 | 88 |\n",
       "| 2005 | 10532391 | 86 |\n",
       "| 2006 | 10668496 | 85 |\n",
       "| 2007 | 11720894 | 83 |\n",
       "| 2008 | 12499829 | 86 |\n",
       "| 2009 | 12268370 | 85 |\n",
       "| 2010 | 12262856 | 84 |\n",
       "| 2011 | 12124342 | 86 |\n",
       "| 2012 | 12979421 | 59 |\n",
       "| 2013 | 12307782 | 85 |\n",
       "| 2014 | 12440346 | 87 |\n",
       "| 2015 | 13926992 | 89 |\n",
       "| 2016 | 17491181 | 90 |\n",
       "| 2017 | 19927736 | 88 |\n",
       "| 2018 | 21006223 | 87 |\n",
       "| 2019 | 24302159 | 82 |\n",
       "| 2020 | 24236119 | 74 |\n",
       "| 2021 | 25712067 | 82 |\n",
       "| 2022 | 27642943 | 78 |\n",
       "| 2023 | 29876274 | 80 |\n",
       "\n"
      ],
      "text/plain": [
       "   year Salary_MED N \n",
       "1  1999  6811931   58\n",
       "2  2000  9210062   65\n",
       "3  2001  9069744   86\n",
       "4  2002  9673802   86\n",
       "5  2003  8905045   88\n",
       "6  2004  8152080   88\n",
       "7  2005 10532391   86\n",
       "8  2006 10668496   85\n",
       "9  2007 11720894   83\n",
       "10 2008 12499829   86\n",
       "11 2009 12268370   85\n",
       "12 2010 12262856   84\n",
       "13 2011 12124342   86\n",
       "14 2012 12979421   59\n",
       "15 2013 12307782   85\n",
       "16 2014 12440346   87\n",
       "17 2015 13926992   89\n",
       "18 2016 17491181   90\n",
       "19 2017 19927736   88\n",
       "20 2018 21006223   87\n",
       "21 2019 24302159   82\n",
       "22 2020 24236119   74\n",
       "23 2021 25712067   82\n",
       "24 2022 27642943   78\n",
       "25 2023 29876274   80"
      ]
     },
     "metadata": {},
     "output_type": "display_data"
    }
   ],
   "source": [
    "# Filtro de dados\n",
    "df_above_3rd %>%\n",
    "    group_by(year) %>%\n",
    "    summarise(Salary_MED = mean(salary, na.rm = T), N = n())"
   ]
  },
  {
   "cell_type": "markdown",
   "id": "b7dcb9aa",
   "metadata": {},
   "source": [
    "para não influenciar os dados, iremos considerar somente anos que tiverem mais de 50 amostras"
   ]
  },
  {
   "cell_type": "code",
   "execution_count": 278,
   "id": "e2b9a5bd",
   "metadata": {
    "vscode": {
     "languageId": "r"
    }
   },
   "outputs": [
    {
     "name": "stdout",
     "output_type": "stream",
     "text": [
      "Numero de linhas: 2047 \n",
      "Numero de linhas: 2047"
     ]
    },
    {
     "data": {
      "text/html": [
       "<table class=\"dataframe\">\n",
       "<caption>A tibble: 6 × 41</caption>\n",
       "<thead>\n",
       "\t<tr><th scope=col>year</th><th scope=col>playerId</th><th scope=col>gamesPlayed</th><th scope=col>avgMinutes</th><th scope=col>avgFouls</th><th scope=col>flagrantFouls</th><th scope=col>technicalFouls</th><th scope=col>ejections</th><th scope=col>doubleDouble</th><th scope=col>tripleDouble</th><th scope=col>⋯</th><th scope=col>freeThrowsMade</th><th scope=col>freeThrowsAttempted</th><th scope=col>assists</th><th scope=col>turnovers</th><th scope=col>avgSteals</th><th scope=col>avgBlocks</th><th scope=col>steals</th><th scope=col>blocks</th><th scope=col>rankingSalary</th><th scope=col>salary</th></tr>\n",
       "\t<tr><th scope=col>&lt;int&gt;</th><th scope=col>&lt;int&gt;</th><th scope=col>&lt;int&gt;</th><th scope=col>&lt;int&gt;</th><th scope=col>&lt;int&gt;</th><th scope=col>&lt;int&gt;</th><th scope=col>&lt;int&gt;</th><th scope=col>&lt;int&gt;</th><th scope=col>&lt;int&gt;</th><th scope=col>&lt;int&gt;</th><th scope=col>⋯</th><th scope=col>&lt;int&gt;</th><th scope=col>&lt;int&gt;</th><th scope=col>&lt;int&gt;</th><th scope=col>&lt;int&gt;</th><th scope=col>&lt;int&gt;</th><th scope=col>&lt;int&gt;</th><th scope=col>&lt;int&gt;</th><th scope=col>&lt;int&gt;</th><th scope=col>&lt;int&gt;</th><th scope=col>&lt;int&gt;</th></tr>\n",
       "</thead>\n",
       "<tbody>\n",
       "\t<tr><td>1999</td><td>366</td><td>48</td><td>41</td><td>2</td><td>0</td><td> 5</td><td>0</td><td>4</td><td>0</td><td>⋯</td><td>356</td><td>474</td><td>223</td><td>167</td><td>2</td><td>0</td><td>110</td><td> 7</td><td>15</td><td> 9000000</td></tr>\n",
       "\t<tr><td>2000</td><td>366</td><td>70</td><td>40</td><td>2</td><td>0</td><td>12</td><td>0</td><td>1</td><td>0</td><td>⋯</td><td>442</td><td>620</td><td>328</td><td>230</td><td>2</td><td>0</td><td>144</td><td> 5</td><td>27</td><td>10125000</td></tr>\n",
       "\t<tr><td>2001</td><td>366</td><td>71</td><td>41</td><td>2</td><td>0</td><td>18</td><td>0</td><td>4</td><td>0</td><td>⋯</td><td>585</td><td>719</td><td>325</td><td>237</td><td>2</td><td>0</td><td>178</td><td>20</td><td>17</td><td>11250000</td></tr>\n",
       "\t<tr><td>2002</td><td>366</td><td>60</td><td>43</td><td>1</td><td>0</td><td>12</td><td>1</td><td>4</td><td>1</td><td>⋯</td><td>475</td><td>585</td><td>331</td><td>237</td><td>2</td><td>0</td><td>168</td><td>13</td><td>14</td><td>12375000</td></tr>\n",
       "\t<tr><td>2003</td><td>366</td><td>82</td><td>42</td><td>1</td><td>0</td><td> 8</td><td>0</td><td>6</td><td>0</td><td>⋯</td><td>570</td><td>736</td><td>454</td><td>286</td><td>2</td><td>0</td><td>225</td><td>13</td><td>11</td><td>13500000</td></tr>\n",
       "\t<tr><td>2004</td><td>366</td><td>48</td><td>42</td><td>1</td><td>0</td><td> 7</td><td>0</td><td>8</td><td>0</td><td>⋯</td><td>339</td><td>455</td><td>324</td><td>209</td><td>2</td><td>0</td><td>115</td><td> 5</td><td> 8</td><td>14625000</td></tr>\n",
       "</tbody>\n",
       "</table>\n"
      ],
      "text/latex": [
       "A tibble: 6 × 41\n",
       "\\begin{tabular}{lllllllllllllllllllll}\n",
       " year & playerId & gamesPlayed & avgMinutes & avgFouls & flagrantFouls & technicalFouls & ejections & doubleDouble & tripleDouble & ⋯ & freeThrowsMade & freeThrowsAttempted & assists & turnovers & avgSteals & avgBlocks & steals & blocks & rankingSalary & salary\\\\\n",
       " <int> & <int> & <int> & <int> & <int> & <int> & <int> & <int> & <int> & <int> & ⋯ & <int> & <int> & <int> & <int> & <int> & <int> & <int> & <int> & <int> & <int>\\\\\n",
       "\\hline\n",
       "\t 1999 & 366 & 48 & 41 & 2 & 0 &  5 & 0 & 4 & 0 & ⋯ & 356 & 474 & 223 & 167 & 2 & 0 & 110 &  7 & 15 &  9000000\\\\\n",
       "\t 2000 & 366 & 70 & 40 & 2 & 0 & 12 & 0 & 1 & 0 & ⋯ & 442 & 620 & 328 & 230 & 2 & 0 & 144 &  5 & 27 & 10125000\\\\\n",
       "\t 2001 & 366 & 71 & 41 & 2 & 0 & 18 & 0 & 4 & 0 & ⋯ & 585 & 719 & 325 & 237 & 2 & 0 & 178 & 20 & 17 & 11250000\\\\\n",
       "\t 2002 & 366 & 60 & 43 & 1 & 0 & 12 & 1 & 4 & 1 & ⋯ & 475 & 585 & 331 & 237 & 2 & 0 & 168 & 13 & 14 & 12375000\\\\\n",
       "\t 2003 & 366 & 82 & 42 & 1 & 0 &  8 & 0 & 6 & 0 & ⋯ & 570 & 736 & 454 & 286 & 2 & 0 & 225 & 13 & 11 & 13500000\\\\\n",
       "\t 2004 & 366 & 48 & 42 & 1 & 0 &  7 & 0 & 8 & 0 & ⋯ & 339 & 455 & 324 & 209 & 2 & 0 & 115 &  5 &  8 & 14625000\\\\\n",
       "\\end{tabular}\n"
      ],
      "text/markdown": [
       "\n",
       "A tibble: 6 × 41\n",
       "\n",
       "| year &lt;int&gt; | playerId &lt;int&gt; | gamesPlayed &lt;int&gt; | avgMinutes &lt;int&gt; | avgFouls &lt;int&gt; | flagrantFouls &lt;int&gt; | technicalFouls &lt;int&gt; | ejections &lt;int&gt; | doubleDouble &lt;int&gt; | tripleDouble &lt;int&gt; | ⋯ ⋯ | freeThrowsMade &lt;int&gt; | freeThrowsAttempted &lt;int&gt; | assists &lt;int&gt; | turnovers &lt;int&gt; | avgSteals &lt;int&gt; | avgBlocks &lt;int&gt; | steals &lt;int&gt; | blocks &lt;int&gt; | rankingSalary &lt;int&gt; | salary &lt;int&gt; |\n",
       "|---|---|---|---|---|---|---|---|---|---|---|---|---|---|---|---|---|---|---|---|---|\n",
       "| 1999 | 366 | 48 | 41 | 2 | 0 |  5 | 0 | 4 | 0 | ⋯ | 356 | 474 | 223 | 167 | 2 | 0 | 110 |  7 | 15 |  9000000 |\n",
       "| 2000 | 366 | 70 | 40 | 2 | 0 | 12 | 0 | 1 | 0 | ⋯ | 442 | 620 | 328 | 230 | 2 | 0 | 144 |  5 | 27 | 10125000 |\n",
       "| 2001 | 366 | 71 | 41 | 2 | 0 | 18 | 0 | 4 | 0 | ⋯ | 585 | 719 | 325 | 237 | 2 | 0 | 178 | 20 | 17 | 11250000 |\n",
       "| 2002 | 366 | 60 | 43 | 1 | 0 | 12 | 1 | 4 | 1 | ⋯ | 475 | 585 | 331 | 237 | 2 | 0 | 168 | 13 | 14 | 12375000 |\n",
       "| 2003 | 366 | 82 | 42 | 1 | 0 |  8 | 0 | 6 | 0 | ⋯ | 570 | 736 | 454 | 286 | 2 | 0 | 225 | 13 | 11 | 13500000 |\n",
       "| 2004 | 366 | 48 | 42 | 1 | 0 |  7 | 0 | 8 | 0 | ⋯ | 339 | 455 | 324 | 209 | 2 | 0 | 115 |  5 |  8 | 14625000 |\n",
       "\n"
      ],
      "text/plain": [
       "  year playerId gamesPlayed avgMinutes avgFouls flagrantFouls technicalFouls\n",
       "1 1999 366      48          41         2        0              5            \n",
       "2 2000 366      70          40         2        0             12            \n",
       "3 2001 366      71          41         2        0             18            \n",
       "4 2002 366      60          43         1        0             12            \n",
       "5 2003 366      82          42         1        0              8            \n",
       "6 2004 366      48          42         1        0              7            \n",
       "  ejections doubleDouble tripleDouble ⋯ freeThrowsMade freeThrowsAttempted\n",
       "1 0         4            0            ⋯ 356            474                \n",
       "2 0         1            0            ⋯ 442            620                \n",
       "3 0         4            0            ⋯ 585            719                \n",
       "4 1         4            1            ⋯ 475            585                \n",
       "5 0         6            0            ⋯ 570            736                \n",
       "6 0         8            0            ⋯ 339            455                \n",
       "  assists turnovers avgSteals avgBlocks steals blocks rankingSalary salary  \n",
       "1 223     167       2         0         110     7     15             9000000\n",
       "2 328     230       2         0         144     5     27            10125000\n",
       "3 325     237       2         0         178    20     17            11250000\n",
       "4 331     237       2         0         168    13     14            12375000\n",
       "5 454     286       2         0         225    13     11            13500000\n",
       "6 324     209       2         0         115     5      8            14625000"
      ]
     },
     "metadata": {},
     "output_type": "display_data"
    }
   ],
   "source": [
    "\n",
    "# Filtra e remover anos com menos de 50 amostras\n",
    "df_filtered <- df_above_3rd %>%\n",
    "  group_by(year) %>%\n",
    "  mutate(N = n()) %>%\n",
    "  ungroup() %>%\n",
    "  filter(N >= 50) %>%\n",
    "  select(-N)  # Remove a coluna temporária N\n",
    "\n",
    "# Conta novamente o número de observações (linhas)\n",
    "cat(\"Numero de linhas:\", nrow(df_filtered), \"\\n\")\n",
    "msg <- paste(\"Numero de linhas\", dim(df_filtered)[1], sep=\": \")\n",
    "cat(msg)\n",
    "\n",
    "\n",
    "head(df_filtered)"
   ]
  },
  {
   "cell_type": "code",
   "execution_count": 279,
   "id": "9a8b8dfd",
   "metadata": {
    "vscode": {
     "languageId": "r"
    }
   },
   "outputs": [
    {
     "data": {
      "text/html": [
       "<table class=\"dataframe\">\n",
       "<caption>A tibble: 25 × 3</caption>\n",
       "<thead>\n",
       "\t<tr><th scope=col>year</th><th scope=col>Salary_MED</th><th scope=col>N</th></tr>\n",
       "\t<tr><th scope=col>&lt;int&gt;</th><th scope=col>&lt;dbl&gt;</th><th scope=col>&lt;int&gt;</th></tr>\n",
       "</thead>\n",
       "<tbody>\n",
       "\t<tr><td>1999</td><td> 6811931</td><td>58</td></tr>\n",
       "\t<tr><td>2000</td><td> 9210062</td><td>65</td></tr>\n",
       "\t<tr><td>2001</td><td> 9069744</td><td>86</td></tr>\n",
       "\t<tr><td>2002</td><td> 9673802</td><td>86</td></tr>\n",
       "\t<tr><td>2003</td><td> 8905045</td><td>88</td></tr>\n",
       "\t<tr><td>2004</td><td> 8152080</td><td>88</td></tr>\n",
       "\t<tr><td>2005</td><td>10532391</td><td>86</td></tr>\n",
       "\t<tr><td>2006</td><td>10668496</td><td>85</td></tr>\n",
       "\t<tr><td>2007</td><td>11720894</td><td>83</td></tr>\n",
       "\t<tr><td>2008</td><td>12499829</td><td>86</td></tr>\n",
       "\t<tr><td>2009</td><td>12268370</td><td>85</td></tr>\n",
       "\t<tr><td>2010</td><td>12262856</td><td>84</td></tr>\n",
       "\t<tr><td>2011</td><td>12124342</td><td>86</td></tr>\n",
       "\t<tr><td>2012</td><td>12979421</td><td>59</td></tr>\n",
       "\t<tr><td>2013</td><td>12307782</td><td>85</td></tr>\n",
       "\t<tr><td>2014</td><td>12440346</td><td>87</td></tr>\n",
       "\t<tr><td>2015</td><td>13926992</td><td>89</td></tr>\n",
       "\t<tr><td>2016</td><td>17491181</td><td>90</td></tr>\n",
       "\t<tr><td>2017</td><td>19927736</td><td>88</td></tr>\n",
       "\t<tr><td>2018</td><td>21006223</td><td>87</td></tr>\n",
       "\t<tr><td>2019</td><td>24302159</td><td>82</td></tr>\n",
       "\t<tr><td>2020</td><td>24236119</td><td>74</td></tr>\n",
       "\t<tr><td>2021</td><td>25712067</td><td>82</td></tr>\n",
       "\t<tr><td>2022</td><td>27642943</td><td>78</td></tr>\n",
       "\t<tr><td>2023</td><td>29876274</td><td>80</td></tr>\n",
       "</tbody>\n",
       "</table>\n"
      ],
      "text/latex": [
       "A tibble: 25 × 3\n",
       "\\begin{tabular}{lll}\n",
       " year & Salary\\_MED & N\\\\\n",
       " <int> & <dbl> & <int>\\\\\n",
       "\\hline\n",
       "\t 1999 &  6811931 & 58\\\\\n",
       "\t 2000 &  9210062 & 65\\\\\n",
       "\t 2001 &  9069744 & 86\\\\\n",
       "\t 2002 &  9673802 & 86\\\\\n",
       "\t 2003 &  8905045 & 88\\\\\n",
       "\t 2004 &  8152080 & 88\\\\\n",
       "\t 2005 & 10532391 & 86\\\\\n",
       "\t 2006 & 10668496 & 85\\\\\n",
       "\t 2007 & 11720894 & 83\\\\\n",
       "\t 2008 & 12499829 & 86\\\\\n",
       "\t 2009 & 12268370 & 85\\\\\n",
       "\t 2010 & 12262856 & 84\\\\\n",
       "\t 2011 & 12124342 & 86\\\\\n",
       "\t 2012 & 12979421 & 59\\\\\n",
       "\t 2013 & 12307782 & 85\\\\\n",
       "\t 2014 & 12440346 & 87\\\\\n",
       "\t 2015 & 13926992 & 89\\\\\n",
       "\t 2016 & 17491181 & 90\\\\\n",
       "\t 2017 & 19927736 & 88\\\\\n",
       "\t 2018 & 21006223 & 87\\\\\n",
       "\t 2019 & 24302159 & 82\\\\\n",
       "\t 2020 & 24236119 & 74\\\\\n",
       "\t 2021 & 25712067 & 82\\\\\n",
       "\t 2022 & 27642943 & 78\\\\\n",
       "\t 2023 & 29876274 & 80\\\\\n",
       "\\end{tabular}\n"
      ],
      "text/markdown": [
       "\n",
       "A tibble: 25 × 3\n",
       "\n",
       "| year &lt;int&gt; | Salary_MED &lt;dbl&gt; | N &lt;int&gt; |\n",
       "|---|---|---|\n",
       "| 1999 |  6811931 | 58 |\n",
       "| 2000 |  9210062 | 65 |\n",
       "| 2001 |  9069744 | 86 |\n",
       "| 2002 |  9673802 | 86 |\n",
       "| 2003 |  8905045 | 88 |\n",
       "| 2004 |  8152080 | 88 |\n",
       "| 2005 | 10532391 | 86 |\n",
       "| 2006 | 10668496 | 85 |\n",
       "| 2007 | 11720894 | 83 |\n",
       "| 2008 | 12499829 | 86 |\n",
       "| 2009 | 12268370 | 85 |\n",
       "| 2010 | 12262856 | 84 |\n",
       "| 2011 | 12124342 | 86 |\n",
       "| 2012 | 12979421 | 59 |\n",
       "| 2013 | 12307782 | 85 |\n",
       "| 2014 | 12440346 | 87 |\n",
       "| 2015 | 13926992 | 89 |\n",
       "| 2016 | 17491181 | 90 |\n",
       "| 2017 | 19927736 | 88 |\n",
       "| 2018 | 21006223 | 87 |\n",
       "| 2019 | 24302159 | 82 |\n",
       "| 2020 | 24236119 | 74 |\n",
       "| 2021 | 25712067 | 82 |\n",
       "| 2022 | 27642943 | 78 |\n",
       "| 2023 | 29876274 | 80 |\n",
       "\n"
      ],
      "text/plain": [
       "   year Salary_MED N \n",
       "1  1999  6811931   58\n",
       "2  2000  9210062   65\n",
       "3  2001  9069744   86\n",
       "4  2002  9673802   86\n",
       "5  2003  8905045   88\n",
       "6  2004  8152080   88\n",
       "7  2005 10532391   86\n",
       "8  2006 10668496   85\n",
       "9  2007 11720894   83\n",
       "10 2008 12499829   86\n",
       "11 2009 12268370   85\n",
       "12 2010 12262856   84\n",
       "13 2011 12124342   86\n",
       "14 2012 12979421   59\n",
       "15 2013 12307782   85\n",
       "16 2014 12440346   87\n",
       "17 2015 13926992   89\n",
       "18 2016 17491181   90\n",
       "19 2017 19927736   88\n",
       "20 2018 21006223   87\n",
       "21 2019 24302159   82\n",
       "22 2020 24236119   74\n",
       "23 2021 25712067   82\n",
       "24 2022 27642943   78\n",
       "25 2023 29876274   80"
      ]
     },
     "metadata": {},
     "output_type": "display_data"
    }
   ],
   "source": [
    "# Verifica como ficou os dados após o ultimo filtro\n",
    "df_filtered %>%\n",
    "    group_by(year) %>%\n",
    "    summarise(Salary_MED = mean(salary, na.rm = T), N = n())"
   ]
  },
  {
   "cell_type": "markdown",
   "id": "ef4d49c4",
   "metadata": {},
   "source": [
    "Após os filtros vamos fazer uma verificação gráfica para visualizar o comprotamento dos salários ao longo dos anos."
   ]
  },
  {
   "cell_type": "code",
   "execution_count": 280,
   "id": "d2fc1e5d",
   "metadata": {
    "vscode": {
     "languageId": "r"
    }
   },
   "outputs": [
    {
     "data": {
      "image/png": "[encoded data removed]",
      "text/plain": [
       "plot without title"
      ]
     },
     "metadata": {
      "image/png": {
       "height": 420,
       "width": 420
      }
     },
     "output_type": "display_data"
    }
   ],
   "source": [
    "# boxplot de salário por ano\n",
    "ggplot(df_filtered, aes(x = as.factor(year), y = salary)) +\n",
    "  geom_boxplot(fill = \"lightblue\", color = \"darkblue\") +\n",
    "  labs(\n",
    "    title = \"Distribuição de Salários por Ano\",\n",
    "    x = \"Ano\",\n",
    "    y = \"Salário\"\n",
    "  ) +\n",
    "  theme_minimal()\n",
    "    "
   ]
  },
  {
   "cell_type": "markdown",
   "id": "927f1fbb",
   "metadata": {},
   "source": [
    "Até 2015, tinhamos um comportamento normal e continuo dos salários, mas depois de 2017 a média e adispersão dos salarios foram aumentando proporcionalmente"
   ]
  },
  {
   "cell_type": "code",
   "execution_count": 281,
   "id": "f3c0ff64",
   "metadata": {
    "vscode": {
     "languageId": "r"
    }
   },
   "outputs": [
    {
     "data": {
      "image/png": "[encoded data removed]",
      "text/plain": [
       "plot without title"
      ]
     },
     "metadata": {
      "image/png": {
       "height": 420,
       "width": 420
      }
     },
     "output_type": "display_data"
    }
   ],
   "source": [
    "\n",
    "library(ggplot2)\n",
    "\n",
    "\n",
    "ggplot(data = df_filtered, aes(x = salary)) +\n",
    "  geom_histogram(bins = 20)+\n",
    "  geom_vline(xintercept = median(df_filtered$salary), color = \"red\", linetype = \"dashed\") +\n",
    "  labs(\n",
    "    title = \"Histograma de Salários\",\n",
    "    x = \"Salário\",\n",
    "    y = \"Frequência\"\n",
    "  ) +\n",
    "  theme_minimal()"
   ]
  },
  {
   "cell_type": "markdown",
   "id": "1dc5759e",
   "metadata": {},
   "source": [
    "Como ja era esperado temos uma distribuição normal deslocada para esqueda com cauda longa, isto é devido a grande variação dos salários, principalmente se formos ver nos ultimos anos que tem aumentado consideravelmente."
   ]
  },
  {
   "cell_type": "markdown",
   "id": "790f743d",
   "metadata": {},
   "source": [
    "Para poder determinar os parametros que mais podem ter influência com o salário, iremos fazer uma matriz de correlação "
   ]
  },
  {
   "cell_type": "code",
   "execution_count": 282,
   "id": "fef817f1",
   "metadata": {
    "vscode": {
     "languageId": "r"
    }
   },
   "outputs": [
    {
     "data": {
      "text/html": [
       "<table class=\"dataframe\">\n",
       "<caption>A tibble: 6 × 41</caption>\n",
       "<thead>\n",
       "\t<tr><th scope=col>year</th><th scope=col>playerId</th><th scope=col>gamesPlayed</th><th scope=col>avgMinutes</th><th scope=col>avgFouls</th><th scope=col>flagrantFouls</th><th scope=col>technicalFouls</th><th scope=col>ejections</th><th scope=col>doubleDouble</th><th scope=col>tripleDouble</th><th scope=col>⋯</th><th scope=col>freeThrowsMade</th><th scope=col>freeThrowsAttempted</th><th scope=col>assists</th><th scope=col>turnovers</th><th scope=col>avgSteals</th><th scope=col>avgBlocks</th><th scope=col>steals</th><th scope=col>blocks</th><th scope=col>rankingSalary</th><th scope=col>salary</th></tr>\n",
       "\t<tr><th scope=col>&lt;int&gt;</th><th scope=col>&lt;int&gt;</th><th scope=col>&lt;int&gt;</th><th scope=col>&lt;int&gt;</th><th scope=col>&lt;int&gt;</th><th scope=col>&lt;int&gt;</th><th scope=col>&lt;int&gt;</th><th scope=col>&lt;int&gt;</th><th scope=col>&lt;int&gt;</th><th scope=col>&lt;int&gt;</th><th scope=col>⋯</th><th scope=col>&lt;int&gt;</th><th scope=col>&lt;int&gt;</th><th scope=col>&lt;int&gt;</th><th scope=col>&lt;int&gt;</th><th scope=col>&lt;int&gt;</th><th scope=col>&lt;int&gt;</th><th scope=col>&lt;int&gt;</th><th scope=col>&lt;int&gt;</th><th scope=col>&lt;int&gt;</th><th scope=col>&lt;int&gt;</th></tr>\n",
       "</thead>\n",
       "<tbody>\n",
       "\t<tr><td>1999</td><td>366</td><td>48</td><td>41</td><td>2</td><td>0</td><td> 5</td><td>0</td><td>4</td><td>0</td><td>⋯</td><td>356</td><td>474</td><td>223</td><td>167</td><td>2</td><td>0</td><td>110</td><td> 7</td><td>15</td><td> 9000000</td></tr>\n",
       "\t<tr><td>2000</td><td>366</td><td>70</td><td>40</td><td>2</td><td>0</td><td>12</td><td>0</td><td>1</td><td>0</td><td>⋯</td><td>442</td><td>620</td><td>328</td><td>230</td><td>2</td><td>0</td><td>144</td><td> 5</td><td>27</td><td>10125000</td></tr>\n",
       "\t<tr><td>2001</td><td>366</td><td>71</td><td>41</td><td>2</td><td>0</td><td>18</td><td>0</td><td>4</td><td>0</td><td>⋯</td><td>585</td><td>719</td><td>325</td><td>237</td><td>2</td><td>0</td><td>178</td><td>20</td><td>17</td><td>11250000</td></tr>\n",
       "\t<tr><td>2002</td><td>366</td><td>60</td><td>43</td><td>1</td><td>0</td><td>12</td><td>1</td><td>4</td><td>1</td><td>⋯</td><td>475</td><td>585</td><td>331</td><td>237</td><td>2</td><td>0</td><td>168</td><td>13</td><td>14</td><td>12375000</td></tr>\n",
       "\t<tr><td>2003</td><td>366</td><td>82</td><td>42</td><td>1</td><td>0</td><td> 8</td><td>0</td><td>6</td><td>0</td><td>⋯</td><td>570</td><td>736</td><td>454</td><td>286</td><td>2</td><td>0</td><td>225</td><td>13</td><td>11</td><td>13500000</td></tr>\n",
       "\t<tr><td>2004</td><td>366</td><td>48</td><td>42</td><td>1</td><td>0</td><td> 7</td><td>0</td><td>8</td><td>0</td><td>⋯</td><td>339</td><td>455</td><td>324</td><td>209</td><td>2</td><td>0</td><td>115</td><td> 5</td><td> 8</td><td>14625000</td></tr>\n",
       "</tbody>\n",
       "</table>\n"
      ],
      "text/latex": [
       "A tibble: 6 × 41\n",
       "\\begin{tabular}{lllllllllllllllllllll}\n",
       " year & playerId & gamesPlayed & avgMinutes & avgFouls & flagrantFouls & technicalFouls & ejections & doubleDouble & tripleDouble & ⋯ & freeThrowsMade & freeThrowsAttempted & assists & turnovers & avgSteals & avgBlocks & steals & blocks & rankingSalary & salary\\\\\n",
       " <int> & <int> & <int> & <int> & <int> & <int> & <int> & <int> & <int> & <int> & ⋯ & <int> & <int> & <int> & <int> & <int> & <int> & <int> & <int> & <int> & <int>\\\\\n",
       "\\hline\n",
       "\t 1999 & 366 & 48 & 41 & 2 & 0 &  5 & 0 & 4 & 0 & ⋯ & 356 & 474 & 223 & 167 & 2 & 0 & 110 &  7 & 15 &  9000000\\\\\n",
       "\t 2000 & 366 & 70 & 40 & 2 & 0 & 12 & 0 & 1 & 0 & ⋯ & 442 & 620 & 328 & 230 & 2 & 0 & 144 &  5 & 27 & 10125000\\\\\n",
       "\t 2001 & 366 & 71 & 41 & 2 & 0 & 18 & 0 & 4 & 0 & ⋯ & 585 & 719 & 325 & 237 & 2 & 0 & 178 & 20 & 17 & 11250000\\\\\n",
       "\t 2002 & 366 & 60 & 43 & 1 & 0 & 12 & 1 & 4 & 1 & ⋯ & 475 & 585 & 331 & 237 & 2 & 0 & 168 & 13 & 14 & 12375000\\\\\n",
       "\t 2003 & 366 & 82 & 42 & 1 & 0 &  8 & 0 & 6 & 0 & ⋯ & 570 & 736 & 454 & 286 & 2 & 0 & 225 & 13 & 11 & 13500000\\\\\n",
       "\t 2004 & 366 & 48 & 42 & 1 & 0 &  7 & 0 & 8 & 0 & ⋯ & 339 & 455 & 324 & 209 & 2 & 0 & 115 &  5 &  8 & 14625000\\\\\n",
       "\\end{tabular}\n"
      ],
      "text/markdown": [
       "\n",
       "A tibble: 6 × 41\n",
       "\n",
       "| year &lt;int&gt; | playerId &lt;int&gt; | gamesPlayed &lt;int&gt; | avgMinutes &lt;int&gt; | avgFouls &lt;int&gt; | flagrantFouls &lt;int&gt; | technicalFouls &lt;int&gt; | ejections &lt;int&gt; | doubleDouble &lt;int&gt; | tripleDouble &lt;int&gt; | ⋯ ⋯ | freeThrowsMade &lt;int&gt; | freeThrowsAttempted &lt;int&gt; | assists &lt;int&gt; | turnovers &lt;int&gt; | avgSteals &lt;int&gt; | avgBlocks &lt;int&gt; | steals &lt;int&gt; | blocks &lt;int&gt; | rankingSalary &lt;int&gt; | salary &lt;int&gt; |\n",
       "|---|---|---|---|---|---|---|---|---|---|---|---|---|---|---|---|---|---|---|---|---|\n",
       "| 1999 | 366 | 48 | 41 | 2 | 0 |  5 | 0 | 4 | 0 | ⋯ | 356 | 474 | 223 | 167 | 2 | 0 | 110 |  7 | 15 |  9000000 |\n",
       "| 2000 | 366 | 70 | 40 | 2 | 0 | 12 | 0 | 1 | 0 | ⋯ | 442 | 620 | 328 | 230 | 2 | 0 | 144 |  5 | 27 | 10125000 |\n",
       "| 2001 | 366 | 71 | 41 | 2 | 0 | 18 | 0 | 4 | 0 | ⋯ | 585 | 719 | 325 | 237 | 2 | 0 | 178 | 20 | 17 | 11250000 |\n",
       "| 2002 | 366 | 60 | 43 | 1 | 0 | 12 | 1 | 4 | 1 | ⋯ | 475 | 585 | 331 | 237 | 2 | 0 | 168 | 13 | 14 | 12375000 |\n",
       "| 2003 | 366 | 82 | 42 | 1 | 0 |  8 | 0 | 6 | 0 | ⋯ | 570 | 736 | 454 | 286 | 2 | 0 | 225 | 13 | 11 | 13500000 |\n",
       "| 2004 | 366 | 48 | 42 | 1 | 0 |  7 | 0 | 8 | 0 | ⋯ | 339 | 455 | 324 | 209 | 2 | 0 | 115 |  5 |  8 | 14625000 |\n",
       "\n"
      ],
      "text/plain": [
       "  year playerId gamesPlayed avgMinutes avgFouls flagrantFouls technicalFouls\n",
       "1 1999 366      48          41         2        0              5            \n",
       "2 2000 366      70          40         2        0             12            \n",
       "3 2001 366      71          41         2        0             18            \n",
       "4 2002 366      60          43         1        0             12            \n",
       "5 2003 366      82          42         1        0              8            \n",
       "6 2004 366      48          42         1        0              7            \n",
       "  ejections doubleDouble tripleDouble ⋯ freeThrowsMade freeThrowsAttempted\n",
       "1 0         4            0            ⋯ 356            474                \n",
       "2 0         1            0            ⋯ 442            620                \n",
       "3 0         4            0            ⋯ 585            719                \n",
       "4 1         4            1            ⋯ 475            585                \n",
       "5 0         6            0            ⋯ 570            736                \n",
       "6 0         8            0            ⋯ 339            455                \n",
       "  assists turnovers avgSteals avgBlocks steals blocks rankingSalary salary  \n",
       "1 223     167       2         0         110     7     15             9000000\n",
       "2 328     230       2         0         144     5     27            10125000\n",
       "3 325     237       2         0         178    20     17            11250000\n",
       "4 331     237       2         0         168    13     14            12375000\n",
       "5 454     286       2         0         225    13     11            13500000\n",
       "6 324     209       2         0         115     5      8            14625000"
      ]
     },
     "metadata": {},
     "output_type": "display_data"
    }
   ],
   "source": [
    "# Exibe o dataframe filtrado\n",
    "head(df_filtered)"
   ]
  },
  {
   "cell_type": "code",
   "execution_count": 283,
   "id": "8e9ea6ff",
   "metadata": {
    "vscode": {
     "languageId": "r"
    }
   },
   "outputs": [
    {
     "data": {
      "image/png": "[encoded data removed]",
      "text/plain": [
       "Plot with title \"\""
      ]
     },
     "metadata": {
      "image/png": {
       "height": 420,
       "width": 420
      }
     },
     "output_type": "display_data"
    }
   ],
   "source": [
    "# Seleciona a coluna de interesse\n",
    "variable_of_interest <- \"salary\"\n",
    "\n",
    "# Realiza o calculo de correlação\n",
    "cor_matrix <- cor(df_filtered)\n",
    "\n",
    "# Extrai os dados somente da varável \"salary\"\n",
    "correlations <- cor_matrix[variable_of_interest, , drop = FALSE]\n",
    "\n",
    "correlations <- correlations[, colnames(correlations) != variable_of_interest, drop = FALSE]\n",
    "\n",
    "library(corrplot)\n",
    "\n",
    "corrplot(correlations, method = \"circle\")"
   ]
  },
  {
   "cell_type": "markdown",
   "id": "4e3d8df9",
   "metadata": {},
   "source": [
    "Baseado na matriz de correlação acima vemos que existem algumas variáveis que influenciam diretamente no valor do salário <br>\n",
    "para esta análise vamos utilizar somente as variáveis numéricas e vamos desconsiderar o ano e o ranking de salário, pois como ja sabemos existe uma grande correlação.\n"
   ]
  },
  {
   "cell_type": "markdown",
   "id": "118b75a8",
   "metadata": {},
   "source": [
    "Para esta analise irei filtrar somente os indices que possuirem uma correlação acima de 0,4"
   ]
  },
  {
   "cell_type": "code",
   "execution_count": 284,
   "id": "2b3e4574",
   "metadata": {
    "vscode": {
     "languageId": "r"
    }
   },
   "outputs": [
    {
     "name": "stdout",
     "output_type": "stream",
     "text": [
      "                                                         Variable\n",
      "avgPoints                                               avgPoints\n",
      "avgFieldGoalsMade                               avgFieldGoalsMade\n",
      "avgFieldGoalsAttempted                     avgFieldGoalsAttempted\n",
      "avgThreePointFieldGoalsMade           avgThreePointFieldGoalsMade\n",
      "avgThreePointFieldGoalsAttempted avgThreePointFieldGoalsAttempted\n",
      "                                 Correlation_with_Salary\n",
      "avgPoints                                      0.5049835\n",
      "avgFieldGoalsMade                              0.4841173\n",
      "avgFieldGoalsAttempted                         0.4339193\n",
      "avgThreePointFieldGoalsMade                    0.4195447\n",
      "avgThreePointFieldGoalsAttempted               0.4379911\n"
     ]
    }
   ],
   "source": [
    "# Lista de colunas selecionadas (Retirado Ano e Ranking)\n",
    "Colunas_selecionadas <- c( \"gamesPlayed\", \"avgMinutes\", \n",
    "                          \"avgFouls\", \"flagrantFouls\", \"technicalFouls\", \"ejections\", \n",
    "                          \"doubleDouble\", \"tripleDouble\", \"minutes\", \"rebounds\", \n",
    "                          \"fouls\", \"avgRebounds\", \"avgPoints\", \"avgFieldGoalsMade\", \n",
    "                          \"avgFieldGoalsAttempted\", \"fieldGoalPct\", \n",
    "                          \"avgThreePointFieldGoalsMade\", \"avgThreePointFieldGoalsAttempted\", \n",
    "                          \"threePointFieldGoalPct\", \"avgFreeThrowsMade\", \n",
    "                          \"avgFreeThrowsAttempted\", \"freeThrowPct\", \"avgAssists\", \n",
    "                          \"avgTurnovers\", \"points\", \"fieldGoalsMade\", \"fieldGoalsAttempted\", \n",
    "                          \"threePointFieldGoalsMade\", \"threePointFieldGoalsAttempted\", \n",
    "                          \"freeThrowsMade\", \"freeThrowsAttempted\", \"assists\", \n",
    "                          \"turnovers\", \"avgSteals\", \"avgBlocks\", \"steals\", \"blocks\")\n",
    "\n",
    "# Calcula a correlação entre salary e cada variável em Colunas_selecionadas\n",
    "correlations <- sapply(Colunas_selecionadas, function(col) {\n",
    "  cor(df_filtered[[col]], df_filtered$salary, use = \"complete.obs\")\n",
    "})\n",
    "\n",
    "# Cria um dataframe com os resultados\n",
    "correlation_results <- data.frame(Variable = Colunas_selecionadas, Correlation_with_Salary = correlations)\n",
    "\n",
    "# Realiza o filtro somente apra valores acima de 0.4\n",
    "high_correlation_results <- correlation_results %>%\n",
    "  filter(abs(Correlation_with_Salary) > 0.4)\n",
    "\n",
    "#Salva os nomes das variáveis que tem valor acima de 0.4 para usar na função seguinte para analise de correlação\n",
    "high_correlation_variables <- high_correlation_results$Variable\n",
    "\n",
    "\n",
    "print(high_correlation_results)"
   ]
  },
  {
   "cell_type": "markdown",
   "id": "9e51401d",
   "metadata": {},
   "source": [
    "Baseado nas correlações acima iremos realizar uma analise utilizando gráfico de dispersão com linha de tendência."
   ]
  },
  {
   "cell_type": "code",
   "execution_count": 285,
   "id": "17f49fa0",
   "metadata": {
    "vscode": {
     "languageId": "r"
    }
   },
   "outputs": [
    {
     "name": "stderr",
     "output_type": "stream",
     "text": [
      "\u001b[1m\u001b[22m`geom_smooth()` using formula = 'y ~ x'\n",
      "\u001b[1m\u001b[22m`geom_smooth()` using formula = 'y ~ x'\n"
     ]
    },
    {
     "data": {
      "image/png": "[encoded data removed]",
      "text/plain": [
       "plot without title"
      ]
     },
     "metadata": {
      "image/png": {
       "height": 420,
       "width": 420
      }
     },
     "output_type": "display_data"
    },
    {
     "name": "stderr",
     "output_type": "stream",
     "text": [
      "\u001b[1m\u001b[22m`geom_smooth()` using formula = 'y ~ x'\n"
     ]
    },
    {
     "data": {
      "image/png": "[encoded data removed]",
      "text/plain": [
       "plot without title"
      ]
     },
     "metadata": {
      "image/png": {
       "height": 420,
       "width": 420
      }
     },
     "output_type": "display_data"
    },
    {
     "name": "stderr",
     "output_type": "stream",
     "text": [
      "\u001b[1m\u001b[22m`geom_smooth()` using formula = 'y ~ x'\n"
     ]
    },
    {
     "data": {
      "image/png": "[encoded data removed]",
      "text/plain": [
       "plot without title"
      ]
     },
     "metadata": {
      "image/png": {
       "height": 420,
       "width": 420
      }
     },
     "output_type": "display_data"
    },
    {
     "name": "stderr",
     "output_type": "stream",
     "text": [
      "\u001b[1m\u001b[22m`geom_smooth()` using formula = 'y ~ x'\n"
     ]
    },
    {
     "data": {
      "image/png": "[encoded data removed]",
      "text/plain": [
       "plot without title"
      ]
     },
     "metadata": {
      "image/png": {
       "height": 420,
       "width": 420
      }
     },
     "output_type": "display_data"
    },
    {
     "data": {
      "image/png": "[encoded data removed]",
      "text/plain": [
       "plot without title"
      ]
     },
     "metadata": {
      "image/png": {
       "height": 420,
       "width": 420
      }
     },
     "output_type": "display_data"
    }
   ],
   "source": [
    "\n",
    "# Loop para criar gráficos de dispersão com linha de tendência\n",
    "for (col in high_correlation_variables) {  # For para calculo automático\n",
    "  p <- ggplot(df_filtered, aes_string(x = col, y = \"salary\")) +\n",
    "    geom_point(color = \"blue\", size = 2) +\n",
    "    geom_smooth(method = \"lm\", color = \"red\", se = FALSE) +  # Adiciona linha de tendência\n",
    "    labs(\n",
    "      title = paste(\"Relação entre\", col, \"e Salário\"),\n",
    "      x = col,\n",
    "      y = \"Salário\"\n",
    "    ) +\n",
    "    theme_minimal()\n",
    "  \n",
    "  print(p)\n",
    "}"
   ]
  },
  {
   "cell_type": "markdown",
   "id": "7ff7c305",
   "metadata": {},
   "source": [
    "Análise da média de pontos por partida baseado no salário, para isso iremos fazer alguns filtros e criar tabelas de acordo com o quartil dos salários."
   ]
  },
  {
   "cell_type": "code",
   "execution_count": 286,
   "id": "903cdd0e",
   "metadata": {
    "vscode": {
     "languageId": "r"
    }
   },
   "outputs": [
    {
     "data": {
      "text/plain": [
       "   Min. 1st Qu.  Median    Mean 3rd Qu.    Max. \n",
       "    1.0    90.0   192.0   210.6   321.0   676.0 "
      ]
     },
     "metadata": {},
     "output_type": "display_data"
    },
    {
     "data": {
      "text/plain": [
       "    Min.  1st Qu.   Median     Mean  3rd Qu.     Max. \n",
       "    4533  1551659  3500000  6156346  8193030 51915615 "
      ]
     },
     "metadata": {},
     "output_type": "display_data"
    }
   ],
   "source": [
    "# Resumo estatístico básico das variáveis categóricas e lógicos\n",
    "\n",
    "summary(new_df[,\"rankingSalary\"])\n",
    "\n",
    "summary(new_df[,\"salary\"])"
   ]
  },
  {
   "cell_type": "code",
   "execution_count": 287,
   "id": "db8e3384",
   "metadata": {
    "vscode": {
     "languageId": "r"
    }
   },
   "outputs": [
    {
     "data": {
      "text/html": [
       "<table class=\"dataframe\">\n",
       "<caption>A data.frame: 6 × 41</caption>\n",
       "<thead>\n",
       "\t<tr><th></th><th scope=col>year</th><th scope=col>playerId</th><th scope=col>gamesPlayed</th><th scope=col>avgMinutes</th><th scope=col>avgFouls</th><th scope=col>flagrantFouls</th><th scope=col>technicalFouls</th><th scope=col>ejections</th><th scope=col>doubleDouble</th><th scope=col>tripleDouble</th><th scope=col>⋯</th><th scope=col>freeThrowsMade</th><th scope=col>freeThrowsAttempted</th><th scope=col>assists</th><th scope=col>turnovers</th><th scope=col>avgSteals</th><th scope=col>avgBlocks</th><th scope=col>steals</th><th scope=col>blocks</th><th scope=col>rankingSalary</th><th scope=col>salary</th></tr>\n",
       "\t<tr><th></th><th scope=col>&lt;int&gt;</th><th scope=col>&lt;int&gt;</th><th scope=col>&lt;int&gt;</th><th scope=col>&lt;int&gt;</th><th scope=col>&lt;int&gt;</th><th scope=col>&lt;int&gt;</th><th scope=col>&lt;int&gt;</th><th scope=col>&lt;int&gt;</th><th scope=col>&lt;int&gt;</th><th scope=col>&lt;int&gt;</th><th scope=col>⋯</th><th scope=col>&lt;int&gt;</th><th scope=col>&lt;int&gt;</th><th scope=col>&lt;int&gt;</th><th scope=col>&lt;int&gt;</th><th scope=col>&lt;int&gt;</th><th scope=col>&lt;int&gt;</th><th scope=col>&lt;int&gt;</th><th scope=col>&lt;int&gt;</th><th scope=col>&lt;int&gt;</th><th scope=col>&lt;int&gt;</th></tr>\n",
       "</thead>\n",
       "<tbody>\n",
       "\t<tr><th scope=row>1</th><td>1999</td><td>366</td><td>48</td><td>41</td><td>2</td><td>0</td><td> 5</td><td>0</td><td>4</td><td>0</td><td>⋯</td><td>356</td><td>474</td><td>223</td><td>167</td><td>2</td><td>0</td><td>110</td><td> 7</td><td>15</td><td> 9000000</td></tr>\n",
       "\t<tr><th scope=row>2</th><td>2000</td><td>366</td><td>70</td><td>40</td><td>2</td><td>0</td><td>12</td><td>0</td><td>1</td><td>0</td><td>⋯</td><td>442</td><td>620</td><td>328</td><td>230</td><td>2</td><td>0</td><td>144</td><td> 5</td><td>27</td><td>10125000</td></tr>\n",
       "\t<tr><th scope=row>3</th><td>2001</td><td>366</td><td>71</td><td>41</td><td>2</td><td>0</td><td>18</td><td>0</td><td>4</td><td>0</td><td>⋯</td><td>585</td><td>719</td><td>325</td><td>237</td><td>2</td><td>0</td><td>178</td><td>20</td><td>17</td><td>11250000</td></tr>\n",
       "\t<tr><th scope=row>4</th><td>2002</td><td>366</td><td>60</td><td>43</td><td>1</td><td>0</td><td>12</td><td>1</td><td>4</td><td>1</td><td>⋯</td><td>475</td><td>585</td><td>331</td><td>237</td><td>2</td><td>0</td><td>168</td><td>13</td><td>14</td><td>12375000</td></tr>\n",
       "\t<tr><th scope=row>5</th><td>2003</td><td>366</td><td>82</td><td>42</td><td>1</td><td>0</td><td> 8</td><td>0</td><td>6</td><td>0</td><td>⋯</td><td>570</td><td>736</td><td>454</td><td>286</td><td>2</td><td>0</td><td>225</td><td>13</td><td>11</td><td>13500000</td></tr>\n",
       "\t<tr><th scope=row>6</th><td>2004</td><td>366</td><td>48</td><td>42</td><td>1</td><td>0</td><td> 7</td><td>0</td><td>8</td><td>0</td><td>⋯</td><td>339</td><td>455</td><td>324</td><td>209</td><td>2</td><td>0</td><td>115</td><td> 5</td><td> 8</td><td>14625000</td></tr>\n",
       "</tbody>\n",
       "</table>\n"
      ],
      "text/latex": [
       "A data.frame: 6 × 41\n",
       "\\begin{tabular}{r|lllllllllllllllllllll}\n",
       "  & year & playerId & gamesPlayed & avgMinutes & avgFouls & flagrantFouls & technicalFouls & ejections & doubleDouble & tripleDouble & ⋯ & freeThrowsMade & freeThrowsAttempted & assists & turnovers & avgSteals & avgBlocks & steals & blocks & rankingSalary & salary\\\\\n",
       "  & <int> & <int> & <int> & <int> & <int> & <int> & <int> & <int> & <int> & <int> & ⋯ & <int> & <int> & <int> & <int> & <int> & <int> & <int> & <int> & <int> & <int>\\\\\n",
       "\\hline\n",
       "\t1 & 1999 & 366 & 48 & 41 & 2 & 0 &  5 & 0 & 4 & 0 & ⋯ & 356 & 474 & 223 & 167 & 2 & 0 & 110 &  7 & 15 &  9000000\\\\\n",
       "\t2 & 2000 & 366 & 70 & 40 & 2 & 0 & 12 & 0 & 1 & 0 & ⋯ & 442 & 620 & 328 & 230 & 2 & 0 & 144 &  5 & 27 & 10125000\\\\\n",
       "\t3 & 2001 & 366 & 71 & 41 & 2 & 0 & 18 & 0 & 4 & 0 & ⋯ & 585 & 719 & 325 & 237 & 2 & 0 & 178 & 20 & 17 & 11250000\\\\\n",
       "\t4 & 2002 & 366 & 60 & 43 & 1 & 0 & 12 & 1 & 4 & 1 & ⋯ & 475 & 585 & 331 & 237 & 2 & 0 & 168 & 13 & 14 & 12375000\\\\\n",
       "\t5 & 2003 & 366 & 82 & 42 & 1 & 0 &  8 & 0 & 6 & 0 & ⋯ & 570 & 736 & 454 & 286 & 2 & 0 & 225 & 13 & 11 & 13500000\\\\\n",
       "\t6 & 2004 & 366 & 48 & 42 & 1 & 0 &  7 & 0 & 8 & 0 & ⋯ & 339 & 455 & 324 & 209 & 2 & 0 & 115 &  5 &  8 & 14625000\\\\\n",
       "\\end{tabular}\n"
      ],
      "text/markdown": [
       "\n",
       "A data.frame: 6 × 41\n",
       "\n",
       "| <!--/--> | year &lt;int&gt; | playerId &lt;int&gt; | gamesPlayed &lt;int&gt; | avgMinutes &lt;int&gt; | avgFouls &lt;int&gt; | flagrantFouls &lt;int&gt; | technicalFouls &lt;int&gt; | ejections &lt;int&gt; | doubleDouble &lt;int&gt; | tripleDouble &lt;int&gt; | ⋯ ⋯ | freeThrowsMade &lt;int&gt; | freeThrowsAttempted &lt;int&gt; | assists &lt;int&gt; | turnovers &lt;int&gt; | avgSteals &lt;int&gt; | avgBlocks &lt;int&gt; | steals &lt;int&gt; | blocks &lt;int&gt; | rankingSalary &lt;int&gt; | salary &lt;int&gt; |\n",
       "|---|---|---|---|---|---|---|---|---|---|---|---|---|---|---|---|---|---|---|---|---|---|\n",
       "| 1 | 1999 | 366 | 48 | 41 | 2 | 0 |  5 | 0 | 4 | 0 | ⋯ | 356 | 474 | 223 | 167 | 2 | 0 | 110 |  7 | 15 |  9000000 |\n",
       "| 2 | 2000 | 366 | 70 | 40 | 2 | 0 | 12 | 0 | 1 | 0 | ⋯ | 442 | 620 | 328 | 230 | 2 | 0 | 144 |  5 | 27 | 10125000 |\n",
       "| 3 | 2001 | 366 | 71 | 41 | 2 | 0 | 18 | 0 | 4 | 0 | ⋯ | 585 | 719 | 325 | 237 | 2 | 0 | 178 | 20 | 17 | 11250000 |\n",
       "| 4 | 2002 | 366 | 60 | 43 | 1 | 0 | 12 | 1 | 4 | 1 | ⋯ | 475 | 585 | 331 | 237 | 2 | 0 | 168 | 13 | 14 | 12375000 |\n",
       "| 5 | 2003 | 366 | 82 | 42 | 1 | 0 |  8 | 0 | 6 | 0 | ⋯ | 570 | 736 | 454 | 286 | 2 | 0 | 225 | 13 | 11 | 13500000 |\n",
       "| 6 | 2004 | 366 | 48 | 42 | 1 | 0 |  7 | 0 | 8 | 0 | ⋯ | 339 | 455 | 324 | 209 | 2 | 0 | 115 |  5 |  8 | 14625000 |\n",
       "\n"
      ],
      "text/plain": [
       "  year playerId gamesPlayed avgMinutes avgFouls flagrantFouls technicalFouls\n",
       "1 1999 366      48          41         2        0              5            \n",
       "2 2000 366      70          40         2        0             12            \n",
       "3 2001 366      71          41         2        0             18            \n",
       "4 2002 366      60          43         1        0             12            \n",
       "5 2003 366      82          42         1        0              8            \n",
       "6 2004 366      48          42         1        0              7            \n",
       "  ejections doubleDouble tripleDouble ⋯ freeThrowsMade freeThrowsAttempted\n",
       "1 0         4            0            ⋯ 356            474                \n",
       "2 0         1            0            ⋯ 442            620                \n",
       "3 0         4            0            ⋯ 585            719                \n",
       "4 1         4            1            ⋯ 475            585                \n",
       "5 0         6            0            ⋯ 570            736                \n",
       "6 0         8            0            ⋯ 339            455                \n",
       "  assists turnovers avgSteals avgBlocks steals blocks rankingSalary salary  \n",
       "1 223     167       2         0         110     7     15             9000000\n",
       "2 328     230       2         0         144     5     27            10125000\n",
       "3 325     237       2         0         178    20     17            11250000\n",
       "4 331     237       2         0         168    13     14            12375000\n",
       "5 454     286       2         0         225    13     11            13500000\n",
       "6 324     209       2         0         115     5      8            14625000"
      ]
     },
     "metadata": {},
     "output_type": "display_data"
    },
    {
     "data": {
      "text/html": [
       "<table class=\"dataframe\">\n",
       "<caption>A data.frame: 6 × 41</caption>\n",
       "<thead>\n",
       "\t<tr><th></th><th scope=col>year</th><th scope=col>playerId</th><th scope=col>gamesPlayed</th><th scope=col>avgMinutes</th><th scope=col>avgFouls</th><th scope=col>flagrantFouls</th><th scope=col>technicalFouls</th><th scope=col>ejections</th><th scope=col>doubleDouble</th><th scope=col>tripleDouble</th><th scope=col>⋯</th><th scope=col>freeThrowsMade</th><th scope=col>freeThrowsAttempted</th><th scope=col>assists</th><th scope=col>turnovers</th><th scope=col>avgSteals</th><th scope=col>avgBlocks</th><th scope=col>steals</th><th scope=col>blocks</th><th scope=col>rankingSalary</th><th scope=col>salary</th></tr>\n",
       "\t<tr><th></th><th scope=col>&lt;int&gt;</th><th scope=col>&lt;int&gt;</th><th scope=col>&lt;int&gt;</th><th scope=col>&lt;int&gt;</th><th scope=col>&lt;int&gt;</th><th scope=col>&lt;int&gt;</th><th scope=col>&lt;int&gt;</th><th scope=col>&lt;int&gt;</th><th scope=col>&lt;int&gt;</th><th scope=col>&lt;int&gt;</th><th scope=col>⋯</th><th scope=col>&lt;int&gt;</th><th scope=col>&lt;int&gt;</th><th scope=col>&lt;int&gt;</th><th scope=col>&lt;int&gt;</th><th scope=col>&lt;int&gt;</th><th scope=col>&lt;int&gt;</th><th scope=col>&lt;int&gt;</th><th scope=col>&lt;int&gt;</th><th scope=col>&lt;int&gt;</th><th scope=col>&lt;int&gt;</th></tr>\n",
       "</thead>\n",
       "<tbody>\n",
       "\t<tr><th scope=row>1</th><td>2005</td><td>242</td><td>64</td><td>36</td><td>1</td><td>1</td><td> 2</td><td>0</td><td> 1</td><td>0</td><td>⋯</td><td>113</td><td>136</td><td>169</td><td> 60</td><td>0</td><td>0</td><td>48</td><td>18</td><td>209</td><td>2675000</td></tr>\n",
       "\t<tr><th scope=row>2</th><td>2006</td><td>242</td><td>77</td><td>26</td><td>1</td><td>0</td><td> 1</td><td>0</td><td> 1</td><td>0</td><td>⋯</td><td> 98</td><td>115</td><td>116</td><td> 62</td><td>0</td><td>0</td><td>37</td><td> 7</td><td>204</td><td>2889000</td></tr>\n",
       "\t<tr><th scope=row>3</th><td>2007</td><td>242</td><td>82</td><td>22</td><td>0</td><td>0</td><td> 0</td><td>0</td><td> 1</td><td>0</td><td>⋯</td><td> 90</td><td> 98</td><td>108</td><td> 46</td><td>0</td><td>0</td><td>32</td><td>16</td><td>198</td><td>3103000</td></tr>\n",
       "\t<tr><th scope=row>4</th><td>2005</td><td>  3</td><td>54</td><td>34</td><td>2</td><td>0</td><td>10</td><td>1</td><td>16</td><td>0</td><td>⋯</td><td>220</td><td>254</td><td>111</td><td>117</td><td>0</td><td>0</td><td>49</td><td>26</td><td>123</td><td>5000000</td></tr>\n",
       "\t<tr><th scope=row>5</th><td>2006</td><td>  3</td><td>72</td><td>27</td><td>3</td><td>1</td><td> 9</td><td>1</td><td> 3</td><td>0</td><td>⋯</td><td>218</td><td>278</td><td>149</td><td>108</td><td>0</td><td>0</td><td>48</td><td>42</td><td>116</td><td>5400000</td></tr>\n",
       "\t<tr><th scope=row>6</th><td>2007</td><td>  3</td><td>80</td><td>25</td><td>3</td><td>1</td><td> 8</td><td>0</td><td> 4</td><td>0</td><td>⋯</td><td>170</td><td>234</td><td>109</td><td>116</td><td>0</td><td>0</td><td>53</td><td>40</td><td>112</td><td>5800000</td></tr>\n",
       "</tbody>\n",
       "</table>\n"
      ],
      "text/latex": [
       "A data.frame: 6 × 41\n",
       "\\begin{tabular}{r|lllllllllllllllllllll}\n",
       "  & year & playerId & gamesPlayed & avgMinutes & avgFouls & flagrantFouls & technicalFouls & ejections & doubleDouble & tripleDouble & ⋯ & freeThrowsMade & freeThrowsAttempted & assists & turnovers & avgSteals & avgBlocks & steals & blocks & rankingSalary & salary\\\\\n",
       "  & <int> & <int> & <int> & <int> & <int> & <int> & <int> & <int> & <int> & <int> & ⋯ & <int> & <int> & <int> & <int> & <int> & <int> & <int> & <int> & <int> & <int>\\\\\n",
       "\\hline\n",
       "\t1 & 2005 & 242 & 64 & 36 & 1 & 1 &  2 & 0 &  1 & 0 & ⋯ & 113 & 136 & 169 &  60 & 0 & 0 & 48 & 18 & 209 & 2675000\\\\\n",
       "\t2 & 2006 & 242 & 77 & 26 & 1 & 0 &  1 & 0 &  1 & 0 & ⋯ &  98 & 115 & 116 &  62 & 0 & 0 & 37 &  7 & 204 & 2889000\\\\\n",
       "\t3 & 2007 & 242 & 82 & 22 & 0 & 0 &  0 & 0 &  1 & 0 & ⋯ &  90 &  98 & 108 &  46 & 0 & 0 & 32 & 16 & 198 & 3103000\\\\\n",
       "\t4 & 2005 &   3 & 54 & 34 & 2 & 0 & 10 & 1 & 16 & 0 & ⋯ & 220 & 254 & 111 & 117 & 0 & 0 & 49 & 26 & 123 & 5000000\\\\\n",
       "\t5 & 2006 &   3 & 72 & 27 & 3 & 1 &  9 & 1 &  3 & 0 & ⋯ & 218 & 278 & 149 & 108 & 0 & 0 & 48 & 42 & 116 & 5400000\\\\\n",
       "\t6 & 2007 &   3 & 80 & 25 & 3 & 1 &  8 & 0 &  4 & 0 & ⋯ & 170 & 234 & 109 & 116 & 0 & 0 & 53 & 40 & 112 & 5800000\\\\\n",
       "\\end{tabular}\n"
      ],
      "text/markdown": [
       "\n",
       "A data.frame: 6 × 41\n",
       "\n",
       "| <!--/--> | year &lt;int&gt; | playerId &lt;int&gt; | gamesPlayed &lt;int&gt; | avgMinutes &lt;int&gt; | avgFouls &lt;int&gt; | flagrantFouls &lt;int&gt; | technicalFouls &lt;int&gt; | ejections &lt;int&gt; | doubleDouble &lt;int&gt; | tripleDouble &lt;int&gt; | ⋯ ⋯ | freeThrowsMade &lt;int&gt; | freeThrowsAttempted &lt;int&gt; | assists &lt;int&gt; | turnovers &lt;int&gt; | avgSteals &lt;int&gt; | avgBlocks &lt;int&gt; | steals &lt;int&gt; | blocks &lt;int&gt; | rankingSalary &lt;int&gt; | salary &lt;int&gt; |\n",
       "|---|---|---|---|---|---|---|---|---|---|---|---|---|---|---|---|---|---|---|---|---|---|\n",
       "| 1 | 2005 | 242 | 64 | 36 | 1 | 1 |  2 | 0 |  1 | 0 | ⋯ | 113 | 136 | 169 |  60 | 0 | 0 | 48 | 18 | 209 | 2675000 |\n",
       "| 2 | 2006 | 242 | 77 | 26 | 1 | 0 |  1 | 0 |  1 | 0 | ⋯ |  98 | 115 | 116 |  62 | 0 | 0 | 37 |  7 | 204 | 2889000 |\n",
       "| 3 | 2007 | 242 | 82 | 22 | 0 | 0 |  0 | 0 |  1 | 0 | ⋯ |  90 |  98 | 108 |  46 | 0 | 0 | 32 | 16 | 198 | 3103000 |\n",
       "| 4 | 2005 |   3 | 54 | 34 | 2 | 0 | 10 | 1 | 16 | 0 | ⋯ | 220 | 254 | 111 | 117 | 0 | 0 | 49 | 26 | 123 | 5000000 |\n",
       "| 5 | 2006 |   3 | 72 | 27 | 3 | 1 |  9 | 1 |  3 | 0 | ⋯ | 218 | 278 | 149 | 108 | 0 | 0 | 48 | 42 | 116 | 5400000 |\n",
       "| 6 | 2007 |   3 | 80 | 25 | 3 | 1 |  8 | 0 |  4 | 0 | ⋯ | 170 | 234 | 109 | 116 | 0 | 0 | 53 | 40 | 112 | 5800000 |\n",
       "\n"
      ],
      "text/plain": [
       "  year playerId gamesPlayed avgMinutes avgFouls flagrantFouls technicalFouls\n",
       "1 2005 242      64          36         1        1              2            \n",
       "2 2006 242      77          26         1        0              1            \n",
       "3 2007 242      82          22         0        0              0            \n",
       "4 2005   3      54          34         2        0             10            \n",
       "5 2006   3      72          27         3        1              9            \n",
       "6 2007   3      80          25         3        1              8            \n",
       "  ejections doubleDouble tripleDouble ⋯ freeThrowsMade freeThrowsAttempted\n",
       "1 0          1           0            ⋯ 113            136                \n",
       "2 0          1           0            ⋯  98            115                \n",
       "3 0          1           0            ⋯  90             98                \n",
       "4 1         16           0            ⋯ 220            254                \n",
       "5 1          3           0            ⋯ 218            278                \n",
       "6 0          4           0            ⋯ 170            234                \n",
       "  assists turnovers avgSteals avgBlocks steals blocks rankingSalary salary \n",
       "1 169      60       0         0         48     18     209           2675000\n",
       "2 116      62       0         0         37      7     204           2889000\n",
       "3 108      46       0         0         32     16     198           3103000\n",
       "4 111     117       0         0         49     26     123           5000000\n",
       "5 149     108       0         0         48     42     116           5400000\n",
       "6 109     116       0         0         53     40     112           5800000"
      ]
     },
     "metadata": {},
     "output_type": "display_data"
    },
    {
     "data": {
      "text/html": [
       "<table class=\"dataframe\">\n",
       "<caption>A data.frame: 6 × 41</caption>\n",
       "<thead>\n",
       "\t<tr><th></th><th scope=col>year</th><th scope=col>playerId</th><th scope=col>gamesPlayed</th><th scope=col>avgMinutes</th><th scope=col>avgFouls</th><th scope=col>flagrantFouls</th><th scope=col>technicalFouls</th><th scope=col>ejections</th><th scope=col>doubleDouble</th><th scope=col>tripleDouble</th><th scope=col>⋯</th><th scope=col>freeThrowsMade</th><th scope=col>freeThrowsAttempted</th><th scope=col>assists</th><th scope=col>turnovers</th><th scope=col>avgSteals</th><th scope=col>avgBlocks</th><th scope=col>steals</th><th scope=col>blocks</th><th scope=col>rankingSalary</th><th scope=col>salary</th></tr>\n",
       "\t<tr><th></th><th scope=col>&lt;int&gt;</th><th scope=col>&lt;int&gt;</th><th scope=col>&lt;int&gt;</th><th scope=col>&lt;int&gt;</th><th scope=col>&lt;int&gt;</th><th scope=col>&lt;int&gt;</th><th scope=col>&lt;int&gt;</th><th scope=col>&lt;int&gt;</th><th scope=col>&lt;int&gt;</th><th scope=col>&lt;int&gt;</th><th scope=col>⋯</th><th scope=col>&lt;int&gt;</th><th scope=col>&lt;int&gt;</th><th scope=col>&lt;int&gt;</th><th scope=col>&lt;int&gt;</th><th scope=col>&lt;int&gt;</th><th scope=col>&lt;int&gt;</th><th scope=col>&lt;int&gt;</th><th scope=col>&lt;int&gt;</th><th scope=col>&lt;int&gt;</th><th scope=col>&lt;int&gt;</th></tr>\n",
       "</thead>\n",
       "<tbody>\n",
       "\t<tr><th scope=row>1</th><td>2008</td><td>242</td><td>82</td><td>26</td><td>1</td><td>0</td><td> 2</td><td>0</td><td>0</td><td>0</td><td>⋯</td><td> 64</td><td> 80</td><td>114</td><td> 56</td><td>0</td><td>0</td><td>29</td><td> 10</td><td>241</td><td>2500000</td></tr>\n",
       "\t<tr><th scope=row>2</th><td>2009</td><td>242</td><td>81</td><td>28</td><td>1</td><td>0</td><td> 0</td><td>0</td><td>0</td><td>0</td><td>⋯</td><td> 51</td><td> 62</td><td>114</td><td> 61</td><td>0</td><td>0</td><td>37</td><td> 17</td><td>235</td><td>2500000</td></tr>\n",
       "\t<tr><th scope=row>3</th><td>2005</td><td>580</td><td>37</td><td>18</td><td>2</td><td>0</td><td>10</td><td>1</td><td>4</td><td>0</td><td>⋯</td><td> 82</td><td>141</td><td> 18</td><td> 57</td><td>0</td><td>2</td><td> 8</td><td> 74</td><td>304</td><td>1138500</td></tr>\n",
       "\t<tr><th scope=row>4</th><td>2006</td><td>580</td><td>65</td><td>20</td><td>2</td><td>1</td><td> 5</td><td>2</td><td>9</td><td>0</td><td>⋯</td><td>133</td><td>224</td><td> 11</td><td> 79</td><td>0</td><td>2</td><td>13</td><td>173</td><td>229</td><td>2500000</td></tr>\n",
       "\t<tr><th scope=row>5</th><td>2007</td><td>580</td><td>77</td><td>20</td><td>2</td><td>1</td><td> 8</td><td>0</td><td>1</td><td>0</td><td>⋯</td><td>185</td><td>308</td><td> 18</td><td>129</td><td>0</td><td>2</td><td>13</td><td>178</td><td>215</td><td>2762500</td></tr>\n",
       "\t<tr><th scope=row>6</th><td>2007</td><td>402</td><td>64</td><td>24</td><td>1</td><td>0</td><td> 0</td><td>0</td><td>1</td><td>0</td><td>⋯</td><td> 59</td><td> 75</td><td>109</td><td> 47</td><td>1</td><td>0</td><td>68</td><td> 10</td><td>273</td><td>1830000</td></tr>\n",
       "</tbody>\n",
       "</table>\n"
      ],
      "text/latex": [
       "A data.frame: 6 × 41\n",
       "\\begin{tabular}{r|lllllllllllllllllllll}\n",
       "  & year & playerId & gamesPlayed & avgMinutes & avgFouls & flagrantFouls & technicalFouls & ejections & doubleDouble & tripleDouble & ⋯ & freeThrowsMade & freeThrowsAttempted & assists & turnovers & avgSteals & avgBlocks & steals & blocks & rankingSalary & salary\\\\\n",
       "  & <int> & <int> & <int> & <int> & <int> & <int> & <int> & <int> & <int> & <int> & ⋯ & <int> & <int> & <int> & <int> & <int> & <int> & <int> & <int> & <int> & <int>\\\\\n",
       "\\hline\n",
       "\t1 & 2008 & 242 & 82 & 26 & 1 & 0 &  2 & 0 & 0 & 0 & ⋯ &  64 &  80 & 114 &  56 & 0 & 0 & 29 &  10 & 241 & 2500000\\\\\n",
       "\t2 & 2009 & 242 & 81 & 28 & 1 & 0 &  0 & 0 & 0 & 0 & ⋯ &  51 &  62 & 114 &  61 & 0 & 0 & 37 &  17 & 235 & 2500000\\\\\n",
       "\t3 & 2005 & 580 & 37 & 18 & 2 & 0 & 10 & 1 & 4 & 0 & ⋯ &  82 & 141 &  18 &  57 & 0 & 2 &  8 &  74 & 304 & 1138500\\\\\n",
       "\t4 & 2006 & 580 & 65 & 20 & 2 & 1 &  5 & 2 & 9 & 0 & ⋯ & 133 & 224 &  11 &  79 & 0 & 2 & 13 & 173 & 229 & 2500000\\\\\n",
       "\t5 & 2007 & 580 & 77 & 20 & 2 & 1 &  8 & 0 & 1 & 0 & ⋯ & 185 & 308 &  18 & 129 & 0 & 2 & 13 & 178 & 215 & 2762500\\\\\n",
       "\t6 & 2007 & 402 & 64 & 24 & 1 & 0 &  0 & 0 & 1 & 0 & ⋯ &  59 &  75 & 109 &  47 & 1 & 0 & 68 &  10 & 273 & 1830000\\\\\n",
       "\\end{tabular}\n"
      ],
      "text/markdown": [
       "\n",
       "A data.frame: 6 × 41\n",
       "\n",
       "| <!--/--> | year &lt;int&gt; | playerId &lt;int&gt; | gamesPlayed &lt;int&gt; | avgMinutes &lt;int&gt; | avgFouls &lt;int&gt; | flagrantFouls &lt;int&gt; | technicalFouls &lt;int&gt; | ejections &lt;int&gt; | doubleDouble &lt;int&gt; | tripleDouble &lt;int&gt; | ⋯ ⋯ | freeThrowsMade &lt;int&gt; | freeThrowsAttempted &lt;int&gt; | assists &lt;int&gt; | turnovers &lt;int&gt; | avgSteals &lt;int&gt; | avgBlocks &lt;int&gt; | steals &lt;int&gt; | blocks &lt;int&gt; | rankingSalary &lt;int&gt; | salary &lt;int&gt; |\n",
       "|---|---|---|---|---|---|---|---|---|---|---|---|---|---|---|---|---|---|---|---|---|---|\n",
       "| 1 | 2008 | 242 | 82 | 26 | 1 | 0 |  2 | 0 | 0 | 0 | ⋯ |  64 |  80 | 114 |  56 | 0 | 0 | 29 |  10 | 241 | 2500000 |\n",
       "| 2 | 2009 | 242 | 81 | 28 | 1 | 0 |  0 | 0 | 0 | 0 | ⋯ |  51 |  62 | 114 |  61 | 0 | 0 | 37 |  17 | 235 | 2500000 |\n",
       "| 3 | 2005 | 580 | 37 | 18 | 2 | 0 | 10 | 1 | 4 | 0 | ⋯ |  82 | 141 |  18 |  57 | 0 | 2 |  8 |  74 | 304 | 1138500 |\n",
       "| 4 | 2006 | 580 | 65 | 20 | 2 | 1 |  5 | 2 | 9 | 0 | ⋯ | 133 | 224 |  11 |  79 | 0 | 2 | 13 | 173 | 229 | 2500000 |\n",
       "| 5 | 2007 | 580 | 77 | 20 | 2 | 1 |  8 | 0 | 1 | 0 | ⋯ | 185 | 308 |  18 | 129 | 0 | 2 | 13 | 178 | 215 | 2762500 |\n",
       "| 6 | 2007 | 402 | 64 | 24 | 1 | 0 |  0 | 0 | 1 | 0 | ⋯ |  59 |  75 | 109 |  47 | 1 | 0 | 68 |  10 | 273 | 1830000 |\n",
       "\n"
      ],
      "text/plain": [
       "  year playerId gamesPlayed avgMinutes avgFouls flagrantFouls technicalFouls\n",
       "1 2008 242      82          26         1        0              2            \n",
       "2 2009 242      81          28         1        0              0            \n",
       "3 2005 580      37          18         2        0             10            \n",
       "4 2006 580      65          20         2        1              5            \n",
       "5 2007 580      77          20         2        1              8            \n",
       "6 2007 402      64          24         1        0              0            \n",
       "  ejections doubleDouble tripleDouble ⋯ freeThrowsMade freeThrowsAttempted\n",
       "1 0         0            0            ⋯  64             80                \n",
       "2 0         0            0            ⋯  51             62                \n",
       "3 1         4            0            ⋯  82            141                \n",
       "4 2         9            0            ⋯ 133            224                \n",
       "5 0         1            0            ⋯ 185            308                \n",
       "6 0         1            0            ⋯  59             75                \n",
       "  assists turnovers avgSteals avgBlocks steals blocks rankingSalary salary \n",
       "1 114      56       0         0         29      10    241           2500000\n",
       "2 114      61       0         0         37      17    235           2500000\n",
       "3  18      57       0         2          8      74    304           1138500\n",
       "4  11      79       0         2         13     173    229           2500000\n",
       "5  18     129       0         2         13     178    215           2762500\n",
       "6 109      47       1         0         68      10    273           1830000"
      ]
     },
     "metadata": {},
     "output_type": "display_data"
    },
    {
     "data": {
      "text/html": [
       "<table class=\"dataframe\">\n",
       "<caption>A data.frame: 6 × 41</caption>\n",
       "<thead>\n",
       "\t<tr><th></th><th scope=col>year</th><th scope=col>playerId</th><th scope=col>gamesPlayed</th><th scope=col>avgMinutes</th><th scope=col>avgFouls</th><th scope=col>flagrantFouls</th><th scope=col>technicalFouls</th><th scope=col>ejections</th><th scope=col>doubleDouble</th><th scope=col>tripleDouble</th><th scope=col>⋯</th><th scope=col>freeThrowsMade</th><th scope=col>freeThrowsAttempted</th><th scope=col>assists</th><th scope=col>turnovers</th><th scope=col>avgSteals</th><th scope=col>avgBlocks</th><th scope=col>steals</th><th scope=col>blocks</th><th scope=col>rankingSalary</th><th scope=col>salary</th></tr>\n",
       "\t<tr><th></th><th scope=col>&lt;int&gt;</th><th scope=col>&lt;int&gt;</th><th scope=col>&lt;int&gt;</th><th scope=col>&lt;int&gt;</th><th scope=col>&lt;int&gt;</th><th scope=col>&lt;int&gt;</th><th scope=col>&lt;int&gt;</th><th scope=col>&lt;int&gt;</th><th scope=col>&lt;int&gt;</th><th scope=col>&lt;int&gt;</th><th scope=col>⋯</th><th scope=col>&lt;int&gt;</th><th scope=col>&lt;int&gt;</th><th scope=col>&lt;int&gt;</th><th scope=col>&lt;int&gt;</th><th scope=col>&lt;int&gt;</th><th scope=col>&lt;int&gt;</th><th scope=col>&lt;int&gt;</th><th scope=col>&lt;int&gt;</th><th scope=col>&lt;int&gt;</th><th scope=col>&lt;int&gt;</th></tr>\n",
       "</thead>\n",
       "<tbody>\n",
       "\t<tr><th scope=row>1</th><td>2009</td><td>366</td><td>57</td><td>36</td><td>1</td><td>0</td><td> 5</td><td>0</td><td> 2</td><td>0</td><td>⋯</td><td>271</td><td>347</td><td>283</td><td>146</td><td>1</td><td>0</td><td> 88</td><td> 6</td><td>429</td><td>650686</td></tr>\n",
       "\t<tr><th scope=row>2</th><td>2010</td><td>366</td><td>28</td><td>30</td><td>1</td><td>0</td><td> 1</td><td>0</td><td> 0</td><td>0</td><td>⋯</td><td>104</td><td>131</td><td>113</td><td> 64</td><td>0</td><td>0</td><td> 19</td><td> 2</td><td>466</td><td>650686</td></tr>\n",
       "\t<tr><th scope=row>3</th><td>2006</td><td>897</td><td>75</td><td>38</td><td>2</td><td>0</td><td> 1</td><td>0</td><td>38</td><td>0</td><td>⋯</td><td>263</td><td>348</td><td>256</td><td>182</td><td>1</td><td>0</td><td>103</td><td>62</td><td>454</td><td>407313</td></tr>\n",
       "\t<tr><th scope=row>4</th><td>2007</td><td>897</td><td>61</td><td>29</td><td>2</td><td>0</td><td> 3</td><td>0</td><td>13</td><td>0</td><td>⋯</td><td>102</td><td>160</td><td>188</td><td>107</td><td>0</td><td>0</td><td> 60</td><td>41</td><td>460</td><td>358107</td></tr>\n",
       "\t<tr><th scope=row>5</th><td>2005</td><td>640</td><td>77</td><td>33</td><td>1</td><td>0</td><td>14</td><td>0</td><td> 7</td><td>0</td><td>⋯</td><td>153</td><td>201</td><td>469</td><td>148</td><td>1</td><td>0</td><td> 88</td><td>12</td><td>378</td><td>719373</td></tr>\n",
       "\t<tr><th scope=row>6</th><td>2006</td><td>640</td><td>81</td><td>28</td><td>2</td><td>0</td><td> 7</td><td>0</td><td> 0</td><td>0</td><td>⋯</td><td>100</td><td>126</td><td>257</td><td>102</td><td>0</td><td>0</td><td> 71</td><td>10</td><td>383</td><td>744551</td></tr>\n",
       "</tbody>\n",
       "</table>\n"
      ],
      "text/latex": [
       "A data.frame: 6 × 41\n",
       "\\begin{tabular}{r|lllllllllllllllllllll}\n",
       "  & year & playerId & gamesPlayed & avgMinutes & avgFouls & flagrantFouls & technicalFouls & ejections & doubleDouble & tripleDouble & ⋯ & freeThrowsMade & freeThrowsAttempted & assists & turnovers & avgSteals & avgBlocks & steals & blocks & rankingSalary & salary\\\\\n",
       "  & <int> & <int> & <int> & <int> & <int> & <int> & <int> & <int> & <int> & <int> & ⋯ & <int> & <int> & <int> & <int> & <int> & <int> & <int> & <int> & <int> & <int>\\\\\n",
       "\\hline\n",
       "\t1 & 2009 & 366 & 57 & 36 & 1 & 0 &  5 & 0 &  2 & 0 & ⋯ & 271 & 347 & 283 & 146 & 1 & 0 &  88 &  6 & 429 & 650686\\\\\n",
       "\t2 & 2010 & 366 & 28 & 30 & 1 & 0 &  1 & 0 &  0 & 0 & ⋯ & 104 & 131 & 113 &  64 & 0 & 0 &  19 &  2 & 466 & 650686\\\\\n",
       "\t3 & 2006 & 897 & 75 & 38 & 2 & 0 &  1 & 0 & 38 & 0 & ⋯ & 263 & 348 & 256 & 182 & 1 & 0 & 103 & 62 & 454 & 407313\\\\\n",
       "\t4 & 2007 & 897 & 61 & 29 & 2 & 0 &  3 & 0 & 13 & 0 & ⋯ & 102 & 160 & 188 & 107 & 0 & 0 &  60 & 41 & 460 & 358107\\\\\n",
       "\t5 & 2005 & 640 & 77 & 33 & 1 & 0 & 14 & 0 &  7 & 0 & ⋯ & 153 & 201 & 469 & 148 & 1 & 0 &  88 & 12 & 378 & 719373\\\\\n",
       "\t6 & 2006 & 640 & 81 & 28 & 2 & 0 &  7 & 0 &  0 & 0 & ⋯ & 100 & 126 & 257 & 102 & 0 & 0 &  71 & 10 & 383 & 744551\\\\\n",
       "\\end{tabular}\n"
      ],
      "text/markdown": [
       "\n",
       "A data.frame: 6 × 41\n",
       "\n",
       "| <!--/--> | year &lt;int&gt; | playerId &lt;int&gt; | gamesPlayed &lt;int&gt; | avgMinutes &lt;int&gt; | avgFouls &lt;int&gt; | flagrantFouls &lt;int&gt; | technicalFouls &lt;int&gt; | ejections &lt;int&gt; | doubleDouble &lt;int&gt; | tripleDouble &lt;int&gt; | ⋯ ⋯ | freeThrowsMade &lt;int&gt; | freeThrowsAttempted &lt;int&gt; | assists &lt;int&gt; | turnovers &lt;int&gt; | avgSteals &lt;int&gt; | avgBlocks &lt;int&gt; | steals &lt;int&gt; | blocks &lt;int&gt; | rankingSalary &lt;int&gt; | salary &lt;int&gt; |\n",
       "|---|---|---|---|---|---|---|---|---|---|---|---|---|---|---|---|---|---|---|---|---|---|\n",
       "| 1 | 2009 | 366 | 57 | 36 | 1 | 0 |  5 | 0 |  2 | 0 | ⋯ | 271 | 347 | 283 | 146 | 1 | 0 |  88 |  6 | 429 | 650686 |\n",
       "| 2 | 2010 | 366 | 28 | 30 | 1 | 0 |  1 | 0 |  0 | 0 | ⋯ | 104 | 131 | 113 |  64 | 0 | 0 |  19 |  2 | 466 | 650686 |\n",
       "| 3 | 2006 | 897 | 75 | 38 | 2 | 0 |  1 | 0 | 38 | 0 | ⋯ | 263 | 348 | 256 | 182 | 1 | 0 | 103 | 62 | 454 | 407313 |\n",
       "| 4 | 2007 | 897 | 61 | 29 | 2 | 0 |  3 | 0 | 13 | 0 | ⋯ | 102 | 160 | 188 | 107 | 0 | 0 |  60 | 41 | 460 | 358107 |\n",
       "| 5 | 2005 | 640 | 77 | 33 | 1 | 0 | 14 | 0 |  7 | 0 | ⋯ | 153 | 201 | 469 | 148 | 1 | 0 |  88 | 12 | 378 | 719373 |\n",
       "| 6 | 2006 | 640 | 81 | 28 | 2 | 0 |  7 | 0 |  0 | 0 | ⋯ | 100 | 126 | 257 | 102 | 0 | 0 |  71 | 10 | 383 | 744551 |\n",
       "\n"
      ],
      "text/plain": [
       "  year playerId gamesPlayed avgMinutes avgFouls flagrantFouls technicalFouls\n",
       "1 2009 366      57          36         1        0              5            \n",
       "2 2010 366      28          30         1        0              1            \n",
       "3 2006 897      75          38         2        0              1            \n",
       "4 2007 897      61          29         2        0              3            \n",
       "5 2005 640      77          33         1        0             14            \n",
       "6 2006 640      81          28         2        0              7            \n",
       "  ejections doubleDouble tripleDouble ⋯ freeThrowsMade freeThrowsAttempted\n",
       "1 0          2           0            ⋯ 271            347                \n",
       "2 0          0           0            ⋯ 104            131                \n",
       "3 0         38           0            ⋯ 263            348                \n",
       "4 0         13           0            ⋯ 102            160                \n",
       "5 0          7           0            ⋯ 153            201                \n",
       "6 0          0           0            ⋯ 100            126                \n",
       "  assists turnovers avgSteals avgBlocks steals blocks rankingSalary salary\n",
       "1 283     146       1         0          88     6     429           650686\n",
       "2 113      64       0         0          19     2     466           650686\n",
       "3 256     182       1         0         103    62     454           407313\n",
       "4 188     107       0         0          60    41     460           358107\n",
       "5 469     148       1         0          88    12     378           719373\n",
       "6 257     102       0         0          71    10     383           744551"
      ]
     },
     "metadata": {},
     "output_type": "display_data"
    }
   ],
   "source": [
    "#Baseado na analise acima iremos criar um filtro para valores acima do terceiro quartil\n",
    "df_1st_QT <- new_df %>% filter(rankingSalary <= 90) # Filtro para os MAIORES salários, dentro do primeiro quartil de raking de salário\n",
    "\n",
    "df_2nd_QT <- new_df %>% filter(rankingSalary > 90 & rankingSalary <= 210 ) # Filtro para os MAIORES salários, dentro do primeiro quartil de raking de salário\n",
    "\n",
    "df_3rd_QT <- new_df %>% filter(rankingSalary > 210 & rankingSalary <= 321 ) # Filtro para os MAIORES salários, dentro do primeiro quartil de raking de salário\n",
    "\n",
    "df_4rd_QT <- new_df %>% filter(rankingSalary > 321 ) # Filtro para os MAIORES salários, dentro do primeiro quartil de raking de salário\n",
    "\n",
    "\n",
    "# Mstra o dataframe resultante\n",
    "head(df_1st_QT)\n",
    "\n",
    "head(df_2nd_QT)\n",
    "\n",
    "head(df_3rd_QT)\n",
    "\n",
    "head(df_4rd_QT)"
   ]
  },
  {
   "cell_type": "markdown",
   "id": "b16330f5",
   "metadata": {},
   "source": [
    "Comparando gráficamente os salários e a média de pontos realizados por partida"
   ]
  },
  {
   "cell_type": "code",
   "execution_count": 288,
   "id": "4a5fa9d1",
   "metadata": {
    "vscode": {
     "languageId": "r"
    }
   },
   "outputs": [
    {
     "data": {
      "image/png": "[encoded data removed]",
      "text/plain": [
       "plot without title"
      ]
     },
     "metadata": {
      "image/png": {
       "height": 420,
       "width": 420
      }
     },
     "output_type": "display_data"
    },
    {
     "data": {
      "image/png": "[encoded data removed]",
      "text/plain": [
       "plot without title"
      ]
     },
     "metadata": {
      "image/png": {
       "height": 420,
       "width": 420
      }
     },
     "output_type": "display_data"
    }
   ],
   "source": [
    "\n",
    "df_1st_QT <- df_1st_QT %>% mutate(Quartile = \"1st\")\n",
    "df_2nd_QT <- df_2nd_QT %>% mutate(Quartile = \"2nd\")\n",
    "df_3rd_QT <- df_3rd_QT %>% mutate(Quartile = \"3rd\")\n",
    "df_4rd_QT <- df_4rd_QT %>% mutate(Quartile = \"4th\")\n",
    "\n",
    "#Criando bloxplot para a média de pontos por partida\n",
    "combined_df <- bind_rows(df_1st_QT, df_2nd_QT, df_3rd_QT, df_4rd_QT)\n",
    "\n",
    "ggplot(combined_df, aes(x = Quartile, y = avgPoints, fill = Quartile)) +\n",
    "  geom_boxplot() +\n",
    "  labs(\n",
    "    title = \"Comparação de média de pontos por Quartil de Ranking\",\n",
    "    x = \"Quartil de Ranking\",\n",
    "    y = \"Média de Pontos\"\n",
    "  ) +\n",
    "  theme_minimal()\n",
    "\n",
    "\n",
    "#Criando bloxplot para a média de pontos por partida\n",
    "\n",
    "ggplot(combined_df, aes(x = Quartile, y = salary, fill = Quartile)) +\n",
    "  geom_boxplot() +\n",
    "  labs(\n",
    "    title = \"Comparação de Salários por Quartil de Ranking\",\n",
    "    x = \"Quartil de Ranking\",\n",
    "    y = \"Salário\"\n",
    "  ) +\n",
    "  theme_minimal()\n"
   ]
  },
  {
   "cell_type": "markdown",
   "id": "6cc70a2d",
   "metadata": {},
   "source": [
    "------------------------------\n",
    "**Conclusão**\n",
    "\n",
    "Baseado nos dados apresentados acima, podemos ver que o salário está diretamente ligado a quantidade de pontos médio que o jogador faz em um jogo e como consequência está ligado diretamente as tentativas de pontos.\n"
   ]
  }
 ],
 "metadata": {
  "kernelspec": {
   "display_name": "R",
   "language": "R",
   "name": "ir"
  },
  "language_info": {
   "codemirror_mode": "r",
   "file_extension": ".r",
   "mimetype": "text/x-r-source",
   "name": "R",
   "pygments_lexer": "r",
   "version": "4.4.3"
  }
 },
 "nbformat": 4,
 "nbformat_minor": 5
}
